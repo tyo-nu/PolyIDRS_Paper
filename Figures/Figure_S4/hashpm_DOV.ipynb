{
 "cells": [
  {
   "cell_type": "markdown",
   "id": "3db61818-436c-430a-a17d-5f96c648e4a2",
   "metadata": {
    "tags": []
   },
   "source": [
    "# DOV using (Hash, pm) tuple\n",
    "Notebook to create DOV for the message passing networks.\n",
    "\n",
    "Done in steps:\n",
    "1. Get the # Feature dictionaries for range of nBits, Degree\n",
    "2. Get the Balanced Accuracy for All entries in dict\n",
    "3. Choose best radius, nBits\n",
    "4. plot Error for # missing, and confusion matrix"
   ]
  },
  {
   "cell_type": "code",
   "execution_count": 1,
   "id": "efd005bb-0753-4416-ae3d-e75cca4f9ed1",
   "metadata": {},
   "outputs": [],
   "source": [
    "import pandas as pd\n",
    "import seaborn as sns\n",
    "import pickle as pk\n",
    "from numpy import std\n",
    "import numpy as np\n",
    "\n",
    "from rdkit.Chem import AllChem\n",
    "from rdkit import DataStructs\n",
    "\n",
    "from polyml.polyml import MultiModel\n",
    "\n",
    "from collections import defaultdict\n",
    "import matplotlib.pyplot as plt\n",
    "\n",
    "from sklearn.metrics import confusion_matrix, balanced_accuracy_score, f1_score"
   ]
  },
  {
   "cell_type": "code",
   "execution_count": 2,
   "id": "5508a063-114f-49d9-bb9e-8f1b8f134c15",
   "metadata": {
    "tags": []
   },
   "outputs": [],
   "source": [
    "# Define Features\n",
    "def get_ring_size(obj, max_size=12):\n",
    "    if not obj.IsInRing():\n",
    "        return 0\n",
    "    else:\n",
    "        for i in range(max_size):\n",
    "            if obj.IsInRingSize(i):\n",
    "                return i\n",
    "        else:\n",
    "            return \"max\"\n",
    "\n",
    "\n",
    "def bond_features_v1(bond, **kwargs):\n",
    "    \"\"\" Return an integer hash representing the bond type.\n",
    "\n",
    "    flipped : bool\n",
    "        Only valid for 'v3' version, whether to swap the begin and end atom\n",
    "        types\n",
    "\n",
    "    \"\"\"\n",
    "    return str(\n",
    "        (\n",
    "            bond.GetBondType(),\n",
    "            bond.GetIsConjugated(),\n",
    "            bond.IsInRing(),\n",
    "            sorted([bond.GetBeginAtom().GetSymbol(), bond.GetEndAtom().GetSymbol()]),\n",
    "        )\n",
    "    )\n",
    "\n",
    "\n",
    "def atom_features_v2(atom):\n",
    "    props = [\n",
    "        \"GetChiralTag\",\n",
    "        \"GetDegree\",\n",
    "        \"GetExplicitValence\",\n",
    "        \"GetFormalCharge\",\n",
    "        \"GetHybridization\",\n",
    "        \"GetImplicitValence\",\n",
    "        \"GetIsAromatic\",\n",
    "        \"GetNoImplicit\",\n",
    "        \"GetNumExplicitHs\",\n",
    "        \"GetNumImplicitHs\",\n",
    "        \"GetNumRadicalElectrons\",\n",
    "        \"GetSymbol\",\n",
    "        \"GetTotalDegree\",\n",
    "        \"GetTotalNumHs\",\n",
    "        \"GetTotalValence\",\n",
    "    ]\n",
    "\n",
    "    atom_type = [getattr(atom, prop)() for prop in props]\n",
    "    atom_type += [get_ring_size(atom)]\n",
    "\n",
    "    return str(tuple(atom_type))\n",
    "\n",
    "# Code that generates a dictionary to calculate DOV\n",
    "# hashed_morgan_element: set(pm1, pm2)\n",
    "def get_DOV_dict(df, radius=2, nBits=2048):\n",
    "    DOV_dict = defaultdict(set)\n",
    "\n",
    "    for i, row in df.iterrows():\n",
    "        m = AllChem.MolFromSmiles(row.smiles_polymer)\n",
    "        fp = AllChem.GetHashedMorganFingerprint(m, radius=radius, nBits=nBits\n",
    "        )\n",
    "\n",
    "        for key in fp.GetNonzeroElements():\n",
    "            DOV_dict[key].add(row.pm)\n",
    "    \n",
    "    return DOV_dict\n",
    "\n",
    "# Function that takes in a molecule and a dpm value\n",
    "# gets the morgan fingerprints, and sees if that feature\n",
    "# has been trained for a similar pm\n",
    "\n",
    "def get_num_missing_features(smi, pm, dpm, DOV_dict, radius=2, nBits=2048):\n",
    "    num_missing_features = 0\n",
    "    \n",
    "    m = AllChem.MolFromSmiles(smi)\n",
    "    fp = AllChem.GetHashedMorganFingerprint(m, radius=radius, nBits=nBits)\n",
    "    \n",
    "    for i, key in enumerate(fp.GetNonzeroElements()):\n",
    "        if key not in DOV_dict:\n",
    "            num_missing_features += 1\n",
    "        else:\n",
    "            matching_pm = False\n",
    "            for pm_loc in DOV_dict[key]:\n",
    "                min_pm = pm_loc-dpm\n",
    "                max_pm = pm_loc+dpm\n",
    "                if min_pm <= pm and pm <= max_pm:\n",
    "                    matching_pm = True\n",
    "                    break\n",
    "            \n",
    "            if not matching_pm:\n",
    "                num_missing_features += 1\n",
    "    \n",
    "    return num_missing_features\n",
    "\n",
    "def get_kfold_DOV_error(kfold, radius=2, dpm=0.05, nBits=2048):\n",
    "    df_results = pd.DataFrame()\n",
    "    kfold_DOV_dict = get_DOV_dict(kfold.df_train, radius=radius, nBits=nBits)\n",
    "    \n",
    "    for i, row in kfold.df_validate_results.iterrows():\n",
    "        num_missing_features = get_num_missing_features(row.smiles_polymer, row.pm, dpm, kfold_DOV_dict, radius=radius, nBits=nBits)\n",
    "        tg_ae = abs(row.Tg - row.Tg_pred) if row.Tg else None\n",
    "        tm_ae = abs(row.Tm - row.Tm_pred) if row.Tg else None\n",
    "        \n",
    "        df_results = pd.concat(\n",
    "            [\n",
    "                df_results,\n",
    "                pd.DataFrame(\n",
    "                    [{\"num_missing_features\": num_missing_features,\n",
    "                     \"tg_ae\": tg_ae,\n",
    "                     \"tm_ae\": tm_ae\n",
    "                    }],\n",
    "                    columns=[\"num_missing_features\", \"tg_ae\", \"tm_ae\"]\n",
    "                )\n",
    "            ]\n",
    "        )\n",
    "        \n",
    "        \n",
    "    df_results = pd.concat([kfold.df_validate_results.reset_index(drop=True), df_results.reset_index(drop=True)], axis=1)\n",
    "    return df_results\n",
    "\n",
    "def get_smiles_DOV(smi, pm, kfold_DOV_dict, radius=2, dpm=0.05, nBits=2048):\n",
    "    df_results = pd.DataFrame()\n",
    "    \n",
    "    num_missing_features = get_num_missing_features(smi, pm, dpm, kfold_DOV_dict, radius=radius, nBits=nBits)\n",
    "        \n",
    "    return num_missing_features\n",
    "    \n",
    "def get_DOV_errs(num_missing_features, kfolds_DOV):\n",
    "    kfolds_DOV[\"Tg_err\"] = abs(kfolds_DOV[\"Tg_err\"])\n",
    "    kfolds_DOV[\"Tm_err\"] = abs(kfolds_DOV[\"Tm_err\"])\n",
    "    df = kfolds_DOV[kfolds_DOV.num_missing_features <= num_missing_features].groupby(by=\"kfold_i\").agg(\"mean\").reset_index()\n",
    "    df[\"lte_missing_features\"] = num_missing_features\n",
    "    return df\n",
    "\n",
    "# Classify\n",
    "def eval_col_classify(row, var=\"Tg\"):\n",
    "    row_classify = row[f\"{var}_outlier\"]\n",
    "    if row_classify and (row.outlier_pred == True):\n",
    "        return \"tp\"\n",
    "    elif row_classify and (row.outlier_pred == False):\n",
    "        return \"fp\"\n",
    "    elif (row_classify == False) and (row.outlier_pred == True):\n",
    "        return \"fn\"\n",
    "    else:\n",
    "        return \"tn\"\n",
    "    \n",
    "def df_to_F1(df, var=\"Tg\"):\n",
    "    try:\n",
    "        tp = sum(df[f\"{var}_eval\"] == \"tp\")\n",
    "        fp = sum(df[f\"{var}_eval\"] == \"fp\")\n",
    "        fn = sum(df[f\"{var}_eval\"] == \"fn\")\n",
    "        return tp/(tp + 1/2*(fp+fn))\n",
    "    except:\n",
    "        return None\n",
    "    \n",
    "def df_to_balanced_accuracy(df, var=\"Tg\"):\n",
    "    try:\n",
    "#         tp = sum(df[f\"{var}_eval\"] == \"tp\")\n",
    "#         fp = sum(df[f\"{var}_eval\"] == \"fp\")\n",
    "#         fn = sum(df[f\"{var}_eval\"] == \"fn\")\n",
    "#         tn = sum(df[f\"{var}_eval\"] == \"tn\")\n",
    "        \n",
    "#         tp = tp if tp else 0\n",
    "#         fp = fp if fp else 0\n",
    "#         fn = fn if fn else 0\n",
    "#         tn = tn if tn else 0\n",
    "#         return ((tp/(tp+fn)) + (tn/(tn+fp)))/2\n",
    "        return balanced_accuracy_score(df[f\"{var}_outlier\"], df.outlier)\n",
    "    except:\n",
    "        return None\n",
    "    \n",
    "def df_to_metric(df, metric, var=\"Tg\"):\n",
    "    try:\n",
    "        y_true = df.loc[~df[f\"{var}_outlier\"].isna(), f\"{var}_outlier\"]\n",
    "        y_pred = df.loc[~df[f\"{var}_outlier\"].isna(), \"outlier_pred\"]\n",
    "        return metric(y_true, y_pred)\n",
    "    except:\n",
    "        return None\n",
    "    \n",
    "def kfolds_F1(df, var=\"Tg\"):\n",
    "    F1_list = list()\n",
    "    for kfold in range(10):\n",
    "        F1_list.append(df_to_F1(df[df.kfold_i == kfold]))\n",
    "        \n",
    "    return F1_list"
   ]
  },
  {
   "cell_type": "markdown",
   "id": "319ce990-8722-4cf0-b987-83fd855aa142",
   "metadata": {},
   "source": [
    "# Load Data and Get Std"
   ]
  },
  {
   "cell_type": "code",
   "execution_count": 4,
   "id": "7fe26b78-4b24-4fbc-917a-c5bd2d865332",
   "metadata": {
    "tags": []
   },
   "outputs": [
    {
     "name": "stdout",
     "output_type": "stream",
     "text": [
      "../data/2200504_af64_bf64_mf8_mg10_DP25_R5_K10_global_pm/parameters.pk\n"
     ]
    },
    {
     "name": "stderr",
     "output_type": "stream",
     "text": [
      "2023-03-16 08:59:31.669822: I tensorflow/core/platform/cpu_feature_guard.cc:142] This TensorFlow binary is optimized with oneAPI Deep Neural Network Library (oneDNN) to use the following CPU instructions in performance-critical operations:  SSE4.1 SSE4.2 AVX AVX2 FMA\n",
      "To enable them in other operations, rebuild TensorFlow with the appropriate compiler flags.\n"
     ]
    }
   ],
   "source": [
    "mm = MultiModel().load_models(\"../data/2200504_af64_bf64_mf8_mg10_DP25_R5_K10_global_pm/\")\n",
    "\n",
    "df_agg = pd.DataFrame()\n",
    "for model in mm.models:\n",
    "    df_agg = pd.concat([df_agg, model.df_validate_results])\n",
    "\n",
    "std_Tg = std([i for i in abs(df_agg.Tg_err) if i >= 0])\n",
    "std_Tm = std([i for i in abs(df_agg.Tm_err) if i >= 0])"
   ]
  },
  {
   "cell_type": "markdown",
   "id": "a94c351b-44da-4e34-8053-3f0ae3fd6282",
   "metadata": {},
   "source": [
    "# Loop Over Params and Make Dict\n",
    "\n",
    "Here we looped over radius, nBits, and dpm.\n",
    "\n",
    "The nBits don't matter, what matters is dpm and radius"
   ]
  },
  {
   "cell_type": "code",
   "execution_count": 12,
   "id": "fe95974b-9e26-405d-b58b-7908edb126ca",
   "metadata": {
    "tags": []
   },
   "outputs": [
    {
     "name": "stdout",
     "output_type": "stream",
     "text": [
      "rad 0 -- nBits 64 -- dp 0.1\n",
      "rad 0 -- nBits 64 -- dp 0.05\n",
      "rad 0 -- nBits 64 -- dp 0.01\n",
      "rad 0 -- nBits 128 -- dp 0.1\n",
      "rad 0 -- nBits 128 -- dp 0.05\n",
      "rad 0 -- nBits 128 -- dp 0.01\n",
      "rad 0 -- nBits 256 -- dp 0.1\n",
      "rad 0 -- nBits 256 -- dp 0.05\n",
      "rad 0 -- nBits 256 -- dp 0.01\n",
      "rad 0 -- nBits 512 -- dp 0.1\n",
      "rad 0 -- nBits 512 -- dp 0.05\n",
      "rad 0 -- nBits 512 -- dp 0.01\n",
      "rad 0 -- nBits 1024 -- dp 0.1\n",
      "rad 0 -- nBits 1024 -- dp 0.05\n",
      "rad 0 -- nBits 1024 -- dp 0.01\n",
      "rad 0 -- nBits 2048 -- dp 0.1\n",
      "rad 0 -- nBits 2048 -- dp 0.05\n",
      "rad 0 -- nBits 2048 -- dp 0.01\n",
      "rad 1 -- nBits 64 -- dp 0.1\n",
      "rad 1 -- nBits 64 -- dp 0.05\n",
      "rad 1 -- nBits 64 -- dp 0.01\n",
      "rad 1 -- nBits 128 -- dp 0.1\n",
      "rad 1 -- nBits 128 -- dp 0.05\n",
      "rad 1 -- nBits 128 -- dp 0.01\n",
      "rad 1 -- nBits 256 -- dp 0.1\n",
      "rad 1 -- nBits 256 -- dp 0.05\n",
      "rad 1 -- nBits 256 -- dp 0.01\n",
      "rad 1 -- nBits 512 -- dp 0.1\n",
      "rad 1 -- nBits 512 -- dp 0.05\n",
      "rad 1 -- nBits 512 -- dp 0.01\n",
      "rad 1 -- nBits 1024 -- dp 0.1\n",
      "rad 1 -- nBits 1024 -- dp 0.05\n",
      "rad 1 -- nBits 1024 -- dp 0.01\n",
      "rad 1 -- nBits 2048 -- dp 0.1\n",
      "rad 1 -- nBits 2048 -- dp 0.05\n",
      "rad 1 -- nBits 2048 -- dp 0.01\n",
      "rad 2 -- nBits 64 -- dp 0.1\n",
      "rad 2 -- nBits 64 -- dp 0.05\n",
      "rad 2 -- nBits 64 -- dp 0.01\n",
      "rad 2 -- nBits 128 -- dp 0.1\n",
      "rad 2 -- nBits 128 -- dp 0.05\n",
      "rad 2 -- nBits 128 -- dp 0.01\n",
      "rad 2 -- nBits 256 -- dp 0.1\n",
      "rad 2 -- nBits 256 -- dp 0.05\n",
      "rad 2 -- nBits 256 -- dp 0.01\n",
      "rad 2 -- nBits 512 -- dp 0.1\n",
      "rad 2 -- nBits 512 -- dp 0.05\n",
      "rad 2 -- nBits 512 -- dp 0.01\n",
      "rad 2 -- nBits 1024 -- dp 0.1\n",
      "rad 2 -- nBits 1024 -- dp 0.05\n",
      "rad 2 -- nBits 1024 -- dp 0.01\n",
      "rad 2 -- nBits 2048 -- dp 0.1\n",
      "rad 2 -- nBits 2048 -- dp 0.05\n",
      "rad 2 -- nBits 2048 -- dp 0.01\n",
      "rad 3 -- nBits 64 -- dp 0.1\n",
      "rad 3 -- nBits 64 -- dp 0.05\n",
      "rad 3 -- nBits 64 -- dp 0.01\n",
      "rad 3 -- nBits 128 -- dp 0.1\n",
      "rad 3 -- nBits 128 -- dp 0.05\n",
      "rad 3 -- nBits 128 -- dp 0.01\n",
      "rad 3 -- nBits 256 -- dp 0.1\n",
      "rad 3 -- nBits 256 -- dp 0.05\n",
      "rad 3 -- nBits 256 -- dp 0.01\n",
      "rad 3 -- nBits 512 -- dp 0.1\n",
      "rad 3 -- nBits 512 -- dp 0.05\n",
      "rad 3 -- nBits 512 -- dp 0.01\n",
      "rad 3 -- nBits 1024 -- dp 0.1\n",
      "rad 3 -- nBits 1024 -- dp 0.05\n",
      "rad 3 -- nBits 1024 -- dp 0.01\n",
      "rad 3 -- nBits 2048 -- dp 0.1\n",
      "rad 3 -- nBits 2048 -- dp 0.05\n",
      "rad 3 -- nBits 2048 -- dp 0.01\n",
      "rad 4 -- nBits 64 -- dp 0.1\n",
      "rad 4 -- nBits 64 -- dp 0.05\n",
      "rad 4 -- nBits 64 -- dp 0.01\n",
      "rad 4 -- nBits 128 -- dp 0.1\n",
      "rad 4 -- nBits 128 -- dp 0.05\n",
      "rad 4 -- nBits 128 -- dp 0.01\n",
      "rad 4 -- nBits 256 -- dp 0.1\n",
      "rad 4 -- nBits 256 -- dp 0.05\n",
      "rad 4 -- nBits 256 -- dp 0.01\n",
      "rad 4 -- nBits 512 -- dp 0.1\n",
      "rad 4 -- nBits 512 -- dp 0.05\n",
      "rad 4 -- nBits 512 -- dp 0.01\n",
      "rad 4 -- nBits 1024 -- dp 0.1\n",
      "rad 4 -- nBits 1024 -- dp 0.05\n",
      "rad 4 -- nBits 1024 -- dp 0.01\n",
      "rad 4 -- nBits 2048 -- dp 0.1\n",
      "rad 4 -- nBits 2048 -- dp 0.05\n",
      "rad 4 -- nBits 2048 -- dp 0.01\n",
      "rad 5 -- nBits 64 -- dp 0.1\n",
      "rad 5 -- nBits 64 -- dp 0.05\n",
      "rad 5 -- nBits 64 -- dp 0.01\n",
      "rad 5 -- nBits 128 -- dp 0.1\n",
      "rad 5 -- nBits 128 -- dp 0.05\n",
      "rad 5 -- nBits 128 -- dp 0.01\n",
      "rad 5 -- nBits 256 -- dp 0.1\n",
      "rad 5 -- nBits 256 -- dp 0.05\n",
      "rad 5 -- nBits 256 -- dp 0.01\n",
      "rad 5 -- nBits 512 -- dp 0.1\n",
      "rad 5 -- nBits 512 -- dp 0.05\n",
      "rad 5 -- nBits 512 -- dp 0.01\n",
      "rad 5 -- nBits 1024 -- dp 0.1\n",
      "rad 5 -- nBits 1024 -- dp 0.05\n",
      "rad 5 -- nBits 1024 -- dp 0.01\n",
      "rad 5 -- nBits 2048 -- dp 0.1\n",
      "rad 5 -- nBits 2048 -- dp 0.05\n",
      "rad 5 -- nBits 2048 -- dp 0.01\n",
      "rad 6 -- nBits 64 -- dp 0.1\n",
      "rad 6 -- nBits 64 -- dp 0.05\n",
      "rad 6 -- nBits 64 -- dp 0.01\n",
      "rad 6 -- nBits 128 -- dp 0.1\n",
      "rad 6 -- nBits 128 -- dp 0.05\n",
      "rad 6 -- nBits 128 -- dp 0.01\n",
      "rad 6 -- nBits 256 -- dp 0.1\n",
      "rad 6 -- nBits 256 -- dp 0.05\n",
      "rad 6 -- nBits 256 -- dp 0.01\n",
      "rad 6 -- nBits 512 -- dp 0.1\n",
      "rad 6 -- nBits 512 -- dp 0.05\n",
      "rad 6 -- nBits 512 -- dp 0.01\n",
      "rad 6 -- nBits 1024 -- dp 0.1\n",
      "rad 6 -- nBits 1024 -- dp 0.05\n",
      "rad 6 -- nBits 1024 -- dp 0.01\n",
      "rad 6 -- nBits 2048 -- dp 0.1\n",
      "rad 6 -- nBits 2048 -- dp 0.05\n",
      "rad 6 -- nBits 2048 -- dp 0.01\n"
     ]
    }
   ],
   "source": [
    "models_dict = {}\n",
    "\n",
    "for radius in [0, 1, 2, 3, 4, 5, 6]:\n",
    "    for nBits in [64, 128, 256, 512, 1024, 2048]:\n",
    "        for dpm in [0.1, 0.05, 0.01]:\n",
    "            kfolds_DOV = pd.DataFrame()\n",
    "            print(f\"rad {radius} -- nBits {nBits} -- dp {dpm}\")\n",
    "            for i, kfold in enumerate(mm.models):\n",
    "                kfold_DOV = get_kfold_DOV_error(kfold, radius=radius, nBits=nBits, dpm=dpm)\n",
    "                kfold_DOV[\"kfold_i\"] = i\n",
    "\n",
    "                kfolds_DOV = pd.concat([kfolds_DOV, kfold_DOV])\n",
    "\n",
    "            kfolds_DOV[\"Tm_err\"] = abs(kfolds_DOV[\"Tm_err\"])\n",
    "            kfolds_DOV[\"Tg_err\"] = abs(kfolds_DOV[\"Tg_err\"])\n",
    "\n",
    "            kfolds_DOV[\"Tg_outlier\"] = kfolds_DOV.tg_ae >= std_Tg\n",
    "            kfolds_DOV[\"Tm_outlier\"] = kfolds_DOV.tm_ae >= std_Tm\n",
    "            # kfolds_DOV[\"outlier_pred\"] = kfolds_DOV.num_missing_features >= threshold_missing_features\n",
    "\n",
    "            models_dict[(radius, nBits, dpm)] = kfolds_DOV\n",
    "        \n",
    "import pickle as pk\n",
    "with open(\"MPNN_kfold_DOV_dict.pk\", \"wb\") as f:\n",
    "    pk.dump(models_dict, f)"
   ]
  },
  {
   "cell_type": "code",
   "execution_count": 5,
   "id": "43c8a7ea-2cd2-4daa-81e7-0c26e6aa9daf",
   "metadata": {},
   "outputs": [],
   "source": [
    "# Load data \n",
    "import pickle as pk\n",
    "with open(\"MPNN_kfold_DOV_dict.pk\", \"rb\") as f:\n",
    "    models_dict = pk.load(f)"
   ]
  },
  {
   "cell_type": "markdown",
   "id": "1e66264f-78a5-43d1-9f97-cf9a5412eef3",
   "metadata": {},
   "source": [
    "# Calculate Classification Scores"
   ]
  },
  {
   "cell_type": "markdown",
   "id": "6664a22c-e169-48e5-aa3d-9e244dafdfc7",
   "metadata": {},
   "source": [
    "## Classify Based on Error"
   ]
  },
  {
   "cell_type": "code",
   "execution_count": 6,
   "id": "df4d6275-f50d-4b4b-b3fe-68c8cd02c43a",
   "metadata": {},
   "outputs": [],
   "source": [
    "tg_err = std_Tg*1.5\n",
    "tm_err = std_Tm*1.5\n",
    "\n",
    "def is_outlier(err, thresh):\n",
    "    if np.isnan(err):\n",
    "        return None\n",
    "    else:\n",
    "        if err >= thresh:\n",
    "            return \"outside\"\n",
    "        else:\n",
    "            return \"inside\"\n",
    "        \n",
    "for key, kfolds_DOV in models_dict.items():\n",
    "    kfolds_DOV = models_dict[key]\n",
    "\n",
    "    kfolds_DOV[\"Tm_err\"] = abs(kfolds_DOV[\"Tm_err\"])\n",
    "    kfolds_DOV[\"Tg_err\"] = abs(kfolds_DOV[\"Tg_err\"])\n",
    "    \n",
    "    kfolds_DOV[\"Tm_outlier\"] = kfolds_DOV.Tm_err.apply(lambda v: is_outlier(v, tm_err))\n",
    "    kfolds_DOV[\"Tg_outlier\"] = kfolds_DOV.Tg_err.apply(lambda v: is_outlier(v, tg_err))\n",
    "\n",
    "    # kfolds_DOV[\"outlier_pred\"] = kfolds_DOV.num_missing_features >= threshold_missing_features\n",
    "\n",
    "    models_dict[key] = kfolds_DOV"
   ]
  },
  {
   "cell_type": "markdown",
   "id": "46f1b449-8d14-4436-ba7c-ed72451069e2",
   "metadata": {},
   "source": [
    "## Calculate balanced acc"
   ]
  },
  {
   "cell_type": "code",
   "execution_count": 7,
   "id": "61c7360d-4f80-438c-a61d-3af4ad1e9339",
   "metadata": {},
   "outputs": [],
   "source": [
    "models_score_dict = dict()\n",
    "for key, df_model_DOV in models_dict.items():\n",
    "    model_scores = {\n",
    "        # \"F1\": {\"Tg\": [], \"Tm\": []},\n",
    "        \"balanced_accuracy\": {\"Tg\": [], \"Tm\": []}\n",
    "    }\n",
    "\n",
    "    for threshold_missing_features in range(1, max(df_model_DOV.num_missing_features)+1):\n",
    "        df_model_DOV[\"outlier_pred\"] = df_model_DOV.num_missing_features >= threshold_missing_features\n",
    "        df_model_DOV[\"outlier_pred\"] = df_model_DOV.outlier_pred.apply(lambda v: \"outside\" if v else \"inside\")        # df_model_DOV[\"Tg_eval\"] = df_model_DOV.apply(lambda row: eval_col_classify(row, \"Tg\"), axis=1)\n",
    "\n",
    "        model_scores[\"balanced_accuracy\"][\"Tg\"].append((threshold_missing_features, df_to_metric(df_model_DOV, balanced_accuracy_score, \"Tg\")))\n",
    "        model_scores[\"balanced_accuracy\"][\"Tm\"].append((threshold_missing_features, df_to_metric(df_model_DOV, balanced_accuracy_score, \"Tm\")))\n",
    "        \n",
    "    models_score_dict[key] = model_scores"
   ]
  },
  {
   "cell_type": "markdown",
   "id": "4aac6d22-ef31-4f37-a3cf-84ff97fc1d5d",
   "metadata": {},
   "source": [
    "## Get Best Params for each Model"
   ]
  },
  {
   "cell_type": "code",
   "execution_count": 8,
   "id": "d2c03229-cb7f-41bc-b9d6-0581e4c24275",
   "metadata": {},
   "outputs": [],
   "source": [
    "best_scores_dict = dict()\n",
    "for key, model_i_scores in models_score_dict.items():\n",
    "    model_i_scores[\"balanced_accuracy\"][\"Tg\"].sort(key=(lambda x: (-x[1], x[0])))\n",
    "    model_i_scores[\"balanced_accuracy\"][\"Tm\"].sort(key=(lambda x: (-x[1], x[0])))\n",
    "    \n",
    "    if model_i_scores[\"balanced_accuracy\"][\"Tg\"] and model_i_scores[\"balanced_accuracy\"][\"Tm\"]:\n",
    "        model_best_scores = {\n",
    "            \"balanced_accuracy\": {\n",
    "                \"Tg\": model_i_scores[\"balanced_accuracy\"][\"Tg\"][0],\n",
    "                \"Tm\": model_i_scores[\"balanced_accuracy\"][\"Tm\"][0]\n",
    "            }\n",
    "        }\n",
    "    \n",
    "    best_scores_dict[key] = model_best_scores"
   ]
  },
  {
   "cell_type": "markdown",
   "id": "2fd82ece-d6c7-42ff-892c-a3f0e2fa104f",
   "metadata": {},
   "source": [
    "## Convert to DataFrame"
   ]
  },
  {
   "cell_type": "code",
   "execution_count": 9,
   "id": "7504f589-3e85-4f33-8ca3-0e8f536a11af",
   "metadata": {},
   "outputs": [],
   "source": [
    "vals_list = []\n",
    "for key, val in best_scores_dict.items():\n",
    "    l = list(key) + [\n",
    "        # val[\"F1\"][\"Tg\"][0], val[\"F1\"][\"Tg\"][1],\n",
    "        # val[\"F1\"][\"Tm\"][0], val[\"F1\"][\"Tm\"][1],\n",
    "        val[\"balanced_accuracy\"][\"Tg\"][0], val[\"balanced_accuracy\"][\"Tg\"][1],\n",
    "        val[\"balanced_accuracy\"][\"Tm\"][0], val[\"balanced_accuracy\"][\"Tm\"][1],\n",
    "        (val[\"balanced_accuracy\"][\"Tg\"][1]+val[\"balanced_accuracy\"][\"Tm\"][1])/2\n",
    "    ]\n",
    "    vals_list.append(l)\n",
    "    \n",
    "df_res = pd.DataFrame(vals_list, columns=[\n",
    "        \"Degree\", \"nBits\", \"dpm\",\n",
    "        # \"F1_Tg_feat\", \"F1_Tg_val\",\n",
    "        # \"F1_Tm_feat\", \"F1_Tm_val\",\n",
    "        \"BA_Tg_feat\", \"BA_Tg_val\",\n",
    "        \"Ba_Tm_feat\", \"BA_Tm_val\",\n",
    "        \"BA_Tm_Tg_mean\"\n",
    "    ]\n",
    ")"
   ]
  },
  {
   "cell_type": "code",
   "execution_count": 10,
   "id": "9552dcfa-bfa5-45e8-b97d-2cce2a77b579",
   "metadata": {},
   "outputs": [
    {
     "data": {
      "text/html": [
       "<div>\n",
       "<style scoped>\n",
       "    .dataframe tbody tr th:only-of-type {\n",
       "        vertical-align: middle;\n",
       "    }\n",
       "\n",
       "    .dataframe tbody tr th {\n",
       "        vertical-align: top;\n",
       "    }\n",
       "\n",
       "    .dataframe thead th {\n",
       "        text-align: right;\n",
       "    }\n",
       "</style>\n",
       "<table border=\"1\" class=\"dataframe\">\n",
       "  <thead>\n",
       "    <tr style=\"text-align: right;\">\n",
       "      <th></th>\n",
       "      <th>Degree</th>\n",
       "      <th>nBits</th>\n",
       "      <th>dpm</th>\n",
       "      <th>BA_Tg_feat</th>\n",
       "      <th>BA_Tg_val</th>\n",
       "      <th>Ba_Tm_feat</th>\n",
       "      <th>BA_Tm_val</th>\n",
       "      <th>BA_Tm_Tg_mean</th>\n",
       "    </tr>\n",
       "  </thead>\n",
       "  <tbody>\n",
       "    <tr>\n",
       "      <th>0</th>\n",
       "      <td>0</td>\n",
       "      <td>64</td>\n",
       "      <td>0.10</td>\n",
       "      <td>1</td>\n",
       "      <td>0.524782</td>\n",
       "      <td>1</td>\n",
       "      <td>0.510270</td>\n",
       "      <td>0.517526</td>\n",
       "    </tr>\n",
       "    <tr>\n",
       "      <th>1</th>\n",
       "      <td>0</td>\n",
       "      <td>64</td>\n",
       "      <td>0.05</td>\n",
       "      <td>1</td>\n",
       "      <td>0.527633</td>\n",
       "      <td>1</td>\n",
       "      <td>0.545069</td>\n",
       "      <td>0.536351</td>\n",
       "    </tr>\n",
       "    <tr>\n",
       "      <th>2</th>\n",
       "      <td>0</td>\n",
       "      <td>64</td>\n",
       "      <td>0.01</td>\n",
       "      <td>1</td>\n",
       "      <td>0.598501</td>\n",
       "      <td>1</td>\n",
       "      <td>0.557804</td>\n",
       "      <td>0.578153</td>\n",
       "    </tr>\n",
       "    <tr>\n",
       "      <th>3</th>\n",
       "      <td>0</td>\n",
       "      <td>128</td>\n",
       "      <td>0.10</td>\n",
       "      <td>1</td>\n",
       "      <td>0.535747</td>\n",
       "      <td>1</td>\n",
       "      <td>0.528518</td>\n",
       "      <td>0.532132</td>\n",
       "    </tr>\n",
       "    <tr>\n",
       "      <th>4</th>\n",
       "      <td>0</td>\n",
       "      <td>128</td>\n",
       "      <td>0.05</td>\n",
       "      <td>1</td>\n",
       "      <td>0.549563</td>\n",
       "      <td>1</td>\n",
       "      <td>0.559923</td>\n",
       "      <td>0.554743</td>\n",
       "    </tr>\n",
       "    <tr>\n",
       "      <th>...</th>\n",
       "      <td>...</td>\n",
       "      <td>...</td>\n",
       "      <td>...</td>\n",
       "      <td>...</td>\n",
       "      <td>...</td>\n",
       "      <td>...</td>\n",
       "      <td>...</td>\n",
       "      <td>...</td>\n",
       "    </tr>\n",
       "    <tr>\n",
       "      <th>121</th>\n",
       "      <td>6</td>\n",
       "      <td>1024</td>\n",
       "      <td>0.05</td>\n",
       "      <td>1</td>\n",
       "      <td>0.719002</td>\n",
       "      <td>1</td>\n",
       "      <td>0.705663</td>\n",
       "      <td>0.712333</td>\n",
       "    </tr>\n",
       "    <tr>\n",
       "      <th>122</th>\n",
       "      <td>6</td>\n",
       "      <td>1024</td>\n",
       "      <td>0.01</td>\n",
       "      <td>1</td>\n",
       "      <td>0.745452</td>\n",
       "      <td>2</td>\n",
       "      <td>0.719759</td>\n",
       "      <td>0.732605</td>\n",
       "    </tr>\n",
       "    <tr>\n",
       "      <th>123</th>\n",
       "      <td>6</td>\n",
       "      <td>2048</td>\n",
       "      <td>0.10</td>\n",
       "      <td>2</td>\n",
       "      <td>0.773757</td>\n",
       "      <td>1</td>\n",
       "      <td>0.777637</td>\n",
       "      <td>0.775697</td>\n",
       "    </tr>\n",
       "    <tr>\n",
       "      <th>124</th>\n",
       "      <td>6</td>\n",
       "      <td>2048</td>\n",
       "      <td>0.05</td>\n",
       "      <td>2</td>\n",
       "      <td>0.779531</td>\n",
       "      <td>1</td>\n",
       "      <td>0.761939</td>\n",
       "      <td>0.770735</td>\n",
       "    </tr>\n",
       "    <tr>\n",
       "      <th>125</th>\n",
       "      <td>6</td>\n",
       "      <td>2048</td>\n",
       "      <td>0.01</td>\n",
       "      <td>8</td>\n",
       "      <td>0.768935</td>\n",
       "      <td>1</td>\n",
       "      <td>0.720866</td>\n",
       "      <td>0.744900</td>\n",
       "    </tr>\n",
       "  </tbody>\n",
       "</table>\n",
       "<p>126 rows × 8 columns</p>\n",
       "</div>"
      ],
      "text/plain": [
       "     Degree  nBits   dpm  BA_Tg_feat  BA_Tg_val  Ba_Tm_feat  BA_Tm_val  \\\n",
       "0         0     64  0.10           1   0.524782           1   0.510270   \n",
       "1         0     64  0.05           1   0.527633           1   0.545069   \n",
       "2         0     64  0.01           1   0.598501           1   0.557804   \n",
       "3         0    128  0.10           1   0.535747           1   0.528518   \n",
       "4         0    128  0.05           1   0.549563           1   0.559923   \n",
       "..      ...    ...   ...         ...        ...         ...        ...   \n",
       "121       6   1024  0.05           1   0.719002           1   0.705663   \n",
       "122       6   1024  0.01           1   0.745452           2   0.719759   \n",
       "123       6   2048  0.10           2   0.773757           1   0.777637   \n",
       "124       6   2048  0.05           2   0.779531           1   0.761939   \n",
       "125       6   2048  0.01           8   0.768935           1   0.720866   \n",
       "\n",
       "     BA_Tm_Tg_mean  \n",
       "0         0.517526  \n",
       "1         0.536351  \n",
       "2         0.578153  \n",
       "3         0.532132  \n",
       "4         0.554743  \n",
       "..             ...  \n",
       "121       0.712333  \n",
       "122       0.732605  \n",
       "123       0.775697  \n",
       "124       0.770735  \n",
       "125       0.744900  \n",
       "\n",
       "[126 rows x 8 columns]"
      ]
     },
     "execution_count": 10,
     "metadata": {},
     "output_type": "execute_result"
    }
   ],
   "source": [
    "df_res"
   ]
  },
  {
   "cell_type": "code",
   "execution_count": 11,
   "id": "c8ac762a-13cc-4737-b3c7-51b3a04d1e0f",
   "metadata": {},
   "outputs": [
    {
     "data": {
      "text/html": [
       "<div>\n",
       "<style scoped>\n",
       "    .dataframe tbody tr th:only-of-type {\n",
       "        vertical-align: middle;\n",
       "    }\n",
       "\n",
       "    .dataframe tbody tr th {\n",
       "        vertical-align: top;\n",
       "    }\n",
       "\n",
       "    .dataframe thead th {\n",
       "        text-align: right;\n",
       "    }\n",
       "</style>\n",
       "<table border=\"1\" class=\"dataframe\">\n",
       "  <thead>\n",
       "    <tr style=\"text-align: right;\">\n",
       "      <th></th>\n",
       "      <th>Degree</th>\n",
       "      <th>nBits</th>\n",
       "      <th>dpm</th>\n",
       "      <th>BA_Tg_feat</th>\n",
       "      <th>BA_Tg_val</th>\n",
       "      <th>Ba_Tm_feat</th>\n",
       "      <th>BA_Tm_val</th>\n",
       "      <th>BA_Tm_Tg_mean</th>\n",
       "    </tr>\n",
       "  </thead>\n",
       "  <tbody>\n",
       "    <tr>\n",
       "      <th>87</th>\n",
       "      <td>4</td>\n",
       "      <td>2048</td>\n",
       "      <td>0.10</td>\n",
       "      <td>4</td>\n",
       "      <td>0.789983</td>\n",
       "      <td>1</td>\n",
       "      <td>0.780521</td>\n",
       "      <td>0.785252</td>\n",
       "    </tr>\n",
       "    <tr>\n",
       "      <th>105</th>\n",
       "      <td>5</td>\n",
       "      <td>2048</td>\n",
       "      <td>0.10</td>\n",
       "      <td>3</td>\n",
       "      <td>0.780015</td>\n",
       "      <td>1</td>\n",
       "      <td>0.786294</td>\n",
       "      <td>0.783155</td>\n",
       "    </tr>\n",
       "    <tr>\n",
       "      <th>85</th>\n",
       "      <td>4</td>\n",
       "      <td>1024</td>\n",
       "      <td>0.05</td>\n",
       "      <td>3</td>\n",
       "      <td>0.794528</td>\n",
       "      <td>1</td>\n",
       "      <td>0.763889</td>\n",
       "      <td>0.779208</td>\n",
       "    </tr>\n",
       "    <tr>\n",
       "      <th>106</th>\n",
       "      <td>5</td>\n",
       "      <td>2048</td>\n",
       "      <td>0.05</td>\n",
       "      <td>3</td>\n",
       "      <td>0.788339</td>\n",
       "      <td>1</td>\n",
       "      <td>0.770001</td>\n",
       "      <td>0.779170</td>\n",
       "    </tr>\n",
       "    <tr>\n",
       "      <th>88</th>\n",
       "      <td>4</td>\n",
       "      <td>2048</td>\n",
       "      <td>0.05</td>\n",
       "      <td>7</td>\n",
       "      <td>0.795455</td>\n",
       "      <td>1</td>\n",
       "      <td>0.761173</td>\n",
       "      <td>0.778314</td>\n",
       "    </tr>\n",
       "    <tr>\n",
       "      <th>123</th>\n",
       "      <td>6</td>\n",
       "      <td>2048</td>\n",
       "      <td>0.10</td>\n",
       "      <td>2</td>\n",
       "      <td>0.773757</td>\n",
       "      <td>1</td>\n",
       "      <td>0.777637</td>\n",
       "      <td>0.775697</td>\n",
       "    </tr>\n",
       "    <tr>\n",
       "      <th>84</th>\n",
       "      <td>4</td>\n",
       "      <td>1024</td>\n",
       "      <td>0.10</td>\n",
       "      <td>3</td>\n",
       "      <td>0.783816</td>\n",
       "      <td>1</td>\n",
       "      <td>0.767365</td>\n",
       "      <td>0.775590</td>\n",
       "    </tr>\n",
       "    <tr>\n",
       "      <th>124</th>\n",
       "      <td>6</td>\n",
       "      <td>2048</td>\n",
       "      <td>0.05</td>\n",
       "      <td>2</td>\n",
       "      <td>0.779531</td>\n",
       "      <td>1</td>\n",
       "      <td>0.761939</td>\n",
       "      <td>0.770735</td>\n",
       "    </tr>\n",
       "    <tr>\n",
       "      <th>103</th>\n",
       "      <td>5</td>\n",
       "      <td>1024</td>\n",
       "      <td>0.05</td>\n",
       "      <td>1</td>\n",
       "      <td>0.776447</td>\n",
       "      <td>1</td>\n",
       "      <td>0.760663</td>\n",
       "      <td>0.768555</td>\n",
       "    </tr>\n",
       "    <tr>\n",
       "      <th>70</th>\n",
       "      <td>3</td>\n",
       "      <td>2048</td>\n",
       "      <td>0.05</td>\n",
       "      <td>2</td>\n",
       "      <td>0.798075</td>\n",
       "      <td>1</td>\n",
       "      <td>0.733926</td>\n",
       "      <td>0.766000</td>\n",
       "    </tr>\n",
       "    <tr>\n",
       "      <th>67</th>\n",
       "      <td>3</td>\n",
       "      <td>1024</td>\n",
       "      <td>0.05</td>\n",
       "      <td>1</td>\n",
       "      <td>0.793671</td>\n",
       "      <td>1</td>\n",
       "      <td>0.734265</td>\n",
       "      <td>0.763968</td>\n",
       "    </tr>\n",
       "    <tr>\n",
       "      <th>69</th>\n",
       "      <td>3</td>\n",
       "      <td>2048</td>\n",
       "      <td>0.10</td>\n",
       "      <td>2</td>\n",
       "      <td>0.793924</td>\n",
       "      <td>1</td>\n",
       "      <td>0.732311</td>\n",
       "      <td>0.763117</td>\n",
       "    </tr>\n",
       "    <tr>\n",
       "      <th>102</th>\n",
       "      <td>5</td>\n",
       "      <td>1024</td>\n",
       "      <td>0.10</td>\n",
       "      <td>1</td>\n",
       "      <td>0.762258</td>\n",
       "      <td>1</td>\n",
       "      <td>0.759555</td>\n",
       "      <td>0.760907</td>\n",
       "    </tr>\n",
       "    <tr>\n",
       "      <th>52</th>\n",
       "      <td>2</td>\n",
       "      <td>2048</td>\n",
       "      <td>0.05</td>\n",
       "      <td>1</td>\n",
       "      <td>0.793369</td>\n",
       "      <td>2</td>\n",
       "      <td>0.728237</td>\n",
       "      <td>0.760803</td>\n",
       "    </tr>\n",
       "    <tr>\n",
       "      <th>66</th>\n",
       "      <td>3</td>\n",
       "      <td>1024</td>\n",
       "      <td>0.10</td>\n",
       "      <td>4</td>\n",
       "      <td>0.786064</td>\n",
       "      <td>1</td>\n",
       "      <td>0.732650</td>\n",
       "      <td>0.759357</td>\n",
       "    </tr>\n",
       "    <tr>\n",
       "      <th>49</th>\n",
       "      <td>2</td>\n",
       "      <td>1024</td>\n",
       "      <td>0.05</td>\n",
       "      <td>1</td>\n",
       "      <td>0.784026</td>\n",
       "      <td>2</td>\n",
       "      <td>0.733329</td>\n",
       "      <td>0.758678</td>\n",
       "    </tr>\n",
       "    <tr>\n",
       "      <th>89</th>\n",
       "      <td>4</td>\n",
       "      <td>2048</td>\n",
       "      <td>0.01</td>\n",
       "      <td>8</td>\n",
       "      <td>0.793183</td>\n",
       "      <td>1</td>\n",
       "      <td>0.718403</td>\n",
       "      <td>0.755793</td>\n",
       "    </tr>\n",
       "    <tr>\n",
       "      <th>90</th>\n",
       "      <td>5</td>\n",
       "      <td>64</td>\n",
       "      <td>0.10</td>\n",
       "      <td>8</td>\n",
       "      <td>0.793183</td>\n",
       "      <td>1</td>\n",
       "      <td>0.718403</td>\n",
       "      <td>0.755793</td>\n",
       "    </tr>\n",
       "    <tr>\n",
       "      <th>91</th>\n",
       "      <td>5</td>\n",
       "      <td>64</td>\n",
       "      <td>0.05</td>\n",
       "      <td>8</td>\n",
       "      <td>0.793183</td>\n",
       "      <td>1</td>\n",
       "      <td>0.718403</td>\n",
       "      <td>0.755793</td>\n",
       "    </tr>\n",
       "    <tr>\n",
       "      <th>86</th>\n",
       "      <td>4</td>\n",
       "      <td>1024</td>\n",
       "      <td>0.01</td>\n",
       "      <td>3</td>\n",
       "      <td>0.791328</td>\n",
       "      <td>1</td>\n",
       "      <td>0.720100</td>\n",
       "      <td>0.755714</td>\n",
       "    </tr>\n",
       "  </tbody>\n",
       "</table>\n",
       "</div>"
      ],
      "text/plain": [
       "     Degree  nBits   dpm  BA_Tg_feat  BA_Tg_val  Ba_Tm_feat  BA_Tm_val  \\\n",
       "87        4   2048  0.10           4   0.789983           1   0.780521   \n",
       "105       5   2048  0.10           3   0.780015           1   0.786294   \n",
       "85        4   1024  0.05           3   0.794528           1   0.763889   \n",
       "106       5   2048  0.05           3   0.788339           1   0.770001   \n",
       "88        4   2048  0.05           7   0.795455           1   0.761173   \n",
       "123       6   2048  0.10           2   0.773757           1   0.777637   \n",
       "84        4   1024  0.10           3   0.783816           1   0.767365   \n",
       "124       6   2048  0.05           2   0.779531           1   0.761939   \n",
       "103       5   1024  0.05           1   0.776447           1   0.760663   \n",
       "70        3   2048  0.05           2   0.798075           1   0.733926   \n",
       "67        3   1024  0.05           1   0.793671           1   0.734265   \n",
       "69        3   2048  0.10           2   0.793924           1   0.732311   \n",
       "102       5   1024  0.10           1   0.762258           1   0.759555   \n",
       "52        2   2048  0.05           1   0.793369           2   0.728237   \n",
       "66        3   1024  0.10           4   0.786064           1   0.732650   \n",
       "49        2   1024  0.05           1   0.784026           2   0.733329   \n",
       "89        4   2048  0.01           8   0.793183           1   0.718403   \n",
       "90        5     64  0.10           8   0.793183           1   0.718403   \n",
       "91        5     64  0.05           8   0.793183           1   0.718403   \n",
       "86        4   1024  0.01           3   0.791328           1   0.720100   \n",
       "\n",
       "     BA_Tm_Tg_mean  \n",
       "87        0.785252  \n",
       "105       0.783155  \n",
       "85        0.779208  \n",
       "106       0.779170  \n",
       "88        0.778314  \n",
       "123       0.775697  \n",
       "84        0.775590  \n",
       "124       0.770735  \n",
       "103       0.768555  \n",
       "70        0.766000  \n",
       "67        0.763968  \n",
       "69        0.763117  \n",
       "102       0.760907  \n",
       "52        0.760803  \n",
       "66        0.759357  \n",
       "49        0.758678  \n",
       "89        0.755793  \n",
       "90        0.755793  \n",
       "91        0.755793  \n",
       "86        0.755714  "
      ]
     },
     "execution_count": 11,
     "metadata": {},
     "output_type": "execute_result"
    }
   ],
   "source": [
    "df_res.sort_values(by=[\"BA_Tm_Tg_mean\", \"BA_Tg_val\", \"BA_Tg_val\"], ascending=False).head(20)"
   ]
  },
  {
   "cell_type": "markdown",
   "id": "3cd3e4f8-95c0-4636-9dad-17aa97e94faf",
   "metadata": {},
   "source": [
    "# Evaluate Model"
   ]
  },
  {
   "cell_type": "code",
   "execution_count": 14,
   "id": "d303d811-e940-43b2-85b0-c77073860614",
   "metadata": {},
   "outputs": [
    {
     "data": {
      "text/plain": [
       "0      inside\n",
       "1      inside\n",
       "2      inside\n",
       "3      inside\n",
       "4      inside\n",
       "        ...  \n",
       "315    inside\n",
       "316    inside\n",
       "317    inside\n",
       "318    inside\n",
       "319    inside\n",
       "Name: Tg_outlier, Length: 2157, dtype: object"
      ]
     },
     "execution_count": 14,
     "metadata": {},
     "output_type": "execute_result"
    }
   ],
   "source": [
    "key = (5, 2048, 0.05)\n",
    "df = models_dict[key]\n",
    "threshold_missing_features = 8\n",
    "cs = 'Blues'\n",
    "\n",
    "df.Tg_outlier[df.Tg_outlier == \"inside\"]"
   ]
  },
  {
   "cell_type": "markdown",
   "id": "e5a32074-caf3-4f3d-b52f-19c3aeecd2fd",
   "metadata": {},
   "source": [
    "## Tg Confusion"
   ]
  },
  {
   "cell_type": "code",
   "execution_count": 15,
   "id": "b45e4e69-4e31-478f-b020-e45e2aa387c2",
   "metadata": {},
   "outputs": [
    {
     "name": "stdout",
     "output_type": "stream",
     "text": [
      "0.7689346802332675\n"
     ]
    },
    {
     "data": {
      "text/plain": [
       "<sklearn.metrics._plot.confusion_matrix.ConfusionMatrixDisplay at 0x1b19aa760>"
      ]
     },
     "execution_count": 15,
     "metadata": {},
     "output_type": "execute_result"
    },
    {
     "data": {
      "image/png": "[encoded data removed]",
      "text/plain": [
       "<Figure size 640x480 with 2 Axes>"
      ]
     },
     "metadata": {},
     "output_type": "display_data"
    }
   ],
   "source": [
    "from sklearn.metrics import ConfusionMatrixDisplay\n",
    "df_model_DOV[\"outlier_pred\"] = df_model_DOV.num_missing_features >= threshold_missing_features\n",
    "df_model_DOV[\"outlier_pred\"] = df_model_DOV.outlier_pred.apply(lambda v: \"outside\" if v else \"inside\")        # df_model_DOV[\"Tg_eval\"] = df_model_DOV.apply(lambda row: eval_col_classify(row, \"Tg\"), axis=1)\n",
    "\n",
    "var = \"Tg\"\n",
    "y_true = df_model_DOV.loc[~df_model_DOV[f\"{var}_outlier\"].isna(), f\"{var}_outlier\"]\n",
    "y_pred = df_model_DOV.loc[~df_model_DOV[f\"{var}_outlier\"].isna(), \"outlier_pred\"]\n",
    "\n",
    "print(balanced_accuracy_score(y_true, y_pred))\n",
    "ConfusionMatrixDisplay.from_predictions(y_true, y_pred, cmap=cs)"
   ]
  },
  {
   "cell_type": "code",
   "execution_count": 16,
   "id": "ed0795ff-97a2-4c06-81dd-59f2a7b9f926",
   "metadata": {},
   "outputs": [
    {
     "name": "stdout",
     "output_type": "stream",
     "text": [
      "0.5\n"
     ]
    },
    {
     "data": {
      "text/plain": [
       "<sklearn.metrics._plot.confusion_matrix.ConfusionMatrixDisplay at 0x1b13f8f40>"
      ]
     },
     "execution_count": 16,
     "metadata": {},
     "output_type": "execute_result"
    },
    {
     "data": {
      "image/png": "[encoded data removed]",
      "text/plain": [
       "<Figure size 640x480 with 2 Axes>"
      ]
     },
     "metadata": {},
     "output_type": "display_data"
    }
   ],
   "source": [
    "var = \"Tm\"\n",
    "y_true = df.loc[~df[f\"{var}_outlier\"].isna(), f\"{var}_outlier\"]\n",
    "y_pred = df.loc[~df[f\"{var}_outlier\"].isna(), \"outlier_pred\"]\n",
    "\n",
    "print(balanced_accuracy_score(y_true, y_pred))\n",
    "ConfusionMatrixDisplay.from_predictions(y_true, y_pred, cmap=cs)"
   ]
  },
  {
   "cell_type": "code",
   "execution_count": 17,
   "id": "5ff3148b-998b-42b3-9067-0013f6fadf46",
   "metadata": {},
   "outputs": [],
   "source": [
    "keys = [key for key in models_dict.keys()]\n",
    "i = -1"
   ]
  },
  {
   "cell_type": "code",
   "execution_count": 18,
   "id": "b818273f-7104-4cf0-bf41-a0669e8d839e",
   "metadata": {},
   "outputs": [
    {
     "name": "stdout",
     "output_type": "stream",
     "text": [
      "(0, 64, 0.1)\n"
     ]
    },
    {
     "data": {
      "text/plain": [
       "Text(0, 0.5, 'BA Score')"
      ]
     },
     "execution_count": 18,
     "metadata": {},
     "output_type": "execute_result"
    },
    {
     "data": {
      "image/png": "[encoded data removed]",
      "text/plain": [
       "<Figure size 1000x500 with 2 Axes>"
      ]
     },
     "metadata": {},
     "output_type": "display_data"
    }
   ],
   "source": [
    "fig, axs = plt.subplots(1, 2, figsize=(10, 5))\n",
    "\n",
    "\n",
    "i+= 1\n",
    "key = keys[i]\n",
    "print(key)\n",
    "##### Fig 1\n",
    "ba_tg = models_score_dict[key][\"balanced_accuracy\"][\"Tg\"]\n",
    "\n",
    "x = [i[0] for i in ba_tg]\n",
    "y = [i[1] for i in ba_tg]\n",
    "\n",
    "g = sns.lineplot(x=x, y=y, ax=axs[0])\n",
    "\n",
    "g.set_xlabel(\"Number of Max Allowable Missing Features\")\n",
    "g.set_ylabel(\"BA Score\")\n",
    "# g.set_title(\"Radius = 5 -- nBits = 2048\")\n",
    "\n",
    "##### Fig 2\n",
    "ba_tm = models_score_dict[key][\"balanced_accuracy\"][\"Tm\"]\n",
    "\n",
    "x = [i[0] for i in ba_tm]\n",
    "y = [i[1] for i in ba_tm]\n",
    "\n",
    "g = sns.lineplot(x=x, y=y, ax=axs[1])\n",
    "\n",
    "g.set_xlabel(\"Number of Max Allowable Missing Features\")\n",
    "g.set_ylabel(\"BA Score\")\n",
    "# g.set_title(\"Radius = 5 -- nBits = 2048\")"
   ]
  },
  {
   "cell_type": "code",
   "execution_count": null,
   "id": "91d6b979-d6d6-42a3-b639-3b76caf26d87",
   "metadata": {},
   "outputs": [],
   "source": [
    "4, 2048, 0.05\n",
    "4, 2048, 0.01"
   ]
  },
  {
   "cell_type": "markdown",
   "id": "c357322e-cfe6-4e21-9e46-9cc9bcde558a",
   "metadata": {},
   "source": [
    "## View Curves"
   ]
  },
  {
   "cell_type": "code",
   "execution_count": 30,
   "id": "9d789e14-f3ea-41cd-a8cb-be52c51bec8d",
   "metadata": {},
   "outputs": [
    {
     "data": {
      "text/plain": [
       "Text(0.5, 1.0, 'Radius = 5 -- nBits = 2048')"
      ]
     },
     "execution_count": 30,
     "metadata": {},
     "output_type": "execute_result"
    },
    {
     "data": {
      "image/png": "[encoded data removed]",
      "text/plain": [
       "<Figure size 640x480 with 1 Axes>"
      ]
     },
     "metadata": {},
     "output_type": "display_data"
    }
   ],
   "source": [
    "f1_tg = models_score_dict[(3, 2048, 0.1)][\"balanced_accuracy\"][\"Tg\"]\n",
    "x = [i[0] for i in f1_tg]\n",
    "y = [i[1] for i in f1_tg]\n",
    "\n",
    "g = sns.lineplot(x=x, y=y)\n",
    "\n",
    "g.set_xlabel(\"Number of Max Allowable Missing Features\")\n",
    "g.set_ylabel(\"BA Score\")\n",
    "g.set_title(\"Radius = 5 -- nBits = 2048\")"
   ]
  },
  {
   "cell_type": "code",
   "execution_count": 29,
   "id": "6e906be8-2120-445c-8f73-477734efa113",
   "metadata": {},
   "outputs": [
    {
     "data": {
      "text/plain": [
       "Text(0.5, 1.0, 'Radius = 5 -- nBits = 2048')"
      ]
     },
     "execution_count": 29,
     "metadata": {},
     "output_type": "execute_result"
    },
    {
     "data": {
      "image/png": "[encoded data removed]",
      "text/plain": [
       "<Figure size 640x480 with 1 Axes>"
      ]
     },
     "metadata": {},
     "output_type": "display_data"
    }
   ],
   "source": [
    "f1_tg = models_score_dict[(3, 2048, 0.1)][\"balanced_accuracy\"][\"Tm\"]\n",
    "x = [i[0] for i in f1_tg]\n",
    "y = [i[1] for i in f1_tg]\n",
    "\n",
    "g = sns.lineplot(x=x, y=y)\n",
    "\n",
    "g.set_xlabel(\"Number of Max Allowable Missing Features\")\n",
    "g.set_ylabel(\"BA Score\")\n",
    "g.set_title(\"Radius = 5 -- nBits = 2048\")"
   ]
  },
  {
   "cell_type": "code",
   "execution_count": null,
   "id": "c1674133-8480-4c5b-8521-a91c48f02b93",
   "metadata": {},
   "outputs": [],
   "source": []
  },
  {
   "cell_type": "markdown",
   "id": "b8c0a9a8-0c8a-46c0-915f-db9d7064a3f2",
   "metadata": {
    "tags": []
   },
   "source": [
    "# DOV For New Molecules"
   ]
  },
  {
   "cell_type": "code",
   "execution_count": 252,
   "id": "36e9fa0d-86cd-4ee2-9708-271fcd694fde",
   "metadata": {},
   "outputs": [],
   "source": [
    "kfolds_DOV_dict = defaultdict(set)\n",
    "radius = 4\n",
    "nBits = 256\n",
    "dpm = 0.05\n",
    "for kfold in mm.models:\n",
    "    kfold_DOV_dict = get_DOV_dict(kfold.df_train, radius=radius, nBits=nBits)\n",
    "    kfolds_DOV_dict.update(kfold_DOV_dict)"
   ]
  },
  {
   "cell_type": "code",
   "execution_count": 253,
   "id": "2f922ec8-d55e-48e2-9ca2-72c060403503",
   "metadata": {},
   "outputs": [],
   "source": [
    "# model_DOV = models_dict[(4, 256, 0.05)]\n",
    "with open(\"DOV_4degree_256nBits_05dpm.pk\", \"wb\") as f:\n",
    "    pk.dump(kfolds_DOV_dict, f)"
   ]
  },
  {
   "cell_type": "code",
   "execution_count": 259,
   "id": "dd27b2d8-d665-4ed7-8cef-ad2c761c7701",
   "metadata": {},
   "outputs": [
    {
     "data": {
      "text/plain": [
       "0"
      ]
     },
     "execution_count": 259,
     "metadata": {},
     "output_type": "execute_result"
    }
   ],
   "source": [
    "s = 'COC(=O)[C@@H](C)C[C@@](C)(C[C@@](C)(C[C@](C)(C[C@](C)(C[C@@](C)(C[C@](C)(C[C@@](C)(C[C@@](C)(C[C@](C)(C[C@@](C)(C[C@](C)(C[C@@](C)(C[C@](C)(C[C@@](C)(C[C@](C)(C[C@@](C)(C[C@](C)(C[C@@](C)(C[C@](C)(C[C@@](C)(C[C@@](C)(C[C@@](C)(C[C@@](C)(CC(C)(C)C(=O)OC)C(=O)OC)C(=O)OC)C(=O)OC)C(=O)OC)C(=O)OC)C(=O)OC)C(=O)OC)C(=O)OC)C(=O)OC)C(=O)OC)C(=O)OC)C(=O)OC)C(=O)OC)C(=O)OC)C(=O)OC)C(=O)OC)C(=O)OC)C(=O)OC)C(=O)OC)C(=O)OC)C(=O)OC)C(=O)OC)C(=O)OC'\n",
    "# get_smiles_DOV(smi=s, pm=1, kfold_DOV_dict=model_DOV, radius=4, dpm=0.05)\n",
    "\n",
    "get_num_missing_features(s, 1, 0.05, kfold_DOV_dict, radius=4, nBits=256)"
   ]
  },
  {
   "cell_type": "code",
   "execution_count": null,
   "id": "b82bc3b1-b9ef-458f-834d-85b051c97d9d",
   "metadata": {},
   "outputs": [],
   "source": [
    "def get_DOV_dict(df, radius=2, nBits=2048):\n",
    "    DOV_dict = defaultdict(set)\n",
    "\n",
    "    for i, row in df.iterrows():\n",
    "        m = AllChem.MolFromSmiles(row.smiles_polymer)\n",
    "        fp = AllChem.GetHashedMorganFingerprint(m, radius=radius, nBits=nBits\n",
    "        )\n",
    "\n",
    "        for key in fp.GetNonzeroElements():\n",
    "            DOV_dict[key].add(row.pm)\n",
    "    \n",
    "    return DOV_dict"
   ]
  },
  {
   "cell_type": "markdown",
   "id": "9b11e932-b4a9-49b1-8629-33a449c42471",
   "metadata": {},
   "source": [
    "# Generate the DOV for all kfolds into one dataframe and get Scores"
   ]
  },
  {
   "cell_type": "code",
   "execution_count": 31,
   "id": "2893bb15-a64e-44bc-966d-61f5599a6e1a",
   "metadata": {},
   "outputs": [],
   "source": [
    "kfolds_DOV = pd.DataFrame()\n",
    "for i, kfold in enumerate(mm.models):\n",
    "    kfold_DOV = get_kfold_DOV_error(mm.models[i], radius=3, nBits=2048, dpm=.1)\n",
    "    kfold_DOV[\"kfold_i\"] = i\n",
    "    \n",
    "    kfolds_DOV = pd.concat([kfolds_DOV, kfold_DOV])\n",
    "    \n",
    "kfolds_DOV[\"Tm_err\"] = abs(kfolds_DOV[\"Tm_err\"])\n",
    "kfolds_DOV[\"Tg_err\"] = abs(kfolds_DOV[\"Tg_err\"])\n",
    "kfolds_DOV_grouped = kfolds_DOV.groupby(\"kfold_i\").agg('mean').reset_index()"
   ]
  },
  {
   "cell_type": "code",
   "execution_count": 32,
   "id": "e3c35f36-9042-4e07-b3f4-7ff852b71063",
   "metadata": {},
   "outputs": [],
   "source": [
    "kfolds_DOV_t = kfolds_DOV[(kfolds_DOV.tg_ae < 1000) | kfolds_DOV.tg_ae.isna()].copy()\n",
    "kfolds_DOV_t = kfolds_DOV_t[(kfolds_DOV_t.tm_ae < 1000) | kfolds_DOV_t.tm_ae.isna()].copy()\n",
    "threshold_missing_features = 10\n",
    "\n",
    "kfolds_DOV[\"Tg_outlier\"] = kfolds_DOV_t.tg_ae >= std_Tg*1.5\n",
    "kfolds_DOV[\"Tm_outlier\"] = kfolds_DOV_t.tm_ae >= std_Tm*1.5\n",
    "kfolds_DOV[\"outlier_pred\"] = kfolds_DOV_t.num_missing_features >= threshold_missing_features"
   ]
  },
  {
   "cell_type": "code",
   "execution_count": null,
   "id": "60c5573a-b515-4fa7-a140-efdfddf21901",
   "metadata": {},
   "outputs": [],
   "source": [
    "kfolds_DOV[\"Tg_eval\"] = kfolds_DOV.apply(lambda row: eval_col_classify(row, \"Tg\"), axis=1)\n",
    "kfolds_DOV[\"Tm_eval\"] = kfolds_DOV.apply(lambda row: eval_col_classify(row, \"Tm\"), axis=1)\n",
    "\n",
    "df_to_F1(kfolds_DOV, \"Tg\"), df_to_F1(kfolds_DOV, \"Tm\")\n",
    "df_to_balanced_accuracy(kfolds_DOV, \"Tg\"), df_to_balanced_accuracy(kfolds_DOV, \"Tm\")"
   ]
  },
  {
   "cell_type": "markdown",
   "id": "8c7b5b3c-ea7a-42d4-8069-adfc1b0e3324",
   "metadata": {},
   "source": [
    "# Generate DOV Plots"
   ]
  },
  {
   "cell_type": "code",
   "execution_count": 33,
   "id": "693023e3-ce7b-41f5-a182-ccc08fb36153",
   "metadata": {},
   "outputs": [],
   "source": [
    "n_missing_DOV = pd.DataFrame()\n",
    "i_range = [*range(min(kfolds_DOV_t.num_missing_features)+1, max(kfolds_DOV_t.num_missing_features), 1)]\n",
    "for i in i_range[1:]:\n",
    "    n_missing_DOV = pd.concat([n_missing_DOV, get_DOV_errs(i, kfolds_DOV_t)])\n",
    "    \n",
    "n_missing_DOV = n_missing_DOV.reset_index(drop=True)"
   ]
  },
  {
   "cell_type": "code",
   "execution_count": 37,
   "id": "85903b1b-905e-46e2-96e2-0b9b169fce09",
   "metadata": {},
   "outputs": [
    {
     "data": {
      "image/png": "[encoded data removed]",
      "text/plain": [
       "<Figure size 1000x500 with 2 Axes>"
      ]
     },
     "metadata": {},
     "output_type": "display_data"
    }
   ],
   "source": [
    "fig, ax = plt.subplots(1, 2, figsize=(10, 5))\n",
    "\n",
    "g = sns.lineplot(x=\"lte_missing_features\", y=\"Tm_err\", data=n_missing_DOV, ax=ax[1])\n",
    "g.set_xlabel(\"Number of Max Allowable Missing Features\")\n",
    "g.set_ylabel(\"T${_m}$ Error (°C)\")\n",
    "\n",
    "g = sns.lineplot(x=\"lte_missing_features\", y=\"Tg_err\", data=n_missing_DOV, ax=ax[0])\n",
    "g.set_xlabel(\"Number of Max Allowable Missing Features\")\n",
    "g.set_ylabel(\"T${_g}$ Error (°C)\")\n",
    "\n",
    "plt.savefig(\"Figure_ErrorPlotsDOV.png\", dpi=300)"
   ]
  },
  {
   "cell_type": "code",
   "execution_count": 35,
   "id": "11b9e990-4f69-401e-995f-09a78d23fa71",
   "metadata": {},
   "outputs": [
    {
     "data": {
      "text/plain": [
       "Text(0, 0.5, 'T${_g}$ Error (°C)')"
      ]
     },
     "execution_count": 35,
     "metadata": {},
     "output_type": "execute_result"
    },
    {
     "data": {
      "image/png": "[encoded data removed]",
      "text/plain": [
       "<Figure size 640x480 with 1 Axes>"
      ]
     },
     "metadata": {},
     "output_type": "display_data"
    }
   ],
   "source": [
    "g = sns.lineplot(x=\"lte_missing_features\", y=\"Tg_err\", data=n_missing_DOV)\n",
    "g.set_xlabel(\"Number of Max Allowable Missing Features\")\n",
    "g.set_ylabel(\"T${_g}$ Error (°C)\")"
   ]
  }
 ],
 "metadata": {
  "kernelspec": {
   "display_name": "comb",
   "language": "python",
   "name": "python3"
  },
  "language_info": {
   "codemirror_mode": {
    "name": "ipython",
    "version": 3
   },
   "file_extension": ".py",
   "mimetype": "text/x-python",
   "name": "python",
   "nbconvert_exporter": "python",
   "pygments_lexer": "ipython3",
   "version": "3.9.7"
  }
 },
 "nbformat": 4,
 "nbformat_minor": 5
}
