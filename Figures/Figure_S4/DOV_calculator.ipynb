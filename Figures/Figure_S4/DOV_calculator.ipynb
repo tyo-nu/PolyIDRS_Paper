{
 "cells": [
  {
   "attachments": {},
   "cell_type": "markdown",
   "metadata": {},
   "source": [
    "# Apply DOV\n",
    "Based on training, a reasonable # missing is ~15"
   ]
  },
  {
   "cell_type": "code",
   "execution_count": 6,
   "metadata": {},
   "outputs": [],
   "source": [
    "import pandas as pd\n",
    "import pickle as pk\n",
    "from functools import partial\n",
    "\n",
    "\n",
    "from rdkit.Chem import AllChem\n",
    "\n",
    "DOV_DICT = pk.load(\n",
    "    open(\"DOV_4degree_256nBits_05dpm.pk\", \"rb\")\n",
    ")\n",
    "\n",
    "DPM = 0.05\n",
    "RADIUS = 4\n",
    "NBITS=256"
   ]
  },
  {
   "cell_type": "code",
   "execution_count": 7,
   "metadata": {},
   "outputs": [],
   "source": [
    "def get_num_missing_features_full(smi, pm, dpm, DOV_dict, radius=4, nBits=256):\n",
    "    num_missing_features = 0\n",
    "    \n",
    "    m = AllChem.MolFromSmiles(smi)\n",
    "    fp = AllChem.GetHashedMorganFingerprint(m, radius=radius, nBits=nBits)\n",
    "    \n",
    "    for i, key in enumerate(fp.GetNonzeroElements()):\n",
    "        if key not in DOV_dict:\n",
    "            num_missing_features += 1\n",
    "        else:\n",
    "            matching_pm = False\n",
    "            for pm_loc in DOV_dict[key]:\n",
    "                min_pm = pm_loc-dpm\n",
    "                max_pm = pm_loc+dpm\n",
    "                if min_pm <= pm and pm <= max_pm:\n",
    "                    matching_pm = True\n",
    "                    break\n",
    "            \n",
    "            if not matching_pm:\n",
    "                num_missing_features += 1\n",
    "    \n",
    "    return num_missing_features\n",
    "\n",
    "get_num_missing_features = partial(get_num_missing_features_full, dpm=DPM, DOV_dict=DOV_DICT, radius=RADIUS, nBits=NBITS)"
   ]
  }
 ],
 "metadata": {
  "kernelspec": {
   "display_name": "comb",
   "language": "python",
   "name": "python3"
  },
  "language_info": {
   "codemirror_mode": {
    "name": "ipython",
    "version": 3
   },
   "file_extension": ".py",
   "mimetype": "text/x-python",
   "name": "python",
   "nbconvert_exporter": "python",
   "pygments_lexer": "ipython3",
   "version": "3.9.7"
  },
  "orig_nbformat": 4
 },
 "nbformat": 4,
 "nbformat_minor": 2
}
