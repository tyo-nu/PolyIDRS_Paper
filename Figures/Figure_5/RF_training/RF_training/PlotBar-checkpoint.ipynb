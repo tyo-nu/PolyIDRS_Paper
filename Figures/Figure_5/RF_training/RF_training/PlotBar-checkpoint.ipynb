{
 "cells": [
  {
   "cell_type": "markdown",
   "id": "c2deae24-31ff-4792-8b24-46e306d54bdb",
   "metadata": {},
   "source": [
    "# Get Prediction Results"
   ]
  },
  {
   "cell_type": "code",
   "execution_count": 28,
   "id": "68e8a2b5-49f9-4728-8ce5-05cb6079ff90",
   "metadata": {},
   "outputs": [],
   "source": [
    "import matplotlib.pyplot as plt\n",
    "import seaborn as sns\n",
    "import pandas as pd\n",
    "\n",
    "def rmse(x):\n",
    "    x = x**2\n",
    "    x = x.mean()\n",
    "    x = x**(1/2)\n",
    "    return x\n",
    "\n",
    "def mae(x):\n",
    "    x = abs(x)\n",
    "    return x.mean()\n",
    "\n",
    "agg_dict = {\n",
    "    \"Tg_diff\": [mae, rmse],\n",
    "    \"Tm_diff\": [mae, rmse]\n",
    "}"
   ]
  },
  {
   "cell_type": "code",
   "execution_count": 18,
   "id": "75866288-0ea3-4d9a-b031-984dfa7ca19e",
   "metadata": {},
   "outputs": [],
   "source": [
    "df_gbpm = pd.read_csv(\"GB_results/GB_pm_results.csv\")\n",
    "df_gbnopm = pd.read_csv(\"GB_results/GB_nopm_results.csv\")\n",
    "df_mpnn = pd.read_csv(\"GB_results/MPNN_results.csv\")\n",
    "\n",
    "full_raw_df = pd.concat([df_gbpm, df_gbnopm, df_mpnn])"
   ]
  },
  {
   "cell_type": "code",
   "execution_count": 19,
   "id": "6dfe90e6-5f82-4803-ad01-0b620671c49d",
   "metadata": {},
   "outputs": [],
   "source": [
    "full_raw_df[\"Tm_diff\"] = full_raw_df.Tm - full_raw_df.Tm_pred\n",
    "full_raw_df[\"Tg_diff\"] = full_raw_df.Tg - full_raw_df.Tg_pred\n",
    "full_err_df = full_raw_df.groupby([\"model\", \"model_id\"]).agg(agg_dict).reset_index()\n",
    "full_err_df.columns = list(map('_'.join, full_err_df.columns.values))\n",
    "full_err_df = full_err_df.rename(columns={\"model_\": \"model\", \"model_id_\": \"model_id\", \"Tg_diff_mae\": \"Tg_MAE\", \"Tg_diff_rmse\": \"Tg_RMSE\", \"Tm_diff_mae\": \"Tm_MAE\", \"Tm_diff_rmse\": \"Tm_RMSE\"})"
   ]
  },
  {
   "cell_type": "code",
   "execution_count": 23,
   "id": "16e50d92-4d5e-446e-8bf9-f4cec1dbd4be",
   "metadata": {},
   "outputs": [],
   "source": [
    "err_df = full_err_df[full_err_df.model.isin([\"GB_nopm\", \"GB_pm\", \"MPNN_global_pm\", \"MPNN_no_chiral\"])]"
   ]
  },
  {
   "cell_type": "code",
   "execution_count": 21,
   "id": "6b032e20-e4bd-4f34-b26f-78128850757d",
   "metadata": {},
   "outputs": [
    {
     "data": {
      "text/plain": [
       "{'GB_nopm',\n",
       " 'GB_pm',\n",
       " 'MPNN_RBF_dblPm',\n",
       " 'MPNN_ctag',\n",
       " 'MPNN_global_pm',\n",
       " 'MPNN_global_pm_mn_data',\n",
       " 'MPNN_global_pm_no_ctag',\n",
       " 'MPNN_mn_exist_random',\n",
       " 'MPNN_mn_exists',\n",
       " 'MPNN_no_chiral',\n",
       " 'MPNN_random_pm'}"
      ]
     },
     "execution_count": 21,
     "metadata": {},
     "output_type": "execute_result"
    }
   ],
   "source": [
    "sns.barplot(y=\"value\", x=\"variable\", hue=\"model\", data=kfold_err_melt_df, order=[\"Tg_MAE\", \"Tm_MAE\", \"Tg_RMSE\", \"Tm_RMSE\"], ax=ax, palette=sns.color_palette(\"Paired\"))"
   ]
  },
  {
   "cell_type": "code",
   "execution_count": 30,
   "id": "46c351dd-16bb-4b93-a7d7-c2bb72562def",
   "metadata": {},
   "outputs": [],
   "source": [
    "kfold_err_df = err_df\n",
    "kfold_err_melt_df = kfold_err_df.melt(id_vars=[\"model\", \"model_id\"], value_vars=[\"Tm_MAE\", \"Tg_MAE\", \"Tm_RMSE\", \"Tg_RMSE\"])\n",
    "\n",
    "order_map_dict = {\n",
    "    \"MPNN_global_pm\": 0,\n",
    "    \"RF_pm\": 3,\n",
    "    \"GB_pm\": 4,\n",
    "    \"MPNN_no_chiral\": 7,\n",
    "    \"GB_nopm\": 8,\n",
    "}\n",
    "\n",
    "kfold_err_melt_df[\"ordering\"] = kfold_err_melt_df.apply(lambda r: order_map_dict[r.model], axis=1)\n",
    "kfold_err_melt_df = kfold_err_melt_df.sort_values(by=\"ordering\")"
   ]
  },
  {
   "cell_type": "code",
   "execution_count": 31,
   "id": "0489ed3b-5cb5-4c07-b155-a952e7c6ebb8",
   "metadata": {},
   "outputs": [
    {
     "data": {
      "text/plain": [
       "[Text(0, 0, 'T$_{g}$ MAE'),\n",
       " Text(1, 0, 'T$_{m}$ MAE'),\n",
       " Text(2, 0, 'T$_{g}$ RMSE'),\n",
       " Text(3, 0, 'T$_{m}$ RMSE')]"
      ]
     },
     "execution_count": 31,
     "metadata": {},
     "output_type": "execute_result"
    },
    {
     "data": {
      "image/png": "[encoded data removed]",
      "text/plain": [
       "<Figure size 700x500 with 1 Axes>"
      ]
     },
     "metadata": {},
     "output_type": "display_data"
    }
   ],
   "source": [
    "fig, ax = plt.subplots(1, 1, figsize=(7, 5))\n",
    "# Actual Plot Stuff\n",
    "# sns.barplot(y=\"value\", x=\"model\", hue=\"variable\", data=kfold_err_melt_df)#, order=[\"Tg_MAE\", \"Tm_MAE\", \"Tg_RMSE\", \"Tm_RMSE\"], ax=ax)\n",
    "sns.barplot(y=\"value\", x=\"variable\", hue=\"model\", data=kfold_err_melt_df, order=[\"Tg_MAE\", \"Tm_MAE\", \"Tg_RMSE\", \"Tm_RMSE\"], ax=ax, palette=sns.color_palette(\"Paired\"))\n",
    "# Legend Stuff\n",
    "ax.legend(loc=\"right\", ncol=1, bbox_to_anchor=(.6, .5, 1, 0))\n",
    "\n",
    "ax.set_ylabel(\"Error (°C)\")\n",
    "ax.set_xlabel(\"\")\n",
    "ax.set_xticklabels([\"T$_{g}$ MAE\", \"T$_{m}$ MAE\", \"T$_{g}$ RMSE\", \"T$_{m}$ RMSE\",])"
   ]
  },
  {
   "cell_type": "code",
   "execution_count": null,
   "id": "5830d480-ce79-4630-9972-d8a4aa40136d",
   "metadata": {},
   "outputs": [],
   "source": []
  }
 ],
 "metadata": {
  "kernelspec": {
   "display_name": "Python [conda env:comb] *",
   "language": "python",
   "name": "conda-env-comb-py"
  },
  "language_info": {
   "codemirror_mode": {
    "name": "ipython",
    "version": 3
   },
   "file_extension": ".py",
   "mimetype": "text/x-python",
   "name": "python",
   "nbconvert_exporter": "python",
   "pygments_lexer": "ipython3",
   "version": "3.9.7"
  }
 },
 "nbformat": 4,
 "nbformat_minor": 5
}
