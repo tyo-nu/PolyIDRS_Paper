{
 "cells": [
  {
   "cell_type": "markdown",
   "id": "2a4d2292-23ca-45ab-b21e-ead559262df8",
   "metadata": {},
   "source": [
    "# Training (Model)\n",
    "\n",
    "This workflow hyperparam optimizes\n",
    "    - nBits\n",
    "    - nFeatures"
   ]
  },
  {
   "cell_type": "code",
   "execution_count": 3,
   "id": "90a2bc3c-b4d2-4497-8a7b-791cccb21503",
   "metadata": {},
   "outputs": [],
   "source": [
    "from functools import partial\n",
    "from rdkit import Chem\n",
    "\n",
    "import matplotlib.pyplot as plt\n",
    "import pickle as pk\n",
    "import seaborn as sns\n",
    "import pandas as pd\n",
    "import numpy as np\n",
    "\n",
    "from sklearn.model_selection import train_test_split, KFold\n",
    "from sklearn.ensemble import RandomForestRegressor, GradientBoostingRegressor\n",
    "from sklearn.preprocessing import StandardScaler\n",
    "from polyml import MultiModel\n",
    "\n",
    "from mordred import MolecularDistanceEdge, get_descriptors_in_module, descriptors, Calculator\n",
    "import mordred\n",
    "\n",
    "def mae(a1, a2):\n",
    "    return np.mean(np.abs(a1-a2))\n",
    "\n",
    "def rmse(a1, a2):\n",
    "    return np.sqrt(np.mean((a1-a2)**2))\n",
    "\n",
    "import time\n",
    "\n",
    "import multiprocessing as mp\n",
    "\n",
    "from RF_utils import calc_mordred_df\n",
    "\n",
    "from sklearn.metrics import r2_score, mean_squared_error, mean_absolute_error"
   ]
  },
  {
   "cell_type": "markdown",
   "id": "e2a27434-5ece-499a-a47c-9323c8c0be4f",
   "metadata": {},
   "source": [
    "# Load in MultiModel of Message Passing"
   ]
  },
  {
   "cell_type": "code",
   "execution_count": 4,
   "id": "ef855b7e-f8be-48d8-8793-81ec5a7b419e",
   "metadata": {},
   "outputs": [],
   "source": [
    "mm_fpath = \"../../stereochem_predictive_model/220504_af64_bf64_mf8_mg10_DP25_R5_K10_global_pm/220414_stereo_polymers_MW_DP25_R5_K10_multimodel.pk\"\n",
    "mm = MultiModel().load_training_data(mm_fpath)\n",
    "df = mm.df_input"
   ]
  },
  {
   "cell_type": "markdown",
   "id": "1ddf52be-0406-41cc-88c1-e1a0b04ebd0b",
   "metadata": {
    "tags": []
   },
   "source": [
    "# Generate/Load in Descriptors"
   ]
  },
  {
   "cell_type": "markdown",
   "id": "a22cdd0d-b35f-45a3-8c73-aa2bd3e6e18f",
   "metadata": {
    "tags": []
   },
   "source": [
    "## Mordred"
   ]
  },
  {
   "cell_type": "markdown",
   "id": "c313585d-dfb9-40ee-8caa-eb98c1885572",
   "metadata": {},
   "source": [
    "### Generate Mordred Descriptors First Time\n",
    "Uncomment to calculate"
   ]
  },
  {
   "cell_type": "code",
   "execution_count": 4,
   "id": "62733734-3da1-4b83-96c0-78a145837783",
   "metadata": {
    "tags": []
   },
   "outputs": [],
   "source": [
    "# t = time.time()\n",
    "# descriptor_list = [i for i in get_descriptors_in_module(descriptors) if i not in [MolecularDistanceEdge.MolecularDistanceEdge]]\n",
    "# calc = Calculator(descriptor_list, ignore_3D=True)\n",
    "# df_mord = calc.pandas(list(df.mol.values))\n",
    "# df_mord.to_csv(\"df_mord.csv\", index=False)\n",
    "# print(time.time() - t)"
   ]
  },
  {
   "cell_type": "markdown",
   "id": "c7707b42-4c4e-404f-9466-bbee1817b2fd",
   "metadata": {
    "tags": []
   },
   "source": [
    "### Load Mordred Descriptors"
   ]
  },
  {
   "cell_type": "code",
   "execution_count": 5,
   "id": "96915504-ff55-497d-819c-ed30a335e2fe",
   "metadata": {},
   "outputs": [
    {
     "name": "stderr",
     "output_type": "stream",
     "text": [
      "/var/folders/mn/k32kn37x5ldgpp51c6cdmkpm0000gn/T/ipykernel_9944/3693373612.py:1: DtypeWarning: Columns (233,234,235,236,237,238,239,240,241,341,342,343,344,345,346,347,348,349,449,450,451,452,453,454,455,456,545,546,547,548,549,550,551,552,641,642,780,781,1055,1057,1061,1064,1082,1083,1084,1134,1136,1140,1143,1161,1162,1163) have mixed types. Specify dtype option on import or set low_memory=False.\n",
      "  df_mord = pd.read_csv(\"./descriptors/df_mord.csv\")\n"
     ]
    }
   ],
   "source": [
    "df_mord = pd.read_csv(\"./descriptors/df_mord.csv\")\n",
    "bad_cols = df_mord.columns[df_mord.applymap(lambda x: not (isinstance(x, float) or isinstance(x, int))).any()] \n",
    "df_mord = df_mord.drop(columns=bad_cols)"
   ]
  },
  {
   "cell_type": "markdown",
   "id": "d3b7c4a3-c7d8-4e2f-b945-f74a9113632f",
   "metadata": {
    "tags": []
   },
   "source": [
    "## Fingerprints"
   ]
  },
  {
   "cell_type": "code",
   "execution_count": 6,
   "id": "5ed86f00-78ca-4cc5-b18d-d5ba066b6b67",
   "metadata": {},
   "outputs": [],
   "source": [
    "def gen_fingerprint_df(df_input, nbits=2048, nBitsPerHash=1, radius=2, fp_type=\"rdkit\"):\n",
    "    def f(fps):\n",
    "        return pd.Series([int(i) for i in fps.ToBitString()])\n",
    "\n",
    "    df_input = df_input.copy()\n",
    "    \n",
    "    if \"mol\" not in df_input:\n",
    "        df_input['mol'] = df_input['smiles_polymer'].map(Chem.MolFromSmiles)\n",
    "\n",
    "    if fp_type == \"rdkit\":\n",
    "        fps_partial = partial(Chem.RDKFingerprint, fpSize=nbits, nBitsPerHash=nBitsPerHash)\n",
    "    elif fp_type == \"morgan\":\n",
    "        fps_partial = partial(AllChem.GetMorganFingerprintAsBitVect, radius=radius, nBits=nbits)\n",
    "    else:\n",
    "        assert False, \"Bad Fingerprint Type\"\n",
    "        \n",
    "    df_input.loc[:, \"fingerprints\"] = df_input[\"mol\"].map(fps_partial)\n",
    "\n",
    "    list_of_bits = []\n",
    "\n",
    "    df_input = df_input.reset_index(drop=True)\n",
    "    for i, row in df_input.iterrows():\n",
    "        list_of_bits.append(f(row.fingerprints))\n",
    "\n",
    "    df_bits = pd.DataFrame(data=list_of_bits, columns=range(nbits))\n",
    "\n",
    "    return pd.concat([df_input, df_bits], axis=1)"
   ]
  },
  {
   "cell_type": "code",
   "execution_count": null,
   "id": "11cb4d04-7152-463d-9816-2c5ba5017f00",
   "metadata": {},
   "outputs": [
    {
     "name": "stderr",
     "output_type": "stream",
     "text": [
      "\n",
      "KeyboardInterrupt\n",
      "\n"
     ]
    }
   ],
   "source": [
    "# rad=2\n",
    "# fp_type=\"rdkit\"\n",
    "\n",
    "# for nbits in [16, 32, 64, 128]: #[256, 512, 1024, 2048]:\n",
    "#     df_fps = gen_fingerprint_df(df, nbits=nbits)\n",
    "#     df_fps.to_csv(f\"./descriptors/df_fp_nbits{nbits}_rad{rad}_type{fp_type}\")"
   ]
  },
  {
   "cell_type": "markdown",
   "id": "3e00d476-7aa4-42c9-8c71-d92b36701b42",
   "metadata": {
    "tags": []
   },
   "source": [
    "# Hyperparam optimize with all data on OOB performance"
   ]
  },
  {
   "cell_type": "markdown",
   "id": "9fb10d3f-8574-4427-8001-d122132496d5",
   "metadata": {
    "tags": []
   },
   "source": [
    "## Visualize Feature Importance"
   ]
  },
  {
   "cell_type": "code",
   "execution_count": 7,
   "id": "084627d3-7104-41b2-bc31-705d521934e9",
   "metadata": {},
   "outputs": [
    {
     "name": "stderr",
     "output_type": "stream",
     "text": [
      "/Users/kevbot/miniconda3/envs/comb/lib/python3.9/site-packages/pandas/core/indexes/base.py:5069: FutureWarning: Using a non-tuple sequence for multidimensional indexing is deprecated; use `arr[tuple(seq)]` instead of `arr[seq]`. In the future this will be interpreted as an array index, `arr[np.array(seq)]`, which will result either in an error or a different result.\n",
      "  result = getitem(key)\n",
      "/var/folders/mn/k32kn37x5ldgpp51c6cdmkpm0000gn/T/ipykernel_9944/1665957411.py:31: DataConversionWarning: A column-vector y was passed when a 1d array was expected. Please change the shape of y to (n_samples,), for example using ravel().\n",
      "  model.fit(X_train, y_train)\n"
     ]
    },
    {
     "data": {
      "text/plain": [
       "0.8604288259595605"
      ]
     },
     "execution_count": 7,
     "metadata": {},
     "output_type": "execute_result"
    }
   ],
   "source": [
    "# Get FP Features\n",
    "nbits=64\n",
    "df_fps = pd.read_csv(\"./descriptors/fp_nbits_rad2_typerdkit/df_fp_nbits512_rad2_typerdkit\")\n",
    "df_features = pd.concat([df_fps.loc[:, [str(i) for i in range(0, nbits)]], df_mord], axis=1)\n",
    "\n",
    "# Train Example Model\n",
    "model = RandomForestRegressor(\n",
    "    n_estimators=200,\n",
    "    random_state=2,\n",
    "    oob_score=True\n",
    ")\n",
    "\n",
    "X_train = df_features\n",
    "y_train = df[\"Tm\"].to_frame()\n",
    "\n",
    "X_train = X_train[~y_train.Tm.isna()]\n",
    "y_train = y_train[~y_train.Tm.isna()]\n",
    "\n",
    "X_train = X_train.drop(columns=X_train.columns[[X_train.isna().any()]])\n",
    "\n",
    "# Scale X_train\n",
    "ss_X = StandardScaler()\n",
    "ss_Y = StandardScaler()\n",
    "\n",
    "X_cols = X_train.columns\n",
    "y_cols = y_train.columns\n",
    "\n",
    "X_train = pd.DataFrame(ss_X.fit_transform(X_train), columns=X_cols)\n",
    "y_train = pd.DataFrame(ss_Y.fit_transform(y_train), columns=y_cols)\n",
    "\n",
    "model.fit(X_train, y_train)\n",
    "model.oob_score_"
   ]
  },
  {
   "cell_type": "code",
   "execution_count": 8,
   "id": "92d4b7bc-6c34-4725-a7ab-95b21949da35",
   "metadata": {},
   "outputs": [],
   "source": [
    "feature_importances = [*zip(X_train.columns, model.feature_importances_)]\n",
    "feature_importances.sort(key=lambda x: x[1], reverse=True)\n",
    "\n",
    "df_feat_imp = pd.DataFrame(feature_importances, columns=[\"Feature\", \"Importance\"])\n",
    "\n",
    "# top_n = 20\n",
    "# fig, ax = plt.subplots(1, 1, figsize=(10, 5))\n",
    "# sns.barplot(x=\"Feature\", y=\"Importance\", data=df_feat_imp.loc[:100, :], ax=ax)\n",
    "# plt.xticks(rotation = 45);"
   ]
  },
  {
   "cell_type": "markdown",
   "id": "a6c36016-1de8-47a8-9302-f33328c4954e",
   "metadata": {
    "tags": []
   },
   "source": [
    "# Load Existing Data"
   ]
  },
  {
   "cell_type": "markdown",
   "id": "66ad1f46-c8be-4c21-90bf-a2dbce570945",
   "metadata": {
    "tags": []
   },
   "source": [
    "# Train Models"
   ]
  },
  {
   "cell_type": "markdown",
   "id": "f5ba31e2-5659-4e14-becb-8bf096db9385",
   "metadata": {
    "tags": []
   },
   "source": [
    "## T_g"
   ]
  },
  {
   "cell_type": "code",
   "execution_count": 14,
   "id": "ca87d51c-d6a3-4b6a-9b89-877b405e55a7",
   "metadata": {},
   "outputs": [],
   "source": [
    "# mm_fpath = \"../2200504_af64_bf64_mf8_mg10_DP25_R5_K10_global_pm/220414_stereo_polymers_MW_DP25_R5_K10_multimodel.pk\"\n",
    "# mm_fpath = \"../data/220414_stereo_polymers_MW_DP25_R5_K10_multimodel.pk\"\n",
    "mm = MultiModel().load_training_data(mm_fpath)"
   ]
  },
  {
   "cell_type": "code",
   "execution_count": 20,
   "id": "2ddf24d1-4f35-471c-9143-50aff09e23e0",
   "metadata": {},
   "outputs": [
    {
     "name": "stdout",
     "output_type": "stream",
     "text": [
      "0\n"
     ]
    },
    {
     "name": "stderr",
     "output_type": "stream",
     "text": [
      "/Users/kevbot/miniconda3/envs/comb/lib/python3.9/site-packages/pandas/core/indexes/base.py:5069: FutureWarning: Using a non-tuple sequence for multidimensional indexing is deprecated; use `arr[tuple(seq)]` instead of `arr[seq]`. In the future this will be interpreted as an array index, `arr[np.array(seq)]`, which will result either in an error or a different result.\n",
      "  result = getitem(key)\n"
     ]
    },
    {
     "name": "stdout",
     "output_type": "stream",
     "text": [
      "1\n"
     ]
    },
    {
     "name": "stderr",
     "output_type": "stream",
     "text": [
      "/Users/kevbot/miniconda3/envs/comb/lib/python3.9/site-packages/pandas/core/indexes/base.py:5069: FutureWarning: Using a non-tuple sequence for multidimensional indexing is deprecated; use `arr[tuple(seq)]` instead of `arr[seq]`. In the future this will be interpreted as an array index, `arr[np.array(seq)]`, which will result either in an error or a different result.\n",
      "  result = getitem(key)\n"
     ]
    },
    {
     "name": "stdout",
     "output_type": "stream",
     "text": [
      "2\n"
     ]
    },
    {
     "name": "stderr",
     "output_type": "stream",
     "text": [
      "/Users/kevbot/miniconda3/envs/comb/lib/python3.9/site-packages/pandas/core/indexes/base.py:5069: FutureWarning: Using a non-tuple sequence for multidimensional indexing is deprecated; use `arr[tuple(seq)]` instead of `arr[seq]`. In the future this will be interpreted as an array index, `arr[np.array(seq)]`, which will result either in an error or a different result.\n",
      "  result = getitem(key)\n"
     ]
    },
    {
     "name": "stdout",
     "output_type": "stream",
     "text": [
      "3\n"
     ]
    },
    {
     "name": "stderr",
     "output_type": "stream",
     "text": [
      "/Users/kevbot/miniconda3/envs/comb/lib/python3.9/site-packages/pandas/core/indexes/base.py:5069: FutureWarning: Using a non-tuple sequence for multidimensional indexing is deprecated; use `arr[tuple(seq)]` instead of `arr[seq]`. In the future this will be interpreted as an array index, `arr[np.array(seq)]`, which will result either in an error or a different result.\n",
      "  result = getitem(key)\n"
     ]
    },
    {
     "name": "stdout",
     "output_type": "stream",
     "text": [
      "4\n"
     ]
    },
    {
     "name": "stderr",
     "output_type": "stream",
     "text": [
      "/Users/kevbot/miniconda3/envs/comb/lib/python3.9/site-packages/pandas/core/indexes/base.py:5069: FutureWarning: Using a non-tuple sequence for multidimensional indexing is deprecated; use `arr[tuple(seq)]` instead of `arr[seq]`. In the future this will be interpreted as an array index, `arr[np.array(seq)]`, which will result either in an error or a different result.\n",
      "  result = getitem(key)\n"
     ]
    },
    {
     "name": "stdout",
     "output_type": "stream",
     "text": [
      "5\n"
     ]
    },
    {
     "name": "stderr",
     "output_type": "stream",
     "text": [
      "/Users/kevbot/miniconda3/envs/comb/lib/python3.9/site-packages/pandas/core/indexes/base.py:5069: FutureWarning: Using a non-tuple sequence for multidimensional indexing is deprecated; use `arr[tuple(seq)]` instead of `arr[seq]`. In the future this will be interpreted as an array index, `arr[np.array(seq)]`, which will result either in an error or a different result.\n",
      "  result = getitem(key)\n"
     ]
    },
    {
     "name": "stdout",
     "output_type": "stream",
     "text": [
      "6\n"
     ]
    },
    {
     "name": "stderr",
     "output_type": "stream",
     "text": [
      "/Users/kevbot/miniconda3/envs/comb/lib/python3.9/site-packages/pandas/core/indexes/base.py:5069: FutureWarning: Using a non-tuple sequence for multidimensional indexing is deprecated; use `arr[tuple(seq)]` instead of `arr[seq]`. In the future this will be interpreted as an array index, `arr[np.array(seq)]`, which will result either in an error or a different result.\n",
      "  result = getitem(key)\n"
     ]
    },
    {
     "name": "stdout",
     "output_type": "stream",
     "text": [
      "7\n"
     ]
    },
    {
     "name": "stderr",
     "output_type": "stream",
     "text": [
      "/Users/kevbot/miniconda3/envs/comb/lib/python3.9/site-packages/pandas/core/indexes/base.py:5069: FutureWarning: Using a non-tuple sequence for multidimensional indexing is deprecated; use `arr[tuple(seq)]` instead of `arr[seq]`. In the future this will be interpreted as an array index, `arr[np.array(seq)]`, which will result either in an error or a different result.\n",
      "  result = getitem(key)\n"
     ]
    },
    {
     "name": "stdout",
     "output_type": "stream",
     "text": [
      "8\n"
     ]
    },
    {
     "name": "stderr",
     "output_type": "stream",
     "text": [
      "/Users/kevbot/miniconda3/envs/comb/lib/python3.9/site-packages/pandas/core/indexes/base.py:5069: FutureWarning: Using a non-tuple sequence for multidimensional indexing is deprecated; use `arr[tuple(seq)]` instead of `arr[seq]`. In the future this will be interpreted as an array index, `arr[np.array(seq)]`, which will result either in an error or a different result.\n",
      "  result = getitem(key)\n"
     ]
    },
    {
     "name": "stdout",
     "output_type": "stream",
     "text": [
      "9\n"
     ]
    },
    {
     "name": "stderr",
     "output_type": "stream",
     "text": [
      "/Users/kevbot/miniconda3/envs/comb/lib/python3.9/site-packages/pandas/core/indexes/base.py:5069: FutureWarning: Using a non-tuple sequence for multidimensional indexing is deprecated; use `arr[tuple(seq)]` instead of `arr[seq]`. In the future this will be interpreted as an array index, `arr[np.array(seq)]`, which will result either in an error or a different result.\n",
      "  result = getitem(key)\n"
     ]
    }
   ],
   "source": [
    "nbits=64\n",
    "n_estimators=100\n",
    "min_samples_leaf=20\n",
    "top_n_features=10\n",
    "max_depth=10\n",
    "random_state=0\n",
    "\n",
    "# Fit Tg\n",
    "nbits=512\n",
    "df_fps = pd.read_csv(\"./descriptors/fp_nbits_rad2_typerdkit/df_fp_nbits512_rad2_typerdkit\")\n",
    "\n",
    "df_features = pd.concat([df_fps.loc[:, [str(i) for i in range(0, nbits)]], df_mord, mm.df_input.loc[:, [\"smiles_polymer\"]]], axis=1)\n",
    "\n",
    "df_tg_train = pd.DataFrame()\n",
    "\n",
    "tg_models = [GradientBoostingRegressor(n_estimators=n_estimators, max_depth=5, min_samples_leaf=min_samples_leaf, random_state=random_state) for i in range(len(mm.models))]\n",
    "tg_scalers = [{\"x\": StandardScaler(), \"y\": StandardScaler()} for i in range(len(mm.models))]\n",
    "# top_features = ['AXp-5d', 'MATS4d', 'GATS4p', 'AATS6se', 'GATS3s', 'SIC0', 'ATS1p', 'GATS5pe', 'JGI2']\n",
    "top_features = [*df_feat_imp.loc[:top_n_features, \"Feature\"]]\n",
    "\n",
    "df_features = pd.concat([df_fps.loc[:, [str(i) for i in range(0, nbits)]], df_mord, mm.df_input.loc[:, [\"smiles_polymer\"]]], axis=1)     \n",
    "df_tg_train = pd.DataFrame()\n",
    "for mi, model in enumerate(tg_models):\n",
    "    print(mi)\n",
    "    df_train = mm.models[mi].df_train.copy()\n",
    "    df_train = df_train[~df_train[\"Tg\"].isna()]\n",
    "\n",
    "    y_train = df_train[\"Tg\"].to_frame()\n",
    "    X_train = pd.DataFrame(columns = top_features)\n",
    "\n",
    "    for _, row in df_train.iterrows():\n",
    "        X_train = pd.concat([X_train, df_features.loc[df_features[\"smiles_polymer\"] == row.smiles_polymer, top_features].iloc[0, :].to_frame().T])\n",
    "\n",
    "    X_train = X_train.loc[:, top_features].reset_index(drop=True)\n",
    "    y_train = y_train.reset_index(drop=True)\n",
    "    X_train = X_train[~y_train.Tg.isna()]\n",
    "    y_train = y_train[~y_train.Tg.isna()]\n",
    "    ###\n",
    "    ###\n",
    "    ###\n",
    "    # TODO this could be bad when testing, if top_features changes\n",
    "    ###\n",
    "    ###\n",
    "    ###\n",
    "    X_train = X_train.drop(columns=X_train.columns[[X_train.isna().any()]])\n",
    "\n",
    "    # X_cols = X_train.columns\n",
    "    # y_cols = y_train.columns\n",
    "    X_train = tg_scalers[mi][\"x\"].fit_transform(X_train)\n",
    "    y_train = tg_scalers[mi][\"y\"].fit_transform(y_train)\n",
    "    # X_train = pd.DataFrame(X_train, columns=X_cols)\n",
    "    # y_train = pd.DataFrame(y_train, columns=y_cols)\n",
    "\n",
    "    model.fit(X_train, np.ravel(y_train))\n",
    "    y_pred = model.predict(X_train)\n",
    "\n",
    "    df = pd.DataFrame(\n",
    "        zip([i[0] for i in tg_scalers[mi][\"y\"].inverse_transform(y_train)], [i[0] for i in tg_scalers[mi][\"y\"].inverse_transform(y_pred.reshape(-1, 1))]),\n",
    "        columns=[\"Tg\", \"Tg_pred\"]\n",
    "    )\n",
    "\n",
    "    df[\"model_id\"] = str(mi)\n",
    "    df_tg_train = pd.concat([df_tg_train, df])\n",
    "\n",
    "# Predict on validate\n",
    "df_tg_preds = pd.DataFrame()\n",
    "for mi, model in enumerate(tg_models):\n",
    "    df_val = mm.models[mi].df_validate.copy()\n",
    "    df_val = df_val[~df_val[\"Tg\"].isna()]\n",
    "\n",
    "    y_val = df_val[\"Tg\"].to_frame()\n",
    "    X_val = pd.DataFrame(columns = top_features)\n",
    "\n",
    "    for _, row in df_val.iterrows():\n",
    "        X_val = pd.concat([X_val, df_features.loc[df_features[\"smiles_polymer\"] == row.smiles_polymer, top_features].iloc[0, :].to_frame().T])\n",
    "\n",
    "    X_val = X_val.loc[:, top_features].reset_index(drop=True)\n",
    "    y_val = y_val.reset_index(drop=True)\n",
    "\n",
    "#     X_cols = X_val.columns\n",
    "#     y_cols = y_val.columns\n",
    "    X_val = tg_scalers[mi][\"x\"].transform(X_val)\n",
    "    y_val = tg_scalers[mi][\"y\"].transform(y_val)\n",
    "    # X_val = pd.DataFrame(X_val, columns=X_cols)\n",
    "    # y_val = pd.DataFrame(y_val, columns=y_cols)\n",
    "\n",
    "    y_pred =[i[0] for i in tg_scalers[mi][\"y\"].inverse_transform(model.predict(X_val).reshape(-1, 1))]\n",
    "    y_val = [i[0] for i in tg_scalers[mi][\"y\"].inverse_transform(y_val.reshape(-1, 1))]\n",
    "\n",
    "    df = pd.DataFrame(zip(y_val, y_pred), columns=[\"Tg\", \"Tg_pred\"])\n",
    "    df[\"model_id\"] = str(mi)\n",
    "\n",
    "    df_tg_preds = pd.concat([df_tg_preds, df])\n",
    "\n",
    "pred_col = \"Tg\"\n",
    "df_to_calc = df_tg_preds\n",
    "mae_pred = np.mean(np.abs((df_to_calc[pred_col].values - df_to_calc[pred_col+\"_pred\"].values)))\n",
    "rmse_pred = np.sqrt(np.mean((df_to_calc[pred_col].values - df_to_calc[pred_col+\"_pred\"].values)**2))\n",
    "r2_pred = r2_score(df_to_calc[pred_col].values, df_to_calc[f\"{pred_col}_pred\"].values)\n",
    "\n",
    "df_to_calc = df_tg_train\n",
    "rmse_train = np.sqrt(np.mean((df_to_calc[pred_col].values - df_to_calc[pred_col+\"_pred\"].values)**2))\n",
    "mae_train = np.mean(np.abs((df_to_calc[pred_col].values - df_to_calc[pred_col+\"_pred\"].values)))\n",
    "r2_train = r2_score(df_to_calc[pred_col].values, df_to_calc[f\"{pred_col}_pred\"].values)"
   ]
  },
  {
   "cell_type": "code",
   "execution_count": 22,
   "id": "ef57082d-9566-4616-9549-53cf5f95b6e4",
   "metadata": {},
   "outputs": [
    {
     "name": "stdout",
     "output_type": "stream",
     "text": [
      "Val Prediction for:  Tg\n",
      "\tR^2:  0.8458054551010181\n",
      "\tmae: 11.536181798010409\n",
      "\trmse: 21.521182684838124\n",
      "Train Prediction for:  Tg\n",
      "\tR^2:  0.9298084358614552\n",
      "\tmae: 7.588165935693641\n",
      "\trmse: 14.520249853977203\n"
     ]
    }
   ],
   "source": [
    "from sklearn.metrics import r2_score\n",
    "pred_col = \"Tg\"\n",
    "df_to_calc = df_tg_preds\n",
    "print(\"Val Prediction for: \", pred_col)\n",
    "print(\"\\tR^2: \", r2_score(df_to_calc[pred_col].values, df_to_calc[f\"{pred_col}_pred\"].values))\n",
    "print(\"\\tmae:\", np.mean(np.abs((df_to_calc[pred_col].values - df_to_calc[pred_col+\"_pred\"].values))))\n",
    "print(\"\\trmse:\",np.sqrt(np.mean((df_to_calc[pred_col].values - df_to_calc[pred_col+\"_pred\"].values)**2)))\n",
    "\n",
    "df_to_calc = df_tg_train\n",
    "print(\"Train Prediction for: \", pred_col)\n",
    "print(\"\\tR^2: \", r2_score(df_to_calc[pred_col].values, df_to_calc[f\"{pred_col}_pred\"].values))\n",
    "print(\"\\tmae:\", np.mean(np.abs((df_to_calc[pred_col].values - df_to_calc[pred_col+\"_pred\"].values))))\n",
    "print(\"\\trmse:\",np.sqrt(np.mean((df_to_calc[pred_col].values - df_to_calc[pred_col+\"_pred\"].values)**2)))"
   ]
  },
  {
   "cell_type": "markdown",
   "id": "5e510686-5eaf-4a4e-bd58-0a8de1ef092c",
   "metadata": {
    "tags": []
   },
   "source": [
    "## T_m"
   ]
  },
  {
   "cell_type": "code",
   "execution_count": 14,
   "id": "6d40a804-a842-46aa-9b06-732c337cbff8",
   "metadata": {},
   "outputs": [
    {
     "name": "stdout",
     "output_type": "stream",
     "text": [
      "0\n"
     ]
    },
    {
     "name": "stderr",
     "output_type": "stream",
     "text": [
      "/Users/kevbot/miniconda3/envs/comb/lib/python3.9/site-packages/pandas/core/indexes/base.py:5069: FutureWarning: Using a non-tuple sequence for multidimensional indexing is deprecated; use `arr[tuple(seq)]` instead of `arr[seq]`. In the future this will be interpreted as an array index, `arr[np.array(seq)]`, which will result either in an error or a different result.\n",
      "  result = getitem(key)\n"
     ]
    },
    {
     "name": "stdout",
     "output_type": "stream",
     "text": [
      "1\n"
     ]
    },
    {
     "name": "stderr",
     "output_type": "stream",
     "text": [
      "/Users/kevbot/miniconda3/envs/comb/lib/python3.9/site-packages/pandas/core/indexes/base.py:5069: FutureWarning: Using a non-tuple sequence for multidimensional indexing is deprecated; use `arr[tuple(seq)]` instead of `arr[seq]`. In the future this will be interpreted as an array index, `arr[np.array(seq)]`, which will result either in an error or a different result.\n",
      "  result = getitem(key)\n"
     ]
    },
    {
     "name": "stdout",
     "output_type": "stream",
     "text": [
      "2\n"
     ]
    },
    {
     "name": "stderr",
     "output_type": "stream",
     "text": [
      "/Users/kevbot/miniconda3/envs/comb/lib/python3.9/site-packages/pandas/core/indexes/base.py:5069: FutureWarning: Using a non-tuple sequence for multidimensional indexing is deprecated; use `arr[tuple(seq)]` instead of `arr[seq]`. In the future this will be interpreted as an array index, `arr[np.array(seq)]`, which will result either in an error or a different result.\n",
      "  result = getitem(key)\n"
     ]
    },
    {
     "name": "stdout",
     "output_type": "stream",
     "text": [
      "3\n"
     ]
    },
    {
     "name": "stderr",
     "output_type": "stream",
     "text": [
      "/Users/kevbot/miniconda3/envs/comb/lib/python3.9/site-packages/pandas/core/indexes/base.py:5069: FutureWarning: Using a non-tuple sequence for multidimensional indexing is deprecated; use `arr[tuple(seq)]` instead of `arr[seq]`. In the future this will be interpreted as an array index, `arr[np.array(seq)]`, which will result either in an error or a different result.\n",
      "  result = getitem(key)\n"
     ]
    },
    {
     "name": "stdout",
     "output_type": "stream",
     "text": [
      "4\n"
     ]
    },
    {
     "name": "stderr",
     "output_type": "stream",
     "text": [
      "/Users/kevbot/miniconda3/envs/comb/lib/python3.9/site-packages/pandas/core/indexes/base.py:5069: FutureWarning: Using a non-tuple sequence for multidimensional indexing is deprecated; use `arr[tuple(seq)]` instead of `arr[seq]`. In the future this will be interpreted as an array index, `arr[np.array(seq)]`, which will result either in an error or a different result.\n",
      "  result = getitem(key)\n"
     ]
    },
    {
     "name": "stdout",
     "output_type": "stream",
     "text": [
      "5\n"
     ]
    },
    {
     "name": "stderr",
     "output_type": "stream",
     "text": [
      "/Users/kevbot/miniconda3/envs/comb/lib/python3.9/site-packages/pandas/core/indexes/base.py:5069: FutureWarning: Using a non-tuple sequence for multidimensional indexing is deprecated; use `arr[tuple(seq)]` instead of `arr[seq]`. In the future this will be interpreted as an array index, `arr[np.array(seq)]`, which will result either in an error or a different result.\n",
      "  result = getitem(key)\n"
     ]
    },
    {
     "name": "stdout",
     "output_type": "stream",
     "text": [
      "6\n"
     ]
    },
    {
     "name": "stderr",
     "output_type": "stream",
     "text": [
      "/Users/kevbot/miniconda3/envs/comb/lib/python3.9/site-packages/pandas/core/indexes/base.py:5069: FutureWarning: Using a non-tuple sequence for multidimensional indexing is deprecated; use `arr[tuple(seq)]` instead of `arr[seq]`. In the future this will be interpreted as an array index, `arr[np.array(seq)]`, which will result either in an error or a different result.\n",
      "  result = getitem(key)\n"
     ]
    },
    {
     "name": "stdout",
     "output_type": "stream",
     "text": [
      "7\n"
     ]
    },
    {
     "name": "stderr",
     "output_type": "stream",
     "text": [
      "/Users/kevbot/miniconda3/envs/comb/lib/python3.9/site-packages/pandas/core/indexes/base.py:5069: FutureWarning: Using a non-tuple sequence for multidimensional indexing is deprecated; use `arr[tuple(seq)]` instead of `arr[seq]`. In the future this will be interpreted as an array index, `arr[np.array(seq)]`, which will result either in an error or a different result.\n",
      "  result = getitem(key)\n"
     ]
    },
    {
     "name": "stdout",
     "output_type": "stream",
     "text": [
      "8\n"
     ]
    },
    {
     "name": "stderr",
     "output_type": "stream",
     "text": [
      "/Users/kevbot/miniconda3/envs/comb/lib/python3.9/site-packages/pandas/core/indexes/base.py:5069: FutureWarning: Using a non-tuple sequence for multidimensional indexing is deprecated; use `arr[tuple(seq)]` instead of `arr[seq]`. In the future this will be interpreted as an array index, `arr[np.array(seq)]`, which will result either in an error or a different result.\n",
      "  result = getitem(key)\n"
     ]
    },
    {
     "name": "stdout",
     "output_type": "stream",
     "text": [
      "9\n"
     ]
    },
    {
     "name": "stderr",
     "output_type": "stream",
     "text": [
      "/Users/kevbot/miniconda3/envs/comb/lib/python3.9/site-packages/pandas/core/indexes/base.py:5069: FutureWarning: Using a non-tuple sequence for multidimensional indexing is deprecated; use `arr[tuple(seq)]` instead of `arr[seq]`. In the future this will be interpreted as an array index, `arr[np.array(seq)]`, which will result either in an error or a different result.\n",
      "  result = getitem(key)\n"
     ]
    }
   ],
   "source": [
    "# Fit Tm\n",
    "nbits=64\n",
    "n_estimators=100\n",
    "min_samples_leaf=20\n",
    "top_n_features=10\n",
    "max_depth=10\n",
    "random_state=0\n",
    "\n",
    "# Fit Tg\n",
    "nbits=512\n",
    "df_fps = pd.read_csv(\"./descriptors/fp_nbits_rad2_typerdkit/df_fp_nbits512_rad2_typerdkit\")\n",
    "\n",
    "tm_models = [GradientBoostingRegressor(n_estimators=n_estimators, max_depth=max_depth, min_samples_leaf=min_samples_leaf, random_state=random_state) for i in range(len(mm.models))]\n",
    "df_features = pd.concat([df_fps.loc[:, [str(i) for i in range(0, nbits)]], df_mord, mm.df_input.loc[:, [\"smiles_polymer\"]]], axis=1)\n",
    "tm_scalers = [{\"x\": StandardScaler(), \"y\": StandardScaler()} for i in range(len(mm.models))]\n",
    "# top_features = ['AXp-5d', 'MATS4d', 'GATS4p', 'AATS6se', 'GATS3s', 'SIC0', 'ATS1p', 'GATS5pe', 'JGI2']\n",
    "top_features = [*df_feat_imp.loc[:top_n_features, \"Feature\"]]\n",
    "\n",
    "df_tm_train = pd.DataFrame()\n",
    "for mi, model in enumerate(tm_models):\n",
    "    print(mi)\n",
    "    df_train = mm.models[mi].df_train.copy()\n",
    "    df_train = df_train[~df_train[\"Tm\"].isna()]\n",
    "\n",
    "    y_train = df_train[\"Tm\"].to_frame()\n",
    "    X_train = pd.DataFrame(columns = top_features)\n",
    "\n",
    "    for _, row in df_train.iterrows():\n",
    "        X_train = pd.concat([X_train, df_features.loc[df_features[\"smiles_polymer\"] == row.smiles_polymer, top_features].iloc[0, :].to_frame().T])\n",
    "\n",
    "    X_train = X_train.loc[:, top_features].reset_index(drop=True)\n",
    "    y_train = y_train.reset_index(drop=True)\n",
    "    X_train = X_train[~y_train.Tm.isna()]\n",
    "    y_train = y_train[~y_train.Tm.isna()]\n",
    "    ###\n",
    "    ###\n",
    "    ###\n",
    "    # TODO this could be bad when testing, if top_features changes\n",
    "    ###\n",
    "    ###\n",
    "    ###\n",
    "    X_train = X_train.drop(columns=X_train.columns[[X_train.isna().any()]])\n",
    "\n",
    "    # X_cols = X_train.columns\n",
    "    # y_cols = y_train.columns\n",
    "    X_train = tm_scalers[mi][\"x\"].fit_transform(X_train)\n",
    "    y_train = tm_scalers[mi][\"y\"].fit_transform(y_train)\n",
    "    # X_train = pd.DataFrame(X_train, columns=X_cols)\n",
    "    # y_train = pd.DataFrame(y_train, columns=y_cols)\n",
    "\n",
    "    model.fit(X_train, np.ravel(y_train))\n",
    "    y_pred = model.predict(X_train)\n",
    "\n",
    "    df = pd.DataFrame(\n",
    "        zip([i[0] for i in tm_scalers[mi][\"y\"].inverse_transform(y_train)], [i[0] for i in tm_scalers[mi][\"y\"].inverse_transform(y_pred.reshape(-1, 1))]),\n",
    "        columns=[\"Tm\", \"Tm_pred\"]\n",
    "    )\n",
    "\n",
    "    df[\"model_id\"] = str(mi)\n",
    "    df_tm_train = pd.concat([df_tm_train, df])\n",
    "\n",
    "# Predict on validate\n",
    "df_tm_preds = pd.DataFrame()\n",
    "for mi, model in enumerate(tm_models):\n",
    "    df_val = mm.models[mi].df_validate.copy()\n",
    "    df_val = df_val[~df_val[\"Tm\"].isna()]\n",
    "\n",
    "    y_val = df_val[\"Tm\"].to_frame()\n",
    "    X_val = pd.DataFrame(columns = top_features)\n",
    "\n",
    "    for _, row in df_val.iterrows():\n",
    "        X_val = pd.concat([X_val, df_features.loc[df_features[\"smiles_polymer\"] == row.smiles_polymer, top_features].iloc[0, :].to_frame().T])\n",
    "\n",
    "    X_val = X_val.loc[:, top_features].reset_index(drop=True)\n",
    "    y_val = y_val.reset_index(drop=True)\n",
    "\n",
    "#     X_cols = X_val.columns\n",
    "#     y_cols = y_val.columns\n",
    "    X_val = tm_scalers[mi][\"x\"].transform(X_val)\n",
    "    y_val = tm_scalers[mi][\"y\"].transform(y_val)\n",
    "    # X_val = pd.DataFrame(X_val, columns=X_cols)\n",
    "    # y_val = pd.DataFrame(y_val, columns=y_cols)\n",
    "\n",
    "    y_pred = [i[0] for i in tm_scalers[mi][\"y\"].inverse_transform(model.predict(X_val).reshape(-1, 1))]\n",
    "    y_val = [i[0] for i in tm_scalers[mi][\"y\"].inverse_transform(y_val.reshape(-1, 1))]\n",
    "\n",
    "    df = pd.DataFrame(zip(y_val, y_pred), columns=[\"Tm\", \"Tm_pred\"])\n",
    "    df[\"model_id\"] = str(mi)\n",
    "\n",
    "    df_tm_preds = pd.concat([df_tm_preds, df])\n",
    "\n",
    "pred_col = \"Tm\"\n",
    "df_to_calc = df_tm_preds\n",
    "mae_pred = np.mean(np.abs((df_to_calc[pred_col].values - df_to_calc[pred_col+\"_pred\"].values)))\n",
    "rmse_pred = np.sqrt(np.mean((df_to_calc[pred_col].values - df_to_calc[pred_col+\"_pred\"].values)**2))\n",
    "r2_pred = r2_score(df_to_calc[pred_col].values, df_to_calc[f\"{pred_col}_pred\"].values)\n",
    "\n",
    "df_to_calc = df_tm_train\n",
    "rmse_train = np.sqrt(np.mean((df_to_calc[pred_col].values - df_to_calc[pred_col+\"_pred\"].values)**2))\n",
    "mae_train = np.mean(np.abs((df_to_calc[pred_col].values - df_to_calc[pred_col+\"_pred\"].values)))\n",
    "r2_train = r2_score(df_to_calc[pred_col].values, df_to_calc[f\"{pred_col}_pred\"].values)"
   ]
  },
  {
   "cell_type": "code",
   "execution_count": 19,
   "id": "0649efb6-d33f-4163-b3a9-a0058c7bda02",
   "metadata": {},
   "outputs": [
    {
     "name": "stdout",
     "output_type": "stream",
     "text": [
      "Val Prediction for:  Tm\n",
      "\tR^2:  0.7570480766595671\n",
      "\tmae: 21.32345130700211\n",
      "\trmse: 34.200178551986816\n",
      "Train Prediction for:  Tm\n",
      "\tR^2:  0.8766639541700949\n",
      "\tmae: 14.105110301573726\n",
      "\trmse: 24.36762558799539\n"
     ]
    }
   ],
   "source": [
    "from sklearn.metrics import r2_score\n",
    "pred_col = \"Tm\"\n",
    "df_to_calc = df_tm_preds\n",
    "print(\"Val Prediction for: \", pred_col)\n",
    "print(\"\\tR^2: \", r2_score(df_to_calc[pred_col].values, df_to_calc[f\"{pred_col}_pred\"].values))\n",
    "print(\"\\tmae:\", np.mean(np.abs((df_to_calc[pred_col].values - df_to_calc[pred_col+\"_pred\"].values))))\n",
    "print(\"\\trmse:\",np.sqrt(np.mean((df_to_calc[pred_col].values - df_to_calc[pred_col+\"_pred\"].values)**2)))\n",
    "\n",
    "df_to_calc = df_tm_train\n",
    "print(\"Train Prediction for: \", pred_col)\n",
    "print(\"\\tR^2: \", r2_score(df_to_calc[pred_col].values, df_to_calc[f\"{pred_col}_pred\"].values))\n",
    "print(\"\\tmae:\", np.mean(np.abs((df_to_calc[pred_col].values - df_to_calc[pred_col+\"_pred\"].values))))\n",
    "print(\"\\trmse:\",np.sqrt(np.mean((df_to_calc[pred_col].values - df_to_calc[pred_col+\"_pred\"].values)**2)))"
   ]
  },
  {
   "cell_type": "code",
   "execution_count": 23,
   "id": "12e5ef7f-4bbf-48f0-8a94-1e37bcd32c9a",
   "metadata": {},
   "outputs": [],
   "source": [
    "# Join together results\n",
    "df_results = pd.concat([df_tg_preds, df_tm_preds])\n",
    "df_results[\"model\"] = \"RF_nopm\"\n",
    "\n",
    "df_results[\"Tg_MAE\"] = abs(df_results[\"Tg\"] - df_results[\"Tg_pred\"])\n",
    "df_results[\"Tm_MAE\"] = abs(df_results[\"Tm\"] - df_results[\"Tm_pred\"])\n",
    "df_results.groupby(by=[\"model\", \"model_id\"]).aggregate(\"mean\").reset_index().drop(columns=[\"Tg\", \"Tg_pred\", \"Tm\", \"Tm_pred\"])\n",
    "df_results.to_csv(\"RF_results/MAE_RF_nopm_results.csv\")"
   ]
  },
  {
   "cell_type": "markdown",
   "id": "52ac0979-95c0-4272-a20e-0c49bca1091f",
   "metadata": {
    "tags": []
   },
   "source": [
    "# Package Models Into Class"
   ]
  },
  {
   "cell_type": "code",
   "execution_count": 31,
   "id": "2cb1a9c8-eac4-4fe7-a65f-5215488dc269",
   "metadata": {},
   "outputs": [],
   "source": [
    "class GB_nopm_Predictors:\n",
    "    def __init__(self):\n",
    "        self.tg_models = None\n",
    "        self.tg_scalers = None\n",
    "        self.tm_models = None\n",
    "        self.tm_scalers = None\n",
    "        self.df_features = None\n",
    "        self.top_features = ['AXp-5d', 'MATS4d', 'GATS4p', 'AATS6se', 'GATS3s', 'SIC0', 'ATS1p', 'GATS5pe', 'JGI2']\n",
    "\n",
    "        self.mordred_descriptors = [\n",
    "            mordred.Chi.Chi(\"path\", 5, \"d\", True),\n",
    "            mordred.Autocorrelation.MATS(4, \"d\"),\n",
    "            mordred.Autocorrelation.GATS(4, \"p\"),\n",
    "            mordred.Autocorrelation.GATS(4, \"s\"),\n",
    "            mordred.InformationContent.StructuralIC(0),\n",
    "            mordred.Autocorrelation.AATS(6, \"se\"),\n",
    "            mordred.Autocorrelation.GATS(3, \"s\"),\n",
    "            mordred.Autocorrelation.ATS(1, \"p\"),\n",
    "            mordred.Autocorrelation.GATS(5, \"pe\"),\n",
    "            mordred.TopologicalCharge.TopologicalCharge('mean', 2)\n",
    "        ]\n",
    "        self.MordCalc = Calculator(self.mordred_descriptors, ignore_3D=True)\n",
    "        \n",
    "    def gen_feature_df(self, df_polymer):\n",
    "        df_polymer[\"mol\"] = df_polymer.smiles_polymer.apply(Chem.MolFromSmiles)\n",
    "        df_mord = self.MordCalc.pandas(list(df_polymer.mol.values))\n",
    "        # This iteration doesn't include any fingerprints, so ignored here\n",
    "        df_mord.index = df_polymer.index\n",
    "        self.df_features = pd.concat([df_polymer, df_mord], axis=1).reset_index(drop=True)\n",
    "    \n",
    "    def predict_Tm(self, df_polymer):\n",
    "        df_tm_preds = pd.DataFrame()\n",
    "        for mi, model in enumerate(self.tm_models):\n",
    "            print(mi)\n",
    "            df_val = df_polymer.copy()\n",
    "            X_val = pd.DataFrame(columns = self.top_features)\n",
    "\n",
    "            for _, row in df_val.iterrows():\n",
    "                X_val = pd.concat([X_val, self.df_features.loc[self.df_features[\"smiles_polymer\"] == row.smiles_polymer, self.top_features].iloc[0, :].to_frame().T])\n",
    "\n",
    "            X_val = X_val.loc[:, self.top_features].reset_index(drop=True)\n",
    "            X_val = self.tm_scalers[mi][\"x\"].transform(X_val)\n",
    "            y_pred = [i[0] for i in self.tm_scalers[mi][\"y\"].inverse_transform(model.predict(X_val).reshape(-1, 1))]\n",
    "\n",
    "            df = pd.DataFrame(y_pred, columns=[\"Tm_pred\"], index=df_polymer.index)\n",
    "            df[\"model_id\"] = str(mi)\n",
    "            df = pd.concat([df_polymer, df], axis=1)\n",
    "\n",
    "            df_tm_preds = pd.concat([df_tm_preds, df])\n",
    "            \n",
    "        return df_tm_preds\n",
    "    \n",
    "    def predict_Tg(self, df_polymer):\n",
    "        df_tm_preds = pd.DataFrame()\n",
    "        for mi, model in enumerate(self.tg_models):\n",
    "            print(mi)\n",
    "            df_val = df_polymer.copy()\n",
    "            X_val = pd.DataFrame(columns = self.top_features)\n",
    "\n",
    "            for _, row in df_val.iterrows():\n",
    "                X_val = pd.concat([X_val, self.df_features.loc[self.df_features[\"smiles_polymer\"] == row.smiles_polymer, self.top_features].iloc[0, :].to_frame().T])\n",
    "\n",
    "            X_val = X_val.loc[:, self.top_features].reset_index(drop=True)\n",
    "            X_val = self.tm_scalers[mi][\"x\"].transform(X_val)\n",
    "            y_pred = [i[0] for i in self.tg_scalers[mi][\"y\"].inverse_transform(model.predict(X_val).reshape(-1, 1))]\n",
    "\n",
    "            df = pd.DataFrame(y_pred, columns=[\"Tg_pred\"], index=df_polymer.index)\n",
    "            df[\"model_id\"] = str(mi)\n",
    "            df = pd.concat([df_polymer, df], axis=1)\n",
    "\n",
    "            df_tm_preds = pd.concat([df_tm_preds, df])\n",
    "            \n",
    "        return df_tm_preds\n",
    "    \n",
    "    def predict(self, df_polymer):\n",
    "        df_tg = self.predict_Tg(df_polymer)\n",
    "        df_tm = self.predict_Tm(df_polymer)\n",
    "        \n",
    "        return pd.concat([df_tg, df_tm[\"Tm_pred\"]], axis=1)\n"
   ]
  },
  {
   "cell_type": "code",
   "execution_count": 33,
   "id": "55cc9b17-b3a6-4c4d-abca-da3b3af75abf",
   "metadata": {},
   "outputs": [],
   "source": [
    "preds = GB_nopm_Predictors()\n",
    "\n",
    "# preds.df_mord = df_mord\n",
    "preds.tg_models = tg_models\n",
    "preds.tg_scalers = tg_scalers\n",
    "preds.tm_models = tm_models\n",
    "preds.tm_scalers = tm_scalers\n",
    "preds.df_features = df_features\n",
    "\n",
    "to_pickle = {\n",
    "    \"source_data\": mm.df_input,\n",
    "    \"model\": preds\n",
    "}\n",
    "\n",
    "with open(\"./models/GB_nopm.pk\", \"wb\") as f:\n",
    "    pk.dump(to_pickle, f)"
   ]
  },
  {
   "cell_type": "code",
   "execution_count": 35,
   "id": "993747a5-de8e-42f7-910e-394c288e5492",
   "metadata": {},
   "outputs": [
    {
     "name": "stderr",
     "output_type": "stream",
     "text": [
      "  4%|███▍                                                                                           | 115/3195 [00:14<06:35,  7.79it/s]\n"
     ]
    },
    {
     "ename": "KeyboardInterrupt",
     "evalue": "",
     "output_type": "error",
     "traceback": [
      "\u001b[0;31m---------------------------------------------------------------------------\u001b[0m",
      "\u001b[0;31mKeyboardInterrupt\u001b[0m                         Traceback (most recent call last)",
      "Cell \u001b[0;32mIn[35], line 6\u001b[0m\n\u001b[1;32m      3\u001b[0m model \u001b[38;5;241m=\u001b[39m model_dict[\u001b[38;5;124m\"\u001b[39m\u001b[38;5;124mmodel\u001b[39m\u001b[38;5;124m\"\u001b[39m]\n\u001b[1;32m      5\u001b[0m df_polymer \u001b[38;5;241m=\u001b[39m mm\u001b[38;5;241m.\u001b[39mdf_input\u001b[38;5;66;03m#[~mm.df_input.duplicated(\"smiles_monomer\")]\u001b[39;00m\n\u001b[0;32m----> 6\u001b[0m \u001b[43mmodel\u001b[49m\u001b[38;5;241;43m.\u001b[39;49m\u001b[43mgen_feature_df\u001b[49m\u001b[43m(\u001b[49m\u001b[43mdf_polymer\u001b[49m\u001b[43m)\u001b[49m\n\u001b[1;32m      7\u001b[0m df_pred \u001b[38;5;241m=\u001b[39m model\u001b[38;5;241m.\u001b[39mpredict(df_polymer)\n",
      "Cell \u001b[0;32mIn[31], line 26\u001b[0m, in \u001b[0;36mGB_nopm_Predictors.gen_feature_df\u001b[0;34m(self, df_polymer)\u001b[0m\n\u001b[1;32m     24\u001b[0m \u001b[38;5;28;01mdef\u001b[39;00m \u001b[38;5;21mgen_feature_df\u001b[39m(\u001b[38;5;28mself\u001b[39m, df_polymer):\n\u001b[1;32m     25\u001b[0m     df_polymer[\u001b[38;5;124m\"\u001b[39m\u001b[38;5;124mmol\u001b[39m\u001b[38;5;124m\"\u001b[39m] \u001b[38;5;241m=\u001b[39m df_polymer\u001b[38;5;241m.\u001b[39msmiles_polymer\u001b[38;5;241m.\u001b[39mapply(Chem\u001b[38;5;241m.\u001b[39mMolFromSmiles)\n\u001b[0;32m---> 26\u001b[0m     df_mord \u001b[38;5;241m=\u001b[39m \u001b[38;5;28;43mself\u001b[39;49m\u001b[38;5;241;43m.\u001b[39;49m\u001b[43mMordCalc\u001b[49m\u001b[38;5;241;43m.\u001b[39;49m\u001b[43mpandas\u001b[49m\u001b[43m(\u001b[49m\u001b[38;5;28;43mlist\u001b[39;49m\u001b[43m(\u001b[49m\u001b[43mdf_polymer\u001b[49m\u001b[38;5;241;43m.\u001b[39;49m\u001b[43mmol\u001b[49m\u001b[38;5;241;43m.\u001b[39;49m\u001b[43mvalues\u001b[49m\u001b[43m)\u001b[49m\u001b[43m)\u001b[49m\n\u001b[1;32m     27\u001b[0m     \u001b[38;5;66;03m# This iteration doesn't include any fingerprints, so ignored here\u001b[39;00m\n\u001b[1;32m     28\u001b[0m     df_mord\u001b[38;5;241m.\u001b[39mindex \u001b[38;5;241m=\u001b[39m df_polymer\u001b[38;5;241m.\u001b[39mindex\n",
      "File \u001b[0;32m~/miniconda3/envs/comb/lib/python3.9/site-packages/mordred/_base/calculator.py:397\u001b[0m, in \u001b[0;36mCalculator.pandas\u001b[0;34m(self, mols, nproc, nmols, quiet, ipynb, id)\u001b[0m\n\u001b[1;32m    394\u001b[0m \u001b[38;5;28;01melse\u001b[39;00m:\n\u001b[1;32m    395\u001b[0m     index \u001b[38;5;241m=\u001b[39m \u001b[38;5;28;01mNone\u001b[39;00m\n\u001b[0;32m--> 397\u001b[0m \u001b[38;5;28;01mreturn\u001b[39;00m \u001b[43mMordredDataFrame\u001b[49m\u001b[43m(\u001b[49m\n\u001b[1;32m    398\u001b[0m \u001b[43m    \u001b[49m\u001b[43m(\u001b[49m\u001b[38;5;28;43mlist\u001b[39;49m\u001b[43m(\u001b[49m\u001b[43mr\u001b[49m\u001b[43m)\u001b[49m\u001b[43m \u001b[49m\u001b[38;5;28;43;01mfor\u001b[39;49;00m\u001b[43m \u001b[49m\u001b[43mr\u001b[49m\u001b[43m \u001b[49m\u001b[38;5;129;43;01min\u001b[39;49;00m\u001b[43m \u001b[49m\u001b[38;5;28;43mself\u001b[39;49m\u001b[38;5;241;43m.\u001b[39;49m\u001b[43mmap\u001b[49m\u001b[43m(\u001b[49m\u001b[43mmols\u001b[49m\u001b[43m,\u001b[49m\u001b[43m \u001b[49m\u001b[43mnproc\u001b[49m\u001b[43m,\u001b[49m\u001b[43m \u001b[49m\u001b[43mnmols\u001b[49m\u001b[43m,\u001b[49m\u001b[43m \u001b[49m\u001b[43mquiet\u001b[49m\u001b[43m,\u001b[49m\u001b[43m \u001b[49m\u001b[43mipynb\u001b[49m\u001b[43m,\u001b[49m\u001b[43m \u001b[49m\u001b[38;5;28;43mid\u001b[39;49m\u001b[43m)\u001b[49m\u001b[43m)\u001b[49m\u001b[43m,\u001b[49m\n\u001b[1;32m    399\u001b[0m \u001b[43m    \u001b[49m\u001b[43mcolumns\u001b[49m\u001b[38;5;241;43m=\u001b[39;49m\u001b[43m[\u001b[49m\u001b[38;5;28;43mstr\u001b[39;49m\u001b[43m(\u001b[49m\u001b[43md\u001b[49m\u001b[43m)\u001b[49m\u001b[43m \u001b[49m\u001b[38;5;28;43;01mfor\u001b[39;49;00m\u001b[43m \u001b[49m\u001b[43md\u001b[49m\u001b[43m \u001b[49m\u001b[38;5;129;43;01min\u001b[39;49;00m\u001b[43m \u001b[49m\u001b[38;5;28;43mself\u001b[39;49m\u001b[38;5;241;43m.\u001b[39;49m\u001b[43mdescriptors\u001b[49m\u001b[43m]\u001b[49m\u001b[43m,\u001b[49m\n\u001b[1;32m    400\u001b[0m \u001b[43m    \u001b[49m\u001b[43mindex\u001b[49m\u001b[38;5;241;43m=\u001b[39;49m\u001b[43mindex\u001b[49m\u001b[43m,\u001b[49m\n\u001b[1;32m    401\u001b[0m \u001b[43m\u001b[49m\u001b[43m)\u001b[49m\n",
      "File \u001b[0;32m~/miniconda3/envs/comb/lib/python3.9/site-packages/pandas/core/frame.py:710\u001b[0m, in \u001b[0;36mDataFrame.__init__\u001b[0;34m(self, data, index, columns, dtype, copy)\u001b[0m\n\u001b[1;32m    708\u001b[0m         data \u001b[38;5;241m=\u001b[39m np\u001b[38;5;241m.\u001b[39masarray(data)\n\u001b[1;32m    709\u001b[0m     \u001b[38;5;28;01melse\u001b[39;00m:\n\u001b[0;32m--> 710\u001b[0m         data \u001b[38;5;241m=\u001b[39m \u001b[38;5;28;43mlist\u001b[39;49m\u001b[43m(\u001b[49m\u001b[43mdata\u001b[49m\u001b[43m)\u001b[49m\n\u001b[1;32m    711\u001b[0m \u001b[38;5;28;01mif\u001b[39;00m \u001b[38;5;28mlen\u001b[39m(data) \u001b[38;5;241m>\u001b[39m \u001b[38;5;241m0\u001b[39m:\n\u001b[1;32m    712\u001b[0m     \u001b[38;5;28;01mif\u001b[39;00m is_dataclass(data[\u001b[38;5;241m0\u001b[39m]):\n",
      "File \u001b[0;32m~/miniconda3/envs/comb/lib/python3.9/site-packages/mordred/_base/calculator.py:398\u001b[0m, in \u001b[0;36m<genexpr>\u001b[0;34m(.0)\u001b[0m\n\u001b[1;32m    394\u001b[0m \u001b[38;5;28;01melse\u001b[39;00m:\n\u001b[1;32m    395\u001b[0m     index \u001b[38;5;241m=\u001b[39m \u001b[38;5;28;01mNone\u001b[39;00m\n\u001b[1;32m    397\u001b[0m \u001b[38;5;28;01mreturn\u001b[39;00m MordredDataFrame(\n\u001b[0;32m--> 398\u001b[0m     (\u001b[38;5;28mlist\u001b[39m(r) \u001b[38;5;28;01mfor\u001b[39;00m r \u001b[38;5;129;01min\u001b[39;00m \u001b[38;5;28mself\u001b[39m\u001b[38;5;241m.\u001b[39mmap(mols, nproc, nmols, quiet, ipynb, \u001b[38;5;28mid\u001b[39m)),\n\u001b[1;32m    399\u001b[0m     columns\u001b[38;5;241m=\u001b[39m[\u001b[38;5;28mstr\u001b[39m(d) \u001b[38;5;28;01mfor\u001b[39;00m d \u001b[38;5;129;01min\u001b[39;00m \u001b[38;5;28mself\u001b[39m\u001b[38;5;241m.\u001b[39mdescriptors],\n\u001b[1;32m    400\u001b[0m     index\u001b[38;5;241m=\u001b[39mindex,\n\u001b[1;32m    401\u001b[0m )\n",
      "File \u001b[0;32m~/miniconda3/envs/comb/lib/python3.9/site-packages/mordred/_base/parallel.py:79\u001b[0m, in \u001b[0;36mparallel\u001b[0;34m(calc, mols, nproc, nmols, quiet, ipynb, id)\u001b[0m\n\u001b[1;32m     77\u001b[0m \u001b[38;5;28;01mdef\u001b[39;00m \u001b[38;5;21mparallel\u001b[39m(calc, mols, nproc, nmols, quiet, ipynb, \u001b[38;5;28mid\u001b[39m):\n\u001b[1;32m     78\u001b[0m     \u001b[38;5;28;01mwith\u001b[39;00m MolPool(calc, nproc) \u001b[38;5;28;01mas\u001b[39;00m pool, calc\u001b[38;5;241m.\u001b[39m_progress(quiet, nmols, ipynb) \u001b[38;5;28;01mas\u001b[39;00m bar:\n\u001b[0;32m---> 79\u001b[0m         \u001b[38;5;28;01mfor\u001b[39;00m mol, (r, err) \u001b[38;5;129;01min\u001b[39;00m pool\u001b[38;5;241m.\u001b[39mmap(mols, \u001b[38;5;28mid\u001b[39m):\n\u001b[1;32m     80\u001b[0m             \u001b[38;5;28;01mfor\u001b[39;00m e \u001b[38;5;129;01min\u001b[39;00m err:\n\u001b[1;32m     81\u001b[0m                 e \u001b[38;5;241m=\u001b[39m e\u001b[38;5;241m.\u001b[39mrstrip()\n",
      "File \u001b[0;32m~/miniconda3/envs/comb/lib/python3.9/site-packages/mordred/_base/parallel.py:70\u001b[0m, in \u001b[0;36mMolIterator.__next__\u001b[0;34m(self)\u001b[0m\n\u001b[1;32m     68\u001b[0m \u001b[38;5;28;01mtry\u001b[39;00m:\n\u001b[1;32m     69\u001b[0m     mol, fut \u001b[38;5;241m=\u001b[39m \u001b[38;5;28mself\u001b[39m\u001b[38;5;241m.\u001b[39mfutures\u001b[38;5;241m.\u001b[39mpopleft()\n\u001b[0;32m---> 70\u001b[0m     \u001b[38;5;28;01mreturn\u001b[39;00m mol, \u001b[43mfut\u001b[49m\u001b[38;5;241;43m.\u001b[39;49m\u001b[43mget\u001b[49m\u001b[43m(\u001b[49m\u001b[43m)\u001b[49m\n\u001b[1;32m     71\u001b[0m \u001b[38;5;28;01mexcept\u001b[39;00m \u001b[38;5;167;01mIndexError\u001b[39;00m:\n\u001b[1;32m     72\u001b[0m     \u001b[38;5;28;01mraise\u001b[39;00m \u001b[38;5;167;01mStopIteration\u001b[39;00m\n",
      "File \u001b[0;32m~/miniconda3/envs/comb/lib/python3.9/multiprocessing/pool.py:765\u001b[0m, in \u001b[0;36mApplyResult.get\u001b[0;34m(self, timeout)\u001b[0m\n\u001b[1;32m    764\u001b[0m \u001b[38;5;28;01mdef\u001b[39;00m \u001b[38;5;21mget\u001b[39m(\u001b[38;5;28mself\u001b[39m, timeout\u001b[38;5;241m=\u001b[39m\u001b[38;5;28;01mNone\u001b[39;00m):\n\u001b[0;32m--> 765\u001b[0m     \u001b[38;5;28;43mself\u001b[39;49m\u001b[38;5;241;43m.\u001b[39;49m\u001b[43mwait\u001b[49m\u001b[43m(\u001b[49m\u001b[43mtimeout\u001b[49m\u001b[43m)\u001b[49m\n\u001b[1;32m    766\u001b[0m     \u001b[38;5;28;01mif\u001b[39;00m \u001b[38;5;129;01mnot\u001b[39;00m \u001b[38;5;28mself\u001b[39m\u001b[38;5;241m.\u001b[39mready():\n\u001b[1;32m    767\u001b[0m         \u001b[38;5;28;01mraise\u001b[39;00m \u001b[38;5;167;01mTimeoutError\u001b[39;00m\n",
      "File \u001b[0;32m~/miniconda3/envs/comb/lib/python3.9/multiprocessing/pool.py:762\u001b[0m, in \u001b[0;36mApplyResult.wait\u001b[0;34m(self, timeout)\u001b[0m\n\u001b[1;32m    761\u001b[0m \u001b[38;5;28;01mdef\u001b[39;00m \u001b[38;5;21mwait\u001b[39m(\u001b[38;5;28mself\u001b[39m, timeout\u001b[38;5;241m=\u001b[39m\u001b[38;5;28;01mNone\u001b[39;00m):\n\u001b[0;32m--> 762\u001b[0m     \u001b[38;5;28;43mself\u001b[39;49m\u001b[38;5;241;43m.\u001b[39;49m\u001b[43m_event\u001b[49m\u001b[38;5;241;43m.\u001b[39;49m\u001b[43mwait\u001b[49m\u001b[43m(\u001b[49m\u001b[43mtimeout\u001b[49m\u001b[43m)\u001b[49m\n",
      "File \u001b[0;32m~/miniconda3/envs/comb/lib/python3.9/threading.py:574\u001b[0m, in \u001b[0;36mEvent.wait\u001b[0;34m(self, timeout)\u001b[0m\n\u001b[1;32m    572\u001b[0m signaled \u001b[38;5;241m=\u001b[39m \u001b[38;5;28mself\u001b[39m\u001b[38;5;241m.\u001b[39m_flag\n\u001b[1;32m    573\u001b[0m \u001b[38;5;28;01mif\u001b[39;00m \u001b[38;5;129;01mnot\u001b[39;00m signaled:\n\u001b[0;32m--> 574\u001b[0m     signaled \u001b[38;5;241m=\u001b[39m \u001b[38;5;28;43mself\u001b[39;49m\u001b[38;5;241;43m.\u001b[39;49m\u001b[43m_cond\u001b[49m\u001b[38;5;241;43m.\u001b[39;49m\u001b[43mwait\u001b[49m\u001b[43m(\u001b[49m\u001b[43mtimeout\u001b[49m\u001b[43m)\u001b[49m\n\u001b[1;32m    575\u001b[0m \u001b[38;5;28;01mreturn\u001b[39;00m signaled\n",
      "File \u001b[0;32m~/miniconda3/envs/comb/lib/python3.9/threading.py:312\u001b[0m, in \u001b[0;36mCondition.wait\u001b[0;34m(self, timeout)\u001b[0m\n\u001b[1;32m    310\u001b[0m \u001b[38;5;28;01mtry\u001b[39;00m:    \u001b[38;5;66;03m# restore state no matter what (e.g., KeyboardInterrupt)\u001b[39;00m\n\u001b[1;32m    311\u001b[0m     \u001b[38;5;28;01mif\u001b[39;00m timeout \u001b[38;5;129;01mis\u001b[39;00m \u001b[38;5;28;01mNone\u001b[39;00m:\n\u001b[0;32m--> 312\u001b[0m         \u001b[43mwaiter\u001b[49m\u001b[38;5;241;43m.\u001b[39;49m\u001b[43macquire\u001b[49m\u001b[43m(\u001b[49m\u001b[43m)\u001b[49m\n\u001b[1;32m    313\u001b[0m         gotit \u001b[38;5;241m=\u001b[39m \u001b[38;5;28;01mTrue\u001b[39;00m\n\u001b[1;32m    314\u001b[0m     \u001b[38;5;28;01melse\u001b[39;00m:\n",
      "\u001b[0;31mKeyboardInterrupt\u001b[0m: "
     ]
    }
   ],
   "source": [
    "# Test depickle\n",
    "model_dict = pk.load(open(\"./models/GB_nopm.pk\", \"rb\") )\n",
    "model = model_dict[\"model\"]\n",
    "\n",
    "df_polymer = mm.df_input#[~mm.df_input.duplicated(\"smiles_monomer\")]\n",
    "model.gen_feature_df(df_polymer)\n",
    "df_pred = model.predict(df_polymer)"
   ]
  },
  {
   "cell_type": "code",
   "execution_count": 118,
   "id": "82ea737b-e505-4bb4-aa30-72f9d6cdd9ed",
   "metadata": {},
   "outputs": [],
   "source": [
    "df_pred_agg = df_pred.groupby(by=[\"smiles_monomer\", \"distribution\", \"pm\"]).agg(\"mean\").reset_index()"
   ]
  },
  {
   "cell_type": "code",
   "execution_count": 119,
   "id": "5a2f0e25-b0e0-4dd5-a365-745d4ba3dedf",
   "metadata": {},
   "outputs": [
    {
     "data": {
      "text/plain": [
       "<AxesSubplot:xlabel='Tm', ylabel='Tm_pred'>"
      ]
     },
     "execution_count": 119,
     "metadata": {},
     "output_type": "execute_result"
    },
    {
     "data": {
      "image/png": "[encoded data removed]",
      "text/plain": [
       "<Figure size 640x480 with 1 Axes>"
      ]
     },
     "metadata": {},
     "output_type": "display_data"
    }
   ],
   "source": [
    "sns.scatterplot(x=\"Tm\", y=\"Tm_pred\", data=df_pred_agg)"
   ]
  },
  {
   "cell_type": "markdown",
   "id": "014680d1-2d8f-4b8f-9a5a-92109845dd85",
   "metadata": {
    "jp-MarkdownHeadingCollapsed": true,
    "tags": []
   },
   "source": [
    "# Hyperparam Otpimize"
   ]
  },
  {
   "cell_type": "markdown",
   "id": "aa668d11-8140-42b9-bea6-bd6c6af696fc",
   "metadata": {
    "jp-MarkdownHeadingCollapsed": true,
    "tags": []
   },
   "source": [
    "## Glass Transition\n",
    "### nbits does not matter\n",
    "top_n_features = [10, 30, 50]\n",
    "n_estimators = [100, 300, 600 1000]\n",
    "min_samples_leaf = [1, 5, 10, 20]\n",
    "max_depth = [1, 5, 10, 20]"
   ]
  },
  {
   "cell_type": "code",
   "execution_count": 9,
   "id": "be620e64-e98b-4912-bc02-320e643ee969",
   "metadata": {
    "tags": []
   },
   "outputs": [
    {
     "name": "stdout",
     "output_type": "stream",
     "text": [
      "1\n",
      "n feat10\n",
      "n est 100\n",
      "min samp 10\n",
      "max depth 20\n"
     ]
    },
    {
     "name": "stderr",
     "output_type": "stream",
     "text": [
      "/Users/kevbot/miniconda3/envs/comb/lib/python3.9/site-packages/pandas/core/indexes/base.py:5069: FutureWarning: Using a non-tuple sequence for multidimensional indexing is deprecated; use `arr[tuple(seq)]` instead of `arr[seq]`. In the future this will be interpreted as an array index, `arr[np.array(seq)]`, which will result either in an error or a different result.\n",
      "  result = getitem(key)\n",
      "/Users/kevbot/miniconda3/envs/comb/lib/python3.9/site-packages/pandas/core/indexes/base.py:5069: FutureWarning: Using a non-tuple sequence for multidimensional indexing is deprecated; use `arr[tuple(seq)]` instead of `arr[seq]`. In the future this will be interpreted as an array index, `arr[np.array(seq)]`, which will result either in an error or a different result.\n",
      "  result = getitem(key)\n",
      "/Users/kevbot/miniconda3/envs/comb/lib/python3.9/site-packages/pandas/core/indexes/base.py:5069: FutureWarning: Using a non-tuple sequence for multidimensional indexing is deprecated; use `arr[tuple(seq)]` instead of `arr[seq]`. In the future this will be interpreted as an array index, `arr[np.array(seq)]`, which will result either in an error or a different result.\n",
      "  result = getitem(key)\n",
      "/Users/kevbot/miniconda3/envs/comb/lib/python3.9/site-packages/pandas/core/indexes/base.py:5069: FutureWarning: Using a non-tuple sequence for multidimensional indexing is deprecated; use `arr[tuple(seq)]` instead of `arr[seq]`. In the future this will be interpreted as an array index, `arr[np.array(seq)]`, which will result either in an error or a different result.\n",
      "  result = getitem(key)\n",
      "/Users/kevbot/miniconda3/envs/comb/lib/python3.9/site-packages/pandas/core/indexes/base.py:5069: FutureWarning: Using a non-tuple sequence for multidimensional indexing is deprecated; use `arr[tuple(seq)]` instead of `arr[seq]`. In the future this will be interpreted as an array index, `arr[np.array(seq)]`, which will result either in an error or a different result.\n",
      "  result = getitem(key)\n",
      "/Users/kevbot/miniconda3/envs/comb/lib/python3.9/site-packages/pandas/core/indexes/base.py:5069: FutureWarning: Using a non-tuple sequence for multidimensional indexing is deprecated; use `arr[tuple(seq)]` instead of `arr[seq]`. In the future this will be interpreted as an array index, `arr[np.array(seq)]`, which will result either in an error or a different result.\n",
      "  result = getitem(key)\n",
      "/Users/kevbot/miniconda3/envs/comb/lib/python3.9/site-packages/pandas/core/indexes/base.py:5069: FutureWarning: Using a non-tuple sequence for multidimensional indexing is deprecated; use `arr[tuple(seq)]` instead of `arr[seq]`. In the future this will be interpreted as an array index, `arr[np.array(seq)]`, which will result either in an error or a different result.\n",
      "  result = getitem(key)\n",
      "/Users/kevbot/miniconda3/envs/comb/lib/python3.9/site-packages/pandas/core/indexes/base.py:5069: FutureWarning: Using a non-tuple sequence for multidimensional indexing is deprecated; use `arr[tuple(seq)]` instead of `arr[seq]`. In the future this will be interpreted as an array index, `arr[np.array(seq)]`, which will result either in an error or a different result.\n",
      "  result = getitem(key)\n",
      "/Users/kevbot/miniconda3/envs/comb/lib/python3.9/site-packages/pandas/core/indexes/base.py:5069: FutureWarning: Using a non-tuple sequence for multidimensional indexing is deprecated; use `arr[tuple(seq)]` instead of `arr[seq]`. In the future this will be interpreted as an array index, `arr[np.array(seq)]`, which will result either in an error or a different result.\n",
      "  result = getitem(key)\n",
      "/Users/kevbot/miniconda3/envs/comb/lib/python3.9/site-packages/pandas/core/indexes/base.py:5069: FutureWarning: Using a non-tuple sequence for multidimensional indexing is deprecated; use `arr[tuple(seq)]` instead of `arr[seq]`. In the future this will be interpreted as an array index, `arr[np.array(seq)]`, which will result either in an error or a different result.\n",
      "  result = getitem(key)\n"
     ]
    },
    {
     "name": "stdout",
     "output_type": "stream",
     "text": [
      "2\n",
      "n feat10\n",
      "n est 100\n",
      "min samp 30\n",
      "max depth 20\n"
     ]
    },
    {
     "name": "stderr",
     "output_type": "stream",
     "text": [
      "/Users/kevbot/miniconda3/envs/comb/lib/python3.9/site-packages/pandas/core/indexes/base.py:5069: FutureWarning: Using a non-tuple sequence for multidimensional indexing is deprecated; use `arr[tuple(seq)]` instead of `arr[seq]`. In the future this will be interpreted as an array index, `arr[np.array(seq)]`, which will result either in an error or a different result.\n",
      "  result = getitem(key)\n",
      "/Users/kevbot/miniconda3/envs/comb/lib/python3.9/site-packages/pandas/core/indexes/base.py:5069: FutureWarning: Using a non-tuple sequence for multidimensional indexing is deprecated; use `arr[tuple(seq)]` instead of `arr[seq]`. In the future this will be interpreted as an array index, `arr[np.array(seq)]`, which will result either in an error or a different result.\n",
      "  result = getitem(key)\n",
      "/Users/kevbot/miniconda3/envs/comb/lib/python3.9/site-packages/pandas/core/indexes/base.py:5069: FutureWarning: Using a non-tuple sequence for multidimensional indexing is deprecated; use `arr[tuple(seq)]` instead of `arr[seq]`. In the future this will be interpreted as an array index, `arr[np.array(seq)]`, which will result either in an error or a different result.\n",
      "  result = getitem(key)\n",
      "/Users/kevbot/miniconda3/envs/comb/lib/python3.9/site-packages/pandas/core/indexes/base.py:5069: FutureWarning: Using a non-tuple sequence for multidimensional indexing is deprecated; use `arr[tuple(seq)]` instead of `arr[seq]`. In the future this will be interpreted as an array index, `arr[np.array(seq)]`, which will result either in an error or a different result.\n",
      "  result = getitem(key)\n",
      "/Users/kevbot/miniconda3/envs/comb/lib/python3.9/site-packages/pandas/core/indexes/base.py:5069: FutureWarning: Using a non-tuple sequence for multidimensional indexing is deprecated; use `arr[tuple(seq)]` instead of `arr[seq]`. In the future this will be interpreted as an array index, `arr[np.array(seq)]`, which will result either in an error or a different result.\n",
      "  result = getitem(key)\n",
      "/Users/kevbot/miniconda3/envs/comb/lib/python3.9/site-packages/pandas/core/indexes/base.py:5069: FutureWarning: Using a non-tuple sequence for multidimensional indexing is deprecated; use `arr[tuple(seq)]` instead of `arr[seq]`. In the future this will be interpreted as an array index, `arr[np.array(seq)]`, which will result either in an error or a different result.\n",
      "  result = getitem(key)\n",
      "/Users/kevbot/miniconda3/envs/comb/lib/python3.9/site-packages/pandas/core/indexes/base.py:5069: FutureWarning: Using a non-tuple sequence for multidimensional indexing is deprecated; use `arr[tuple(seq)]` instead of `arr[seq]`. In the future this will be interpreted as an array index, `arr[np.array(seq)]`, which will result either in an error or a different result.\n",
      "  result = getitem(key)\n",
      "/Users/kevbot/miniconda3/envs/comb/lib/python3.9/site-packages/pandas/core/indexes/base.py:5069: FutureWarning: Using a non-tuple sequence for multidimensional indexing is deprecated; use `arr[tuple(seq)]` instead of `arr[seq]`. In the future this will be interpreted as an array index, `arr[np.array(seq)]`, which will result either in an error or a different result.\n",
      "  result = getitem(key)\n",
      "/Users/kevbot/miniconda3/envs/comb/lib/python3.9/site-packages/pandas/core/indexes/base.py:5069: FutureWarning: Using a non-tuple sequence for multidimensional indexing is deprecated; use `arr[tuple(seq)]` instead of `arr[seq]`. In the future this will be interpreted as an array index, `arr[np.array(seq)]`, which will result either in an error or a different result.\n",
      "  result = getitem(key)\n",
      "/Users/kevbot/miniconda3/envs/comb/lib/python3.9/site-packages/pandas/core/indexes/base.py:5069: FutureWarning: Using a non-tuple sequence for multidimensional indexing is deprecated; use `arr[tuple(seq)]` instead of `arr[seq]`. In the future this will be interpreted as an array index, `arr[np.array(seq)]`, which will result either in an error or a different result.\n",
      "  result = getitem(key)\n"
     ]
    },
    {
     "name": "stdout",
     "output_type": "stream",
     "text": [
      "3\n",
      "n feat10\n",
      "n est 200\n",
      "min samp 10\n",
      "max depth 20\n"
     ]
    },
    {
     "name": "stderr",
     "output_type": "stream",
     "text": [
      "/Users/kevbot/miniconda3/envs/comb/lib/python3.9/site-packages/pandas/core/indexes/base.py:5069: FutureWarning: Using a non-tuple sequence for multidimensional indexing is deprecated; use `arr[tuple(seq)]` instead of `arr[seq]`. In the future this will be interpreted as an array index, `arr[np.array(seq)]`, which will result either in an error or a different result.\n",
      "  result = getitem(key)\n",
      "/Users/kevbot/miniconda3/envs/comb/lib/python3.9/site-packages/pandas/core/indexes/base.py:5069: FutureWarning: Using a non-tuple sequence for multidimensional indexing is deprecated; use `arr[tuple(seq)]` instead of `arr[seq]`. In the future this will be interpreted as an array index, `arr[np.array(seq)]`, which will result either in an error or a different result.\n",
      "  result = getitem(key)\n",
      "/Users/kevbot/miniconda3/envs/comb/lib/python3.9/site-packages/pandas/core/indexes/base.py:5069: FutureWarning: Using a non-tuple sequence for multidimensional indexing is deprecated; use `arr[tuple(seq)]` instead of `arr[seq]`. In the future this will be interpreted as an array index, `arr[np.array(seq)]`, which will result either in an error or a different result.\n",
      "  result = getitem(key)\n",
      "/Users/kevbot/miniconda3/envs/comb/lib/python3.9/site-packages/pandas/core/indexes/base.py:5069: FutureWarning: Using a non-tuple sequence for multidimensional indexing is deprecated; use `arr[tuple(seq)]` instead of `arr[seq]`. In the future this will be interpreted as an array index, `arr[np.array(seq)]`, which will result either in an error or a different result.\n",
      "  result = getitem(key)\n",
      "/Users/kevbot/miniconda3/envs/comb/lib/python3.9/site-packages/pandas/core/indexes/base.py:5069: FutureWarning: Using a non-tuple sequence for multidimensional indexing is deprecated; use `arr[tuple(seq)]` instead of `arr[seq]`. In the future this will be interpreted as an array index, `arr[np.array(seq)]`, which will result either in an error or a different result.\n",
      "  result = getitem(key)\n",
      "/Users/kevbot/miniconda3/envs/comb/lib/python3.9/site-packages/pandas/core/indexes/base.py:5069: FutureWarning: Using a non-tuple sequence for multidimensional indexing is deprecated; use `arr[tuple(seq)]` instead of `arr[seq]`. In the future this will be interpreted as an array index, `arr[np.array(seq)]`, which will result either in an error or a different result.\n",
      "  result = getitem(key)\n",
      "/Users/kevbot/miniconda3/envs/comb/lib/python3.9/site-packages/pandas/core/indexes/base.py:5069: FutureWarning: Using a non-tuple sequence for multidimensional indexing is deprecated; use `arr[tuple(seq)]` instead of `arr[seq]`. In the future this will be interpreted as an array index, `arr[np.array(seq)]`, which will result either in an error or a different result.\n",
      "  result = getitem(key)\n",
      "/Users/kevbot/miniconda3/envs/comb/lib/python3.9/site-packages/pandas/core/indexes/base.py:5069: FutureWarning: Using a non-tuple sequence for multidimensional indexing is deprecated; use `arr[tuple(seq)]` instead of `arr[seq]`. In the future this will be interpreted as an array index, `arr[np.array(seq)]`, which will result either in an error or a different result.\n",
      "  result = getitem(key)\n",
      "/Users/kevbot/miniconda3/envs/comb/lib/python3.9/site-packages/pandas/core/indexes/base.py:5069: FutureWarning: Using a non-tuple sequence for multidimensional indexing is deprecated; use `arr[tuple(seq)]` instead of `arr[seq]`. In the future this will be interpreted as an array index, `arr[np.array(seq)]`, which will result either in an error or a different result.\n",
      "  result = getitem(key)\n",
      "/Users/kevbot/miniconda3/envs/comb/lib/python3.9/site-packages/pandas/core/indexes/base.py:5069: FutureWarning: Using a non-tuple sequence for multidimensional indexing is deprecated; use `arr[tuple(seq)]` instead of `arr[seq]`. In the future this will be interpreted as an array index, `arr[np.array(seq)]`, which will result either in an error or a different result.\n",
      "  result = getitem(key)\n"
     ]
    },
    {
     "name": "stdout",
     "output_type": "stream",
     "text": [
      "4\n",
      "n feat10\n",
      "n est 200\n",
      "min samp 30\n",
      "max depth 20\n"
     ]
    },
    {
     "name": "stderr",
     "output_type": "stream",
     "text": [
      "/Users/kevbot/miniconda3/envs/comb/lib/python3.9/site-packages/pandas/core/indexes/base.py:5069: FutureWarning: Using a non-tuple sequence for multidimensional indexing is deprecated; use `arr[tuple(seq)]` instead of `arr[seq]`. In the future this will be interpreted as an array index, `arr[np.array(seq)]`, which will result either in an error or a different result.\n",
      "  result = getitem(key)\n",
      "/Users/kevbot/miniconda3/envs/comb/lib/python3.9/site-packages/pandas/core/indexes/base.py:5069: FutureWarning: Using a non-tuple sequence for multidimensional indexing is deprecated; use `arr[tuple(seq)]` instead of `arr[seq]`. In the future this will be interpreted as an array index, `arr[np.array(seq)]`, which will result either in an error or a different result.\n",
      "  result = getitem(key)\n",
      "/Users/kevbot/miniconda3/envs/comb/lib/python3.9/site-packages/pandas/core/indexes/base.py:5069: FutureWarning: Using a non-tuple sequence for multidimensional indexing is deprecated; use `arr[tuple(seq)]` instead of `arr[seq]`. In the future this will be interpreted as an array index, `arr[np.array(seq)]`, which will result either in an error or a different result.\n",
      "  result = getitem(key)\n",
      "/Users/kevbot/miniconda3/envs/comb/lib/python3.9/site-packages/pandas/core/indexes/base.py:5069: FutureWarning: Using a non-tuple sequence for multidimensional indexing is deprecated; use `arr[tuple(seq)]` instead of `arr[seq]`. In the future this will be interpreted as an array index, `arr[np.array(seq)]`, which will result either in an error or a different result.\n",
      "  result = getitem(key)\n",
      "/Users/kevbot/miniconda3/envs/comb/lib/python3.9/site-packages/pandas/core/indexes/base.py:5069: FutureWarning: Using a non-tuple sequence for multidimensional indexing is deprecated; use `arr[tuple(seq)]` instead of `arr[seq]`. In the future this will be interpreted as an array index, `arr[np.array(seq)]`, which will result either in an error or a different result.\n",
      "  result = getitem(key)\n",
      "/Users/kevbot/miniconda3/envs/comb/lib/python3.9/site-packages/pandas/core/indexes/base.py:5069: FutureWarning: Using a non-tuple sequence for multidimensional indexing is deprecated; use `arr[tuple(seq)]` instead of `arr[seq]`. In the future this will be interpreted as an array index, `arr[np.array(seq)]`, which will result either in an error or a different result.\n",
      "  result = getitem(key)\n",
      "/Users/kevbot/miniconda3/envs/comb/lib/python3.9/site-packages/pandas/core/indexes/base.py:5069: FutureWarning: Using a non-tuple sequence for multidimensional indexing is deprecated; use `arr[tuple(seq)]` instead of `arr[seq]`. In the future this will be interpreted as an array index, `arr[np.array(seq)]`, which will result either in an error or a different result.\n",
      "  result = getitem(key)\n",
      "/Users/kevbot/miniconda3/envs/comb/lib/python3.9/site-packages/pandas/core/indexes/base.py:5069: FutureWarning: Using a non-tuple sequence for multidimensional indexing is deprecated; use `arr[tuple(seq)]` instead of `arr[seq]`. In the future this will be interpreted as an array index, `arr[np.array(seq)]`, which will result either in an error or a different result.\n",
      "  result = getitem(key)\n",
      "/Users/kevbot/miniconda3/envs/comb/lib/python3.9/site-packages/pandas/core/indexes/base.py:5069: FutureWarning: Using a non-tuple sequence for multidimensional indexing is deprecated; use `arr[tuple(seq)]` instead of `arr[seq]`. In the future this will be interpreted as an array index, `arr[np.array(seq)]`, which will result either in an error or a different result.\n",
      "  result = getitem(key)\n",
      "/Users/kevbot/miniconda3/envs/comb/lib/python3.9/site-packages/pandas/core/indexes/base.py:5069: FutureWarning: Using a non-tuple sequence for multidimensional indexing is deprecated; use `arr[tuple(seq)]` instead of `arr[seq]`. In the future this will be interpreted as an array index, `arr[np.array(seq)]`, which will result either in an error or a different result.\n",
      "  result = getitem(key)\n"
     ]
    },
    {
     "name": "stdout",
     "output_type": "stream",
     "text": [
      "5\n",
      "n feat50\n",
      "n est 100\n",
      "min samp 10\n",
      "max depth 20\n"
     ]
    },
    {
     "name": "stderr",
     "output_type": "stream",
     "text": [
      "/Users/kevbot/miniconda3/envs/comb/lib/python3.9/site-packages/pandas/core/indexes/base.py:5069: FutureWarning: Using a non-tuple sequence for multidimensional indexing is deprecated; use `arr[tuple(seq)]` instead of `arr[seq]`. In the future this will be interpreted as an array index, `arr[np.array(seq)]`, which will result either in an error or a different result.\n",
      "  result = getitem(key)\n",
      "/Users/kevbot/miniconda3/envs/comb/lib/python3.9/site-packages/pandas/core/indexes/base.py:5069: FutureWarning: Using a non-tuple sequence for multidimensional indexing is deprecated; use `arr[tuple(seq)]` instead of `arr[seq]`. In the future this will be interpreted as an array index, `arr[np.array(seq)]`, which will result either in an error or a different result.\n",
      "  result = getitem(key)\n",
      "/Users/kevbot/miniconda3/envs/comb/lib/python3.9/site-packages/pandas/core/indexes/base.py:5069: FutureWarning: Using a non-tuple sequence for multidimensional indexing is deprecated; use `arr[tuple(seq)]` instead of `arr[seq]`. In the future this will be interpreted as an array index, `arr[np.array(seq)]`, which will result either in an error or a different result.\n",
      "  result = getitem(key)\n",
      "/Users/kevbot/miniconda3/envs/comb/lib/python3.9/site-packages/pandas/core/indexes/base.py:5069: FutureWarning: Using a non-tuple sequence for multidimensional indexing is deprecated; use `arr[tuple(seq)]` instead of `arr[seq]`. In the future this will be interpreted as an array index, `arr[np.array(seq)]`, which will result either in an error or a different result.\n",
      "  result = getitem(key)\n",
      "/Users/kevbot/miniconda3/envs/comb/lib/python3.9/site-packages/pandas/core/indexes/base.py:5069: FutureWarning: Using a non-tuple sequence for multidimensional indexing is deprecated; use `arr[tuple(seq)]` instead of `arr[seq]`. In the future this will be interpreted as an array index, `arr[np.array(seq)]`, which will result either in an error or a different result.\n",
      "  result = getitem(key)\n",
      "/Users/kevbot/miniconda3/envs/comb/lib/python3.9/site-packages/pandas/core/indexes/base.py:5069: FutureWarning: Using a non-tuple sequence for multidimensional indexing is deprecated; use `arr[tuple(seq)]` instead of `arr[seq]`. In the future this will be interpreted as an array index, `arr[np.array(seq)]`, which will result either in an error or a different result.\n",
      "  result = getitem(key)\n",
      "/Users/kevbot/miniconda3/envs/comb/lib/python3.9/site-packages/pandas/core/indexes/base.py:5069: FutureWarning: Using a non-tuple sequence for multidimensional indexing is deprecated; use `arr[tuple(seq)]` instead of `arr[seq]`. In the future this will be interpreted as an array index, `arr[np.array(seq)]`, which will result either in an error or a different result.\n",
      "  result = getitem(key)\n",
      "/Users/kevbot/miniconda3/envs/comb/lib/python3.9/site-packages/pandas/core/indexes/base.py:5069: FutureWarning: Using a non-tuple sequence for multidimensional indexing is deprecated; use `arr[tuple(seq)]` instead of `arr[seq]`. In the future this will be interpreted as an array index, `arr[np.array(seq)]`, which will result either in an error or a different result.\n",
      "  result = getitem(key)\n",
      "/Users/kevbot/miniconda3/envs/comb/lib/python3.9/site-packages/pandas/core/indexes/base.py:5069: FutureWarning: Using a non-tuple sequence for multidimensional indexing is deprecated; use `arr[tuple(seq)]` instead of `arr[seq]`. In the future this will be interpreted as an array index, `arr[np.array(seq)]`, which will result either in an error or a different result.\n",
      "  result = getitem(key)\n",
      "/Users/kevbot/miniconda3/envs/comb/lib/python3.9/site-packages/pandas/core/indexes/base.py:5069: FutureWarning: Using a non-tuple sequence for multidimensional indexing is deprecated; use `arr[tuple(seq)]` instead of `arr[seq]`. In the future this will be interpreted as an array index, `arr[np.array(seq)]`, which will result either in an error or a different result.\n",
      "  result = getitem(key)\n"
     ]
    },
    {
     "name": "stdout",
     "output_type": "stream",
     "text": [
      "6\n",
      "n feat50\n",
      "n est 100\n",
      "min samp 30\n",
      "max depth 20\n"
     ]
    },
    {
     "name": "stderr",
     "output_type": "stream",
     "text": [
      "/Users/kevbot/miniconda3/envs/comb/lib/python3.9/site-packages/pandas/core/indexes/base.py:5069: FutureWarning: Using a non-tuple sequence for multidimensional indexing is deprecated; use `arr[tuple(seq)]` instead of `arr[seq]`. In the future this will be interpreted as an array index, `arr[np.array(seq)]`, which will result either in an error or a different result.\n",
      "  result = getitem(key)\n",
      "/Users/kevbot/miniconda3/envs/comb/lib/python3.9/site-packages/pandas/core/indexes/base.py:5069: FutureWarning: Using a non-tuple sequence for multidimensional indexing is deprecated; use `arr[tuple(seq)]` instead of `arr[seq]`. In the future this will be interpreted as an array index, `arr[np.array(seq)]`, which will result either in an error or a different result.\n",
      "  result = getitem(key)\n",
      "/Users/kevbot/miniconda3/envs/comb/lib/python3.9/site-packages/pandas/core/indexes/base.py:5069: FutureWarning: Using a non-tuple sequence for multidimensional indexing is deprecated; use `arr[tuple(seq)]` instead of `arr[seq]`. In the future this will be interpreted as an array index, `arr[np.array(seq)]`, which will result either in an error or a different result.\n",
      "  result = getitem(key)\n",
      "/Users/kevbot/miniconda3/envs/comb/lib/python3.9/site-packages/pandas/core/indexes/base.py:5069: FutureWarning: Using a non-tuple sequence for multidimensional indexing is deprecated; use `arr[tuple(seq)]` instead of `arr[seq]`. In the future this will be interpreted as an array index, `arr[np.array(seq)]`, which will result either in an error or a different result.\n",
      "  result = getitem(key)\n",
      "/Users/kevbot/miniconda3/envs/comb/lib/python3.9/site-packages/pandas/core/indexes/base.py:5069: FutureWarning: Using a non-tuple sequence for multidimensional indexing is deprecated; use `arr[tuple(seq)]` instead of `arr[seq]`. In the future this will be interpreted as an array index, `arr[np.array(seq)]`, which will result either in an error or a different result.\n",
      "  result = getitem(key)\n",
      "/Users/kevbot/miniconda3/envs/comb/lib/python3.9/site-packages/pandas/core/indexes/base.py:5069: FutureWarning: Using a non-tuple sequence for multidimensional indexing is deprecated; use `arr[tuple(seq)]` instead of `arr[seq]`. In the future this will be interpreted as an array index, `arr[np.array(seq)]`, which will result either in an error or a different result.\n",
      "  result = getitem(key)\n",
      "/Users/kevbot/miniconda3/envs/comb/lib/python3.9/site-packages/pandas/core/indexes/base.py:5069: FutureWarning: Using a non-tuple sequence for multidimensional indexing is deprecated; use `arr[tuple(seq)]` instead of `arr[seq]`. In the future this will be interpreted as an array index, `arr[np.array(seq)]`, which will result either in an error or a different result.\n",
      "  result = getitem(key)\n",
      "/Users/kevbot/miniconda3/envs/comb/lib/python3.9/site-packages/pandas/core/indexes/base.py:5069: FutureWarning: Using a non-tuple sequence for multidimensional indexing is deprecated; use `arr[tuple(seq)]` instead of `arr[seq]`. In the future this will be interpreted as an array index, `arr[np.array(seq)]`, which will result either in an error or a different result.\n",
      "  result = getitem(key)\n",
      "/Users/kevbot/miniconda3/envs/comb/lib/python3.9/site-packages/pandas/core/indexes/base.py:5069: FutureWarning: Using a non-tuple sequence for multidimensional indexing is deprecated; use `arr[tuple(seq)]` instead of `arr[seq]`. In the future this will be interpreted as an array index, `arr[np.array(seq)]`, which will result either in an error or a different result.\n",
      "  result = getitem(key)\n",
      "/Users/kevbot/miniconda3/envs/comb/lib/python3.9/site-packages/pandas/core/indexes/base.py:5069: FutureWarning: Using a non-tuple sequence for multidimensional indexing is deprecated; use `arr[tuple(seq)]` instead of `arr[seq]`. In the future this will be interpreted as an array index, `arr[np.array(seq)]`, which will result either in an error or a different result.\n",
      "  result = getitem(key)\n"
     ]
    },
    {
     "name": "stdout",
     "output_type": "stream",
     "text": [
      "7\n",
      "n feat50\n",
      "n est 200\n",
      "min samp 10\n",
      "max depth 20\n"
     ]
    },
    {
     "name": "stderr",
     "output_type": "stream",
     "text": [
      "/Users/kevbot/miniconda3/envs/comb/lib/python3.9/site-packages/pandas/core/indexes/base.py:5069: FutureWarning: Using a non-tuple sequence for multidimensional indexing is deprecated; use `arr[tuple(seq)]` instead of `arr[seq]`. In the future this will be interpreted as an array index, `arr[np.array(seq)]`, which will result either in an error or a different result.\n",
      "  result = getitem(key)\n",
      "/Users/kevbot/miniconda3/envs/comb/lib/python3.9/site-packages/pandas/core/indexes/base.py:5069: FutureWarning: Using a non-tuple sequence for multidimensional indexing is deprecated; use `arr[tuple(seq)]` instead of `arr[seq]`. In the future this will be interpreted as an array index, `arr[np.array(seq)]`, which will result either in an error or a different result.\n",
      "  result = getitem(key)\n",
      "/Users/kevbot/miniconda3/envs/comb/lib/python3.9/site-packages/pandas/core/indexes/base.py:5069: FutureWarning: Using a non-tuple sequence for multidimensional indexing is deprecated; use `arr[tuple(seq)]` instead of `arr[seq]`. In the future this will be interpreted as an array index, `arr[np.array(seq)]`, which will result either in an error or a different result.\n",
      "  result = getitem(key)\n",
      "/Users/kevbot/miniconda3/envs/comb/lib/python3.9/site-packages/pandas/core/indexes/base.py:5069: FutureWarning: Using a non-tuple sequence for multidimensional indexing is deprecated; use `arr[tuple(seq)]` instead of `arr[seq]`. In the future this will be interpreted as an array index, `arr[np.array(seq)]`, which will result either in an error or a different result.\n",
      "  result = getitem(key)\n",
      "/Users/kevbot/miniconda3/envs/comb/lib/python3.9/site-packages/pandas/core/indexes/base.py:5069: FutureWarning: Using a non-tuple sequence for multidimensional indexing is deprecated; use `arr[tuple(seq)]` instead of `arr[seq]`. In the future this will be interpreted as an array index, `arr[np.array(seq)]`, which will result either in an error or a different result.\n",
      "  result = getitem(key)\n",
      "/Users/kevbot/miniconda3/envs/comb/lib/python3.9/site-packages/pandas/core/indexes/base.py:5069: FutureWarning: Using a non-tuple sequence for multidimensional indexing is deprecated; use `arr[tuple(seq)]` instead of `arr[seq]`. In the future this will be interpreted as an array index, `arr[np.array(seq)]`, which will result either in an error or a different result.\n",
      "  result = getitem(key)\n",
      "/Users/kevbot/miniconda3/envs/comb/lib/python3.9/site-packages/pandas/core/indexes/base.py:5069: FutureWarning: Using a non-tuple sequence for multidimensional indexing is deprecated; use `arr[tuple(seq)]` instead of `arr[seq]`. In the future this will be interpreted as an array index, `arr[np.array(seq)]`, which will result either in an error or a different result.\n",
      "  result = getitem(key)\n",
      "/Users/kevbot/miniconda3/envs/comb/lib/python3.9/site-packages/pandas/core/indexes/base.py:5069: FutureWarning: Using a non-tuple sequence for multidimensional indexing is deprecated; use `arr[tuple(seq)]` instead of `arr[seq]`. In the future this will be interpreted as an array index, `arr[np.array(seq)]`, which will result either in an error or a different result.\n",
      "  result = getitem(key)\n",
      "/Users/kevbot/miniconda3/envs/comb/lib/python3.9/site-packages/pandas/core/indexes/base.py:5069: FutureWarning: Using a non-tuple sequence for multidimensional indexing is deprecated; use `arr[tuple(seq)]` instead of `arr[seq]`. In the future this will be interpreted as an array index, `arr[np.array(seq)]`, which will result either in an error or a different result.\n",
      "  result = getitem(key)\n",
      "/Users/kevbot/miniconda3/envs/comb/lib/python3.9/site-packages/pandas/core/indexes/base.py:5069: FutureWarning: Using a non-tuple sequence for multidimensional indexing is deprecated; use `arr[tuple(seq)]` instead of `arr[seq]`. In the future this will be interpreted as an array index, `arr[np.array(seq)]`, which will result either in an error or a different result.\n",
      "  result = getitem(key)\n"
     ]
    },
    {
     "name": "stdout",
     "output_type": "stream",
     "text": [
      "8\n",
      "n feat50\n",
      "n est 200\n",
      "min samp 30\n",
      "max depth 20\n"
     ]
    },
    {
     "name": "stderr",
     "output_type": "stream",
     "text": [
      "/Users/kevbot/miniconda3/envs/comb/lib/python3.9/site-packages/pandas/core/indexes/base.py:5069: FutureWarning: Using a non-tuple sequence for multidimensional indexing is deprecated; use `arr[tuple(seq)]` instead of `arr[seq]`. In the future this will be interpreted as an array index, `arr[np.array(seq)]`, which will result either in an error or a different result.\n",
      "  result = getitem(key)\n",
      "/Users/kevbot/miniconda3/envs/comb/lib/python3.9/site-packages/pandas/core/indexes/base.py:5069: FutureWarning: Using a non-tuple sequence for multidimensional indexing is deprecated; use `arr[tuple(seq)]` instead of `arr[seq]`. In the future this will be interpreted as an array index, `arr[np.array(seq)]`, which will result either in an error or a different result.\n",
      "  result = getitem(key)\n",
      "/Users/kevbot/miniconda3/envs/comb/lib/python3.9/site-packages/pandas/core/indexes/base.py:5069: FutureWarning: Using a non-tuple sequence for multidimensional indexing is deprecated; use `arr[tuple(seq)]` instead of `arr[seq]`. In the future this will be interpreted as an array index, `arr[np.array(seq)]`, which will result either in an error or a different result.\n",
      "  result = getitem(key)\n",
      "/Users/kevbot/miniconda3/envs/comb/lib/python3.9/site-packages/pandas/core/indexes/base.py:5069: FutureWarning: Using a non-tuple sequence for multidimensional indexing is deprecated; use `arr[tuple(seq)]` instead of `arr[seq]`. In the future this will be interpreted as an array index, `arr[np.array(seq)]`, which will result either in an error or a different result.\n",
      "  result = getitem(key)\n",
      "/Users/kevbot/miniconda3/envs/comb/lib/python3.9/site-packages/pandas/core/indexes/base.py:5069: FutureWarning: Using a non-tuple sequence for multidimensional indexing is deprecated; use `arr[tuple(seq)]` instead of `arr[seq]`. In the future this will be interpreted as an array index, `arr[np.array(seq)]`, which will result either in an error or a different result.\n",
      "  result = getitem(key)\n",
      "/Users/kevbot/miniconda3/envs/comb/lib/python3.9/site-packages/pandas/core/indexes/base.py:5069: FutureWarning: Using a non-tuple sequence for multidimensional indexing is deprecated; use `arr[tuple(seq)]` instead of `arr[seq]`. In the future this will be interpreted as an array index, `arr[np.array(seq)]`, which will result either in an error or a different result.\n",
      "  result = getitem(key)\n",
      "/Users/kevbot/miniconda3/envs/comb/lib/python3.9/site-packages/pandas/core/indexes/base.py:5069: FutureWarning: Using a non-tuple sequence for multidimensional indexing is deprecated; use `arr[tuple(seq)]` instead of `arr[seq]`. In the future this will be interpreted as an array index, `arr[np.array(seq)]`, which will result either in an error or a different result.\n",
      "  result = getitem(key)\n",
      "/Users/kevbot/miniconda3/envs/comb/lib/python3.9/site-packages/pandas/core/indexes/base.py:5069: FutureWarning: Using a non-tuple sequence for multidimensional indexing is deprecated; use `arr[tuple(seq)]` instead of `arr[seq]`. In the future this will be interpreted as an array index, `arr[np.array(seq)]`, which will result either in an error or a different result.\n",
      "  result = getitem(key)\n",
      "/Users/kevbot/miniconda3/envs/comb/lib/python3.9/site-packages/pandas/core/indexes/base.py:5069: FutureWarning: Using a non-tuple sequence for multidimensional indexing is deprecated; use `arr[tuple(seq)]` instead of `arr[seq]`. In the future this will be interpreted as an array index, `arr[np.array(seq)]`, which will result either in an error or a different result.\n",
      "  result = getitem(key)\n",
      "/Users/kevbot/miniconda3/envs/comb/lib/python3.9/site-packages/pandas/core/indexes/base.py:5069: FutureWarning: Using a non-tuple sequence for multidimensional indexing is deprecated; use `arr[tuple(seq)]` instead of `arr[seq]`. In the future this will be interpreted as an array index, `arr[np.array(seq)]`, which will result either in an error or a different result.\n",
      "  result = getitem(key)\n"
     ]
    }
   ],
   "source": [
    "top_n_features_list = [10, 50]\n",
    "n_estimators_list = [100, 200]\n",
    "min_samples_leaf_list = [10, 30]\n",
    "max_depth_list = [20]\n",
    "res_list = []\n",
    "i = 0\n",
    "random_state = 0\n",
    "nbits=32\n",
    "df_fps = pd.read_csv(f\"./descriptors/fp_nbits_rad2_typerdkit/df_fp_nbits{32}_rad2_typerdkit\")\n",
    "for top_n_features in top_n_features_list:\n",
    "    for n_estimators in n_estimators_list:\n",
    "        for min_samp in min_samples_leaf_list:\n",
    "            for max_depth in max_depth_list:\n",
    "                i += 1\n",
    "                print(f\"{i}\\nn feat{top_n_features}\\nn est {n_estimators}\\nmin samp {min_samp}\\nmax depth {max_depth}\")\n",
    "                \n",
    "                top_features = [*df_feat_imp.loc[:top_n_features, \"Feature\"]]\n",
    "                tg_models = [RandomForestRegressor(n_estimators=n_estimators, min_samples_leaf=min_samp, max_depth=max_depth) for i in range(len(mm.models))] #, random_state=random_state, max_depth=max_depth, min_samples_leaf=min_samp\n",
    "                scalers = [{\"x\": StandardScaler(), \"y\": StandardScaler()} for i in range(len(mm.models))]\n",
    "                \n",
    "                # Fit tg\n",
    "                df_features = pd.concat([df_fps.loc[:, [str(i) for i in range(0, nbits)]], df_mord, mm.df_input.loc[:, [\"smiles_polymer\"]]], axis=1)\n",
    "                \n",
    "                df_tg_train = pd.DataFrame()\n",
    "                for mi, model in enumerate(tg_models):  \n",
    "                    df_train = mm.models[mi].df_train.copy()\n",
    "                    df_train = df_train[~df_train[\"Tg\"].isna()]\n",
    "\n",
    "                    y_train = df_train[\"Tg\"].to_frame()\n",
    "                    X_train = pd.DataFrame(columns = top_features)\n",
    "\n",
    "                    for _, row in df_train.iterrows():\n",
    "                        X_train = pd.concat([X_train, df_features.loc[df_features[\"smiles_polymer\"] == row.smiles_polymer, top_features].iloc[0, :].to_frame().T])\n",
    "\n",
    "                    X_train = X_train.loc[:, top_features].reset_index(drop=True)\n",
    "                    y_train = y_train.reset_index(drop=True)\n",
    "                    X_train = X_train[~y_train.Tg.isna()]\n",
    "                    y_train = y_train[~y_train.Tg.isna()]\n",
    "                    ###\n",
    "                    ###\n",
    "                    ###\n",
    "                    # TODO this could be bad when testing, if top_features changes\n",
    "                    ###\n",
    "                    ###\n",
    "                    ###\n",
    "                    X_train = X_train.drop(columns=X_train.columns[[X_train.isna().any()]])\n",
    "\n",
    "                    # X_cols = X_train.columns\n",
    "                    # y_cols = y_train.columns\n",
    "                    X_train = scalers[mi][\"x\"].fit_transform(X_train)\n",
    "                    y_train = scalers[mi][\"y\"].fit_transform(y_train)\n",
    "                    # X_train = pd.DataFrame(X_train, columns=X_cols)\n",
    "                    # y_train = pd.DataFrame(y_train, columns=y_cols)\n",
    "\n",
    "                    model.fit(X_train, np.ravel(y_train))\n",
    "                    y_pred = model.predict(X_train)\n",
    "\n",
    "                    df = pd.DataFrame(\n",
    "                        zip([i[0] for i in scalers[mi][\"y\"].inverse_transform(y_train)], [i[0] for i in scalers[mi][\"y\"].inverse_transform(y_pred.reshape(-1, 1))]),\n",
    "                        columns=[\"Tg\", \"Tg_pred\"]\n",
    "                    )\n",
    "\n",
    "                    df[\"model_id\"] = str(mi)\n",
    "                    df_tg_train = pd.concat([df_tg_train, df])\n",
    "\n",
    "                # Predict on validate\n",
    "                df_tg_preds = pd.DataFrame()\n",
    "                for mi, model in enumerate(tg_models):\n",
    "                    df_val = mm.models[mi].df_validate.copy()\n",
    "                    df_val = df_val[~df_val[\"Tg\"].isna()]\n",
    "\n",
    "                    y_val = df_val[\"Tg\"].to_frame()\n",
    "                    X_val = pd.DataFrame(columns = top_features)\n",
    "\n",
    "                    for _, row in df_val.iterrows():\n",
    "                        X_val = pd.concat([X_val, df_features.loc[df_features[\"smiles_polymer\"] == row.smiles_polymer, top_features].iloc[0, :].to_frame().T])\n",
    "\n",
    "                    X_val = X_val.loc[:, top_features].reset_index(drop=True)\n",
    "                    y_val = y_val.reset_index(drop=True)\n",
    "\n",
    "                #     X_cols = X_val.columns\n",
    "                #     y_cols = y_val.columns\n",
    "                    X_val = scalers[mi][\"x\"].transform(X_val)\n",
    "                    y_val = scalers[mi][\"y\"].transform(y_val)\n",
    "                    # X_val = pd.DataFrame(X_val, columns=X_cols)\n",
    "                    # y_val = pd.DataFrame(y_val, columns=y_cols)\n",
    "\n",
    "                    y_pred =[i[0] for i in scalers[mi][\"y\"].inverse_transform(model.predict(X_val).reshape(-1, 1))]\n",
    "                    y_val = [i[0] for i in scalers[mi][\"y\"].inverse_transform(y_val.reshape(-1, 1))]\n",
    "\n",
    "                    df = pd.DataFrame(zip(y_val, y_pred), columns=[\"Tg\", \"Tg_pred\"])\n",
    "                    df[\"model_id\"] = str(mi)\n",
    "\n",
    "                    df_tg_preds = pd.concat([df_tg_preds, df])\n",
    "                \n",
    "                pred_col = \"Tg\"\n",
    "                df_to_calc = df_tg_preds\n",
    "                mae_pred = np.mean(np.abs((df_to_calc[pred_col].values - df_to_calc[pred_col+\"_pred\"].values)))\n",
    "                rmse_pred = np.sqrt(np.mean((df_to_calc[pred_col].values - df_to_calc[pred_col+\"_pred\"].values)**2))\n",
    "                r2_pred = r2_score(df_to_calc[pred_col].values, df_to_calc[f\"{pred_col}_pred\"].values)\n",
    "                \n",
    "                df_to_calc = df_tg_train\n",
    "                rmse_train = np.sqrt(np.mean((df_to_calc[pred_col].values - df_to_calc[pred_col+\"_pred\"].values)**2))\n",
    "                mae_train = np.mean(np.abs((df_to_calc[pred_col].values - df_to_calc[pred_col+\"_pred\"].values)))\n",
    "                r2_train = r2_score(df_to_calc[pred_col].values, df_to_calc[f\"{pred_col}_pred\"].values)\n",
    "                \n",
    "                res_list += [[top_n_features, n_estimators, min_samp, max_depth, mae_pred, rmse_pred, r2_pred, mae_train, rmse_train, r2_train]]"
   ]
  },
  {
   "cell_type": "code",
   "execution_count": 11,
   "id": "3a892292-c7f1-4c82-a2eb-47264f8b5b0a",
   "metadata": {},
   "outputs": [
    {
     "data": {
      "text/html": [
       "<div>\n",
       "<style scoped>\n",
       "    .dataframe tbody tr th:only-of-type {\n",
       "        vertical-align: middle;\n",
       "    }\n",
       "\n",
       "    .dataframe tbody tr th {\n",
       "        vertical-align: top;\n",
       "    }\n",
       "\n",
       "    .dataframe thead th {\n",
       "        text-align: right;\n",
       "    }\n",
       "</style>\n",
       "<table border=\"1\" class=\"dataframe\">\n",
       "  <thead>\n",
       "    <tr style=\"text-align: right;\">\n",
       "      <th></th>\n",
       "      <th>top_n_features</th>\n",
       "      <th>n_estimators</th>\n",
       "      <th>min_samp</th>\n",
       "      <th>max_depth</th>\n",
       "      <th>mae_pred</th>\n",
       "      <th>rmse_pred</th>\n",
       "      <th>r2_pred</th>\n",
       "      <th>mae_train</th>\n",
       "      <th>rmse_train</th>\n",
       "      <th>r2_train</th>\n",
       "    </tr>\n",
       "  </thead>\n",
       "  <tbody>\n",
       "    <tr>\n",
       "      <th>0</th>\n",
       "      <td>10</td>\n",
       "      <td>100</td>\n",
       "      <td>10</td>\n",
       "      <td>20</td>\n",
       "      <td>12.139026</td>\n",
       "      <td>22.052764</td>\n",
       "      <td>0.838094</td>\n",
       "      <td>8.771703</td>\n",
       "      <td>15.621525</td>\n",
       "      <td>0.918757</td>\n",
       "    </tr>\n",
       "    <tr>\n",
       "      <th>1</th>\n",
       "      <td>10</td>\n",
       "      <td>100</td>\n",
       "      <td>30</td>\n",
       "      <td>20</td>\n",
       "      <td>14.667034</td>\n",
       "      <td>24.077044</td>\n",
       "      <td>0.807006</td>\n",
       "      <td>12.122771</td>\n",
       "      <td>19.628002</td>\n",
       "      <td>0.871741</td>\n",
       "    </tr>\n",
       "    <tr>\n",
       "      <th>2</th>\n",
       "      <td>10</td>\n",
       "      <td>200</td>\n",
       "      <td>10</td>\n",
       "      <td>20</td>\n",
       "      <td>12.176610</td>\n",
       "      <td>22.112394</td>\n",
       "      <td>0.837217</td>\n",
       "      <td>8.783501</td>\n",
       "      <td>15.626115</td>\n",
       "      <td>0.918710</td>\n",
       "    </tr>\n",
       "    <tr>\n",
       "      <th>3</th>\n",
       "      <td>10</td>\n",
       "      <td>200</td>\n",
       "      <td>30</td>\n",
       "      <td>20</td>\n",
       "      <td>14.564023</td>\n",
       "      <td>24.046115</td>\n",
       "      <td>0.807502</td>\n",
       "      <td>12.085872</td>\n",
       "      <td>19.623898</td>\n",
       "      <td>0.871794</td>\n",
       "    </tr>\n",
       "    <tr>\n",
       "      <th>4</th>\n",
       "      <td>50</td>\n",
       "      <td>100</td>\n",
       "      <td>10</td>\n",
       "      <td>20</td>\n",
       "      <td>11.441426</td>\n",
       "      <td>21.016165</td>\n",
       "      <td>0.852957</td>\n",
       "      <td>7.977625</td>\n",
       "      <td>14.843873</td>\n",
       "      <td>0.926645</td>\n",
       "    </tr>\n",
       "    <tr>\n",
       "      <th>5</th>\n",
       "      <td>50</td>\n",
       "      <td>100</td>\n",
       "      <td>30</td>\n",
       "      <td>20</td>\n",
       "      <td>13.076629</td>\n",
       "      <td>22.113638</td>\n",
       "      <td>0.837199</td>\n",
       "      <td>10.114013</td>\n",
       "      <td>16.858424</td>\n",
       "      <td>0.905383</td>\n",
       "    </tr>\n",
       "    <tr>\n",
       "      <th>6</th>\n",
       "      <td>50</td>\n",
       "      <td>200</td>\n",
       "      <td>10</td>\n",
       "      <td>20</td>\n",
       "      <td>11.537457</td>\n",
       "      <td>21.201167</td>\n",
       "      <td>0.850357</td>\n",
       "      <td>7.969193</td>\n",
       "      <td>14.843569</td>\n",
       "      <td>0.926648</td>\n",
       "    </tr>\n",
       "    <tr>\n",
       "      <th>7</th>\n",
       "      <td>50</td>\n",
       "      <td>200</td>\n",
       "      <td>30</td>\n",
       "      <td>20</td>\n",
       "      <td>13.147687</td>\n",
       "      <td>22.253563</td>\n",
       "      <td>0.835132</td>\n",
       "      <td>10.122935</td>\n",
       "      <td>16.870428</td>\n",
       "      <td>0.905248</td>\n",
       "    </tr>\n",
       "  </tbody>\n",
       "</table>\n",
       "</div>"
      ],
      "text/plain": [
       "   top_n_features  n_estimators  min_samp  max_depth   mae_pred  rmse_pred  \\\n",
       "0              10           100        10         20  12.139026  22.052764   \n",
       "1              10           100        30         20  14.667034  24.077044   \n",
       "2              10           200        10         20  12.176610  22.112394   \n",
       "3              10           200        30         20  14.564023  24.046115   \n",
       "4              50           100        10         20  11.441426  21.016165   \n",
       "5              50           100        30         20  13.076629  22.113638   \n",
       "6              50           200        10         20  11.537457  21.201167   \n",
       "7              50           200        30         20  13.147687  22.253563   \n",
       "\n",
       "    r2_pred  mae_train  rmse_train  r2_train  \n",
       "0  0.838094   8.771703   15.621525  0.918757  \n",
       "1  0.807006  12.122771   19.628002  0.871741  \n",
       "2  0.837217   8.783501   15.626115  0.918710  \n",
       "3  0.807502  12.085872   19.623898  0.871794  \n",
       "4  0.852957   7.977625   14.843873  0.926645  \n",
       "5  0.837199  10.114013   16.858424  0.905383  \n",
       "6  0.850357   7.969193   14.843569  0.926648  \n",
       "7  0.835132  10.122935   16.870428  0.905248  "
      ]
     },
     "execution_count": 11,
     "metadata": {},
     "output_type": "execute_result"
    }
   ],
   "source": [
    "# df_res.to_csv(\"GB_scans/no_pm/Tg_nopm_max_depth.csv\")\n",
    "df_res"
   ]
  },
  {
   "cell_type": "code",
   "execution_count": 10,
   "id": "0bdac65e-7816-4f6f-8a99-20d5efed0c73",
   "metadata": {},
   "outputs": [],
   "source": [
    "df_res = pd.DataFrame(res_list, columns=[\"top_n_features\", \"n_estimators\", \"min_samp\", \"max_depth\", \"mae_pred\", \"rmse_pred\", \"r2_pred\", \"mae_train\", \"rmse_train\", \"r2_train\"])"
   ]
  },
  {
   "cell_type": "code",
   "execution_count": 12,
   "id": "b7a74c41-ae75-4adf-9052-01af44bc9529",
   "metadata": {},
   "outputs": [],
   "source": [
    "df_res = pd.concat([df_res, df_res_7])"
   ]
  },
  {
   "cell_type": "code",
   "execution_count": 59,
   "id": "61da8dd4-cc62-48d4-8bf7-17b944cab0c5",
   "metadata": {},
   "outputs": [
    {
     "data": {
      "text/plain": [
       "[Text(0.5, 0, 'Minimum Sample'), Text(0, 0.5, 'Tg MAE (°C) Validation')]"
      ]
     },
     "execution_count": 59,
     "metadata": {},
     "output_type": "execute_result"
    },
    {
     "data": {
      "image/png": "[encoded data removed]",
      "text/plain": [
       "<Figure size 640x480 with 1 Axes>"
      ]
     },
     "metadata": {},
     "output_type": "display_data"
    }
   ],
   "source": [
    "g = sns.scatterplot(x=\"n_estimators\", y=\"mae_pred\", data=df_res)\n",
    "g.set(\n",
    "    xlabel=\"Minimum Sample\",\n",
    "    ylabel=\"Tg MAE (°C) Validation\"\n",
    ")"
   ]
  },
  {
   "cell_type": "code",
   "execution_count": 19,
   "id": "5a6c4c2f-815b-4404-a097-a75d50d4d2f4",
   "metadata": {},
   "outputs": [],
   "source": [
    "df_res.to_csv(\"GB_scans/Tg_features.csv\")"
   ]
  },
  {
   "cell_type": "markdown",
   "id": "6208ae96-9456-4284-9174-2cba2b99532e",
   "metadata": {
    "tags": []
   },
   "source": [
    "## Tm Hyperparam Optimization"
   ]
  },
  {
   "cell_type": "code",
   "execution_count": 20,
   "id": "78fde31b-b988-4076-bb5d-169905507bb5",
   "metadata": {},
   "outputs": [
    {
     "name": "stdout",
     "output_type": "stream",
     "text": [
      "1\n",
      "n feat10\n",
      "n est 100\n",
      "min samp 20\n",
      "max depth 10\n"
     ]
    },
    {
     "name": "stderr",
     "output_type": "stream",
     "text": [
      "/Users/kevbot/miniconda3/envs/comb/lib/python3.9/site-packages/pandas/core/indexes/base.py:5069: FutureWarning: Using a non-tuple sequence for multidimensional indexing is deprecated; use `arr[tuple(seq)]` instead of `arr[seq]`. In the future this will be interpreted as an array index, `arr[np.array(seq)]`, which will result either in an error or a different result.\n",
      "  result = getitem(key)\n",
      "/Users/kevbot/miniconda3/envs/comb/lib/python3.9/site-packages/pandas/core/indexes/base.py:5069: FutureWarning: Using a non-tuple sequence for multidimensional indexing is deprecated; use `arr[tuple(seq)]` instead of `arr[seq]`. In the future this will be interpreted as an array index, `arr[np.array(seq)]`, which will result either in an error or a different result.\n",
      "  result = getitem(key)\n",
      "/Users/kevbot/miniconda3/envs/comb/lib/python3.9/site-packages/pandas/core/indexes/base.py:5069: FutureWarning: Using a non-tuple sequence for multidimensional indexing is deprecated; use `arr[tuple(seq)]` instead of `arr[seq]`. In the future this will be interpreted as an array index, `arr[np.array(seq)]`, which will result either in an error or a different result.\n",
      "  result = getitem(key)\n",
      "/Users/kevbot/miniconda3/envs/comb/lib/python3.9/site-packages/pandas/core/indexes/base.py:5069: FutureWarning: Using a non-tuple sequence for multidimensional indexing is deprecated; use `arr[tuple(seq)]` instead of `arr[seq]`. In the future this will be interpreted as an array index, `arr[np.array(seq)]`, which will result either in an error or a different result.\n",
      "  result = getitem(key)\n",
      "/Users/kevbot/miniconda3/envs/comb/lib/python3.9/site-packages/pandas/core/indexes/base.py:5069: FutureWarning: Using a non-tuple sequence for multidimensional indexing is deprecated; use `arr[tuple(seq)]` instead of `arr[seq]`. In the future this will be interpreted as an array index, `arr[np.array(seq)]`, which will result either in an error or a different result.\n",
      "  result = getitem(key)\n",
      "/Users/kevbot/miniconda3/envs/comb/lib/python3.9/site-packages/pandas/core/indexes/base.py:5069: FutureWarning: Using a non-tuple sequence for multidimensional indexing is deprecated; use `arr[tuple(seq)]` instead of `arr[seq]`. In the future this will be interpreted as an array index, `arr[np.array(seq)]`, which will result either in an error or a different result.\n",
      "  result = getitem(key)\n",
      "/Users/kevbot/miniconda3/envs/comb/lib/python3.9/site-packages/pandas/core/indexes/base.py:5069: FutureWarning: Using a non-tuple sequence for multidimensional indexing is deprecated; use `arr[tuple(seq)]` instead of `arr[seq]`. In the future this will be interpreted as an array index, `arr[np.array(seq)]`, which will result either in an error or a different result.\n",
      "  result = getitem(key)\n",
      "/Users/kevbot/miniconda3/envs/comb/lib/python3.9/site-packages/pandas/core/indexes/base.py:5069: FutureWarning: Using a non-tuple sequence for multidimensional indexing is deprecated; use `arr[tuple(seq)]` instead of `arr[seq]`. In the future this will be interpreted as an array index, `arr[np.array(seq)]`, which will result either in an error or a different result.\n",
      "  result = getitem(key)\n",
      "/Users/kevbot/miniconda3/envs/comb/lib/python3.9/site-packages/pandas/core/indexes/base.py:5069: FutureWarning: Using a non-tuple sequence for multidimensional indexing is deprecated; use `arr[tuple(seq)]` instead of `arr[seq]`. In the future this will be interpreted as an array index, `arr[np.array(seq)]`, which will result either in an error or a different result.\n",
      "  result = getitem(key)\n",
      "/Users/kevbot/miniconda3/envs/comb/lib/python3.9/site-packages/pandas/core/indexes/base.py:5069: FutureWarning: Using a non-tuple sequence for multidimensional indexing is deprecated; use `arr[tuple(seq)]` instead of `arr[seq]`. In the future this will be interpreted as an array index, `arr[np.array(seq)]`, which will result either in an error or a different result.\n",
      "  result = getitem(key)\n"
     ]
    },
    {
     "name": "stdout",
     "output_type": "stream",
     "text": [
      "2\n",
      "n feat50\n",
      "n est 100\n",
      "min samp 20\n",
      "max depth 10\n"
     ]
    },
    {
     "name": "stderr",
     "output_type": "stream",
     "text": [
      "/Users/kevbot/miniconda3/envs/comb/lib/python3.9/site-packages/pandas/core/indexes/base.py:5069: FutureWarning: Using a non-tuple sequence for multidimensional indexing is deprecated; use `arr[tuple(seq)]` instead of `arr[seq]`. In the future this will be interpreted as an array index, `arr[np.array(seq)]`, which will result either in an error or a different result.\n",
      "  result = getitem(key)\n",
      "/Users/kevbot/miniconda3/envs/comb/lib/python3.9/site-packages/pandas/core/indexes/base.py:5069: FutureWarning: Using a non-tuple sequence for multidimensional indexing is deprecated; use `arr[tuple(seq)]` instead of `arr[seq]`. In the future this will be interpreted as an array index, `arr[np.array(seq)]`, which will result either in an error or a different result.\n",
      "  result = getitem(key)\n",
      "/Users/kevbot/miniconda3/envs/comb/lib/python3.9/site-packages/pandas/core/indexes/base.py:5069: FutureWarning: Using a non-tuple sequence for multidimensional indexing is deprecated; use `arr[tuple(seq)]` instead of `arr[seq]`. In the future this will be interpreted as an array index, `arr[np.array(seq)]`, which will result either in an error or a different result.\n",
      "  result = getitem(key)\n",
      "/Users/kevbot/miniconda3/envs/comb/lib/python3.9/site-packages/pandas/core/indexes/base.py:5069: FutureWarning: Using a non-tuple sequence for multidimensional indexing is deprecated; use `arr[tuple(seq)]` instead of `arr[seq]`. In the future this will be interpreted as an array index, `arr[np.array(seq)]`, which will result either in an error or a different result.\n",
      "  result = getitem(key)\n",
      "/Users/kevbot/miniconda3/envs/comb/lib/python3.9/site-packages/pandas/core/indexes/base.py:5069: FutureWarning: Using a non-tuple sequence for multidimensional indexing is deprecated; use `arr[tuple(seq)]` instead of `arr[seq]`. In the future this will be interpreted as an array index, `arr[np.array(seq)]`, which will result either in an error or a different result.\n",
      "  result = getitem(key)\n",
      "/Users/kevbot/miniconda3/envs/comb/lib/python3.9/site-packages/pandas/core/indexes/base.py:5069: FutureWarning: Using a non-tuple sequence for multidimensional indexing is deprecated; use `arr[tuple(seq)]` instead of `arr[seq]`. In the future this will be interpreted as an array index, `arr[np.array(seq)]`, which will result either in an error or a different result.\n",
      "  result = getitem(key)\n",
      "/Users/kevbot/miniconda3/envs/comb/lib/python3.9/site-packages/pandas/core/indexes/base.py:5069: FutureWarning: Using a non-tuple sequence for multidimensional indexing is deprecated; use `arr[tuple(seq)]` instead of `arr[seq]`. In the future this will be interpreted as an array index, `arr[np.array(seq)]`, which will result either in an error or a different result.\n",
      "  result = getitem(key)\n",
      "/Users/kevbot/miniconda3/envs/comb/lib/python3.9/site-packages/pandas/core/indexes/base.py:5069: FutureWarning: Using a non-tuple sequence for multidimensional indexing is deprecated; use `arr[tuple(seq)]` instead of `arr[seq]`. In the future this will be interpreted as an array index, `arr[np.array(seq)]`, which will result either in an error or a different result.\n",
      "  result = getitem(key)\n",
      "/Users/kevbot/miniconda3/envs/comb/lib/python3.9/site-packages/pandas/core/indexes/base.py:5069: FutureWarning: Using a non-tuple sequence for multidimensional indexing is deprecated; use `arr[tuple(seq)]` instead of `arr[seq]`. In the future this will be interpreted as an array index, `arr[np.array(seq)]`, which will result either in an error or a different result.\n",
      "  result = getitem(key)\n",
      "/Users/kevbot/miniconda3/envs/comb/lib/python3.9/site-packages/pandas/core/indexes/base.py:5069: FutureWarning: Using a non-tuple sequence for multidimensional indexing is deprecated; use `arr[tuple(seq)]` instead of `arr[seq]`. In the future this will be interpreted as an array index, `arr[np.array(seq)]`, which will result either in an error or a different result.\n",
      "  result = getitem(key)\n"
     ]
    },
    {
     "name": "stdout",
     "output_type": "stream",
     "text": [
      "3\n",
      "n feat100\n",
      "n est 100\n",
      "min samp 20\n",
      "max depth 10\n"
     ]
    },
    {
     "name": "stderr",
     "output_type": "stream",
     "text": [
      "/Users/kevbot/miniconda3/envs/comb/lib/python3.9/site-packages/pandas/core/indexes/base.py:5069: FutureWarning: Using a non-tuple sequence for multidimensional indexing is deprecated; use `arr[tuple(seq)]` instead of `arr[seq]`. In the future this will be interpreted as an array index, `arr[np.array(seq)]`, which will result either in an error or a different result.\n",
      "  result = getitem(key)\n",
      "/Users/kevbot/miniconda3/envs/comb/lib/python3.9/site-packages/pandas/core/indexes/base.py:5069: FutureWarning: Using a non-tuple sequence for multidimensional indexing is deprecated; use `arr[tuple(seq)]` instead of `arr[seq]`. In the future this will be interpreted as an array index, `arr[np.array(seq)]`, which will result either in an error or a different result.\n",
      "  result = getitem(key)\n",
      "/Users/kevbot/miniconda3/envs/comb/lib/python3.9/site-packages/pandas/core/indexes/base.py:5069: FutureWarning: Using a non-tuple sequence for multidimensional indexing is deprecated; use `arr[tuple(seq)]` instead of `arr[seq]`. In the future this will be interpreted as an array index, `arr[np.array(seq)]`, which will result either in an error or a different result.\n",
      "  result = getitem(key)\n",
      "/Users/kevbot/miniconda3/envs/comb/lib/python3.9/site-packages/pandas/core/indexes/base.py:5069: FutureWarning: Using a non-tuple sequence for multidimensional indexing is deprecated; use `arr[tuple(seq)]` instead of `arr[seq]`. In the future this will be interpreted as an array index, `arr[np.array(seq)]`, which will result either in an error or a different result.\n",
      "  result = getitem(key)\n",
      "/Users/kevbot/miniconda3/envs/comb/lib/python3.9/site-packages/pandas/core/indexes/base.py:5069: FutureWarning: Using a non-tuple sequence for multidimensional indexing is deprecated; use `arr[tuple(seq)]` instead of `arr[seq]`. In the future this will be interpreted as an array index, `arr[np.array(seq)]`, which will result either in an error or a different result.\n",
      "  result = getitem(key)\n",
      "/Users/kevbot/miniconda3/envs/comb/lib/python3.9/site-packages/pandas/core/indexes/base.py:5069: FutureWarning: Using a non-tuple sequence for multidimensional indexing is deprecated; use `arr[tuple(seq)]` instead of `arr[seq]`. In the future this will be interpreted as an array index, `arr[np.array(seq)]`, which will result either in an error or a different result.\n",
      "  result = getitem(key)\n",
      "/Users/kevbot/miniconda3/envs/comb/lib/python3.9/site-packages/pandas/core/indexes/base.py:5069: FutureWarning: Using a non-tuple sequence for multidimensional indexing is deprecated; use `arr[tuple(seq)]` instead of `arr[seq]`. In the future this will be interpreted as an array index, `arr[np.array(seq)]`, which will result either in an error or a different result.\n",
      "  result = getitem(key)\n",
      "/Users/kevbot/miniconda3/envs/comb/lib/python3.9/site-packages/pandas/core/indexes/base.py:5069: FutureWarning: Using a non-tuple sequence for multidimensional indexing is deprecated; use `arr[tuple(seq)]` instead of `arr[seq]`. In the future this will be interpreted as an array index, `arr[np.array(seq)]`, which will result either in an error or a different result.\n",
      "  result = getitem(key)\n",
      "/Users/kevbot/miniconda3/envs/comb/lib/python3.9/site-packages/pandas/core/indexes/base.py:5069: FutureWarning: Using a non-tuple sequence for multidimensional indexing is deprecated; use `arr[tuple(seq)]` instead of `arr[seq]`. In the future this will be interpreted as an array index, `arr[np.array(seq)]`, which will result either in an error or a different result.\n",
      "  result = getitem(key)\n",
      "/Users/kevbot/miniconda3/envs/comb/lib/python3.9/site-packages/pandas/core/indexes/base.py:5069: FutureWarning: Using a non-tuple sequence for multidimensional indexing is deprecated; use `arr[tuple(seq)]` instead of `arr[seq]`. In the future this will be interpreted as an array index, `arr[np.array(seq)]`, which will result either in an error or a different result.\n",
      "  result = getitem(key)\n"
     ]
    },
    {
     "name": "stdout",
     "output_type": "stream",
     "text": [
      "4\n",
      "n feat200\n",
      "n est 100\n",
      "min samp 20\n",
      "max depth 10\n"
     ]
    },
    {
     "name": "stderr",
     "output_type": "stream",
     "text": [
      "/Users/kevbot/miniconda3/envs/comb/lib/python3.9/site-packages/pandas/core/indexes/base.py:5069: FutureWarning: Using a non-tuple sequence for multidimensional indexing is deprecated; use `arr[tuple(seq)]` instead of `arr[seq]`. In the future this will be interpreted as an array index, `arr[np.array(seq)]`, which will result either in an error or a different result.\n",
      "  result = getitem(key)\n",
      "/Users/kevbot/miniconda3/envs/comb/lib/python3.9/site-packages/pandas/core/indexes/base.py:5069: FutureWarning: Using a non-tuple sequence for multidimensional indexing is deprecated; use `arr[tuple(seq)]` instead of `arr[seq]`. In the future this will be interpreted as an array index, `arr[np.array(seq)]`, which will result either in an error or a different result.\n",
      "  result = getitem(key)\n",
      "/Users/kevbot/miniconda3/envs/comb/lib/python3.9/site-packages/pandas/core/indexes/base.py:5069: FutureWarning: Using a non-tuple sequence for multidimensional indexing is deprecated; use `arr[tuple(seq)]` instead of `arr[seq]`. In the future this will be interpreted as an array index, `arr[np.array(seq)]`, which will result either in an error or a different result.\n",
      "  result = getitem(key)\n",
      "/Users/kevbot/miniconda3/envs/comb/lib/python3.9/site-packages/pandas/core/indexes/base.py:5069: FutureWarning: Using a non-tuple sequence for multidimensional indexing is deprecated; use `arr[tuple(seq)]` instead of `arr[seq]`. In the future this will be interpreted as an array index, `arr[np.array(seq)]`, which will result either in an error or a different result.\n",
      "  result = getitem(key)\n",
      "/Users/kevbot/miniconda3/envs/comb/lib/python3.9/site-packages/pandas/core/indexes/base.py:5069: FutureWarning: Using a non-tuple sequence for multidimensional indexing is deprecated; use `arr[tuple(seq)]` instead of `arr[seq]`. In the future this will be interpreted as an array index, `arr[np.array(seq)]`, which will result either in an error or a different result.\n",
      "  result = getitem(key)\n",
      "/Users/kevbot/miniconda3/envs/comb/lib/python3.9/site-packages/pandas/core/indexes/base.py:5069: FutureWarning: Using a non-tuple sequence for multidimensional indexing is deprecated; use `arr[tuple(seq)]` instead of `arr[seq]`. In the future this will be interpreted as an array index, `arr[np.array(seq)]`, which will result either in an error or a different result.\n",
      "  result = getitem(key)\n",
      "/Users/kevbot/miniconda3/envs/comb/lib/python3.9/site-packages/pandas/core/indexes/base.py:5069: FutureWarning: Using a non-tuple sequence for multidimensional indexing is deprecated; use `arr[tuple(seq)]` instead of `arr[seq]`. In the future this will be interpreted as an array index, `arr[np.array(seq)]`, which will result either in an error or a different result.\n",
      "  result = getitem(key)\n",
      "/Users/kevbot/miniconda3/envs/comb/lib/python3.9/site-packages/pandas/core/indexes/base.py:5069: FutureWarning: Using a non-tuple sequence for multidimensional indexing is deprecated; use `arr[tuple(seq)]` instead of `arr[seq]`. In the future this will be interpreted as an array index, `arr[np.array(seq)]`, which will result either in an error or a different result.\n",
      "  result = getitem(key)\n",
      "/Users/kevbot/miniconda3/envs/comb/lib/python3.9/site-packages/pandas/core/indexes/base.py:5069: FutureWarning: Using a non-tuple sequence for multidimensional indexing is deprecated; use `arr[tuple(seq)]` instead of `arr[seq]`. In the future this will be interpreted as an array index, `arr[np.array(seq)]`, which will result either in an error or a different result.\n",
      "  result = getitem(key)\n",
      "/Users/kevbot/miniconda3/envs/comb/lib/python3.9/site-packages/pandas/core/indexes/base.py:5069: FutureWarning: Using a non-tuple sequence for multidimensional indexing is deprecated; use `arr[tuple(seq)]` instead of `arr[seq]`. In the future this will be interpreted as an array index, `arr[np.array(seq)]`, which will result either in an error or a different result.\n",
      "  result = getitem(key)\n"
     ]
    }
   ],
   "source": [
    "top_n_features_list = [10, 50, 100, 200]\n",
    "n_estimators_list = [100]\n",
    "min_samples_leaf_list = [20] #, 2, 5]\n",
    "max_depth_list = [10]\n",
    "res_list = []\n",
    "i = 0\n",
    "random_state = 0\n",
    "\n",
    "df_fps = pd.read_csv(f\"./descriptors/fp_nbits_rad2_typerdkit/df_fp_nbits{32}_rad2_typerdkit\")\n",
    "for top_n_features in top_n_features_list:\n",
    "    for n_estimators in n_estimators_list:\n",
    "        for min_samp in min_samples_leaf_list:\n",
    "            for max_depth in max_depth_list:\n",
    "                i += 1\n",
    "                print(f\"{i}\\nn feat{top_n_features}\\nn est {n_estimators}\\nmin samp {min_samp}\\nmax depth {max_depth}\")\n",
    "                \n",
    "                top_features = [*df_feat_imp.loc[:top_n_features, \"Feature\"]]\n",
    "                tm_models = [GradientBoostingRegressor(n_estimators=n_estimators, min_samples_leaf=min_samp, max_depth=max_depth) for i in range(len(mm.models))] #, random_state=random_state, max_depth=max_depth, min_samples_leaf=min_samp\n",
    "                scalers = [{\"x\": StandardScaler(), \"y\": StandardScaler()} for i in range(len(mm.models))]\n",
    "                \n",
    "                # Fit tm\n",
    "                df_features = pd.concat([df_fps.loc[:, [str(i) for i in range(0, nbits)]], df_mord, mm.df_input.loc[:, [\"pm\", \"smiles_polymer\"]]], axis=1)\n",
    "                \n",
    "                df_tm_train = pd.DataFrame()\n",
    "                for mi, model in enumerate(tm_models):  \n",
    "                    df_train = mm.models[mi].df_train.copy()\n",
    "                    df_train = df_train[~df_train[\"Tm\"].isna()]\n",
    "\n",
    "                    y_train = df_train[\"Tm\"].to_frame()\n",
    "                    X_train = pd.DataFrame(columns = top_features)\n",
    "\n",
    "                    for _, row in df_train.iterrows():\n",
    "                        X_train = pd.concat([X_train, df_features.loc[df_features[\"smiles_polymer\"] == row.smiles_polymer, top_features].iloc[0, :].to_frame().T])\n",
    "\n",
    "                    X_train = X_train.loc[:, top_features].reset_index(drop=True)\n",
    "                    y_train = y_train.reset_index(drop=True)\n",
    "                    X_train = X_train[~y_train.Tm.isna()]\n",
    "                    y_train = y_train[~y_train.Tm.isna()]\n",
    "                    ###\n",
    "                    ###\n",
    "                    ###\n",
    "                    # TODO this could be bad when testing, if top_features changes\n",
    "                    ###\n",
    "                    ###\n",
    "                    ###\n",
    "                    X_train = X_train.drop(columns=X_train.columns[[X_train.isna().any()]])\n",
    "\n",
    "                    # X_cols = X_train.columns\n",
    "                    # y_cols = y_train.columns\n",
    "                    X_train = scalers[mi][\"x\"].fit_transform(X_train)\n",
    "                    y_train = scalers[mi][\"y\"].fit_transform(y_train)\n",
    "                    # X_train = pd.DataFrame(X_train, columns=X_cols)\n",
    "                    # y_train = pd.DataFrame(y_train, columns=y_cols)\n",
    "\n",
    "                    model.fit(X_train, np.ravel(y_train))\n",
    "                    y_pred = model.predict(X_train)\n",
    "\n",
    "                    df = pd.DataFrame(\n",
    "                        zip([i[0] for i in scalers[mi][\"y\"].inverse_transform(y_train)], [i[0] for i in scalers[mi][\"y\"].inverse_transform(y_pred.reshape(-1, 1))]),\n",
    "                        columns=[\"Tm\", \"Tm_pred\"]\n",
    "                    )\n",
    "\n",
    "                    df[\"model_id\"] = str(mi)\n",
    "                    df_tm_train = pd.concat([df_tm_train, df])\n",
    "\n",
    "                # Predict on validate\n",
    "                df_tm_preds = pd.DataFrame()\n",
    "                for mi, model in enumerate(tm_models):\n",
    "                    df_val = mm.models[mi].df_validate.copy()\n",
    "                    df_val = df_val[~df_val[\"Tm\"].isna()]\n",
    "\n",
    "                    y_val = df_val[\"Tm\"].to_frame()\n",
    "                    X_val = pd.DataFrame(columns = top_features)\n",
    "\n",
    "                    for _, row in df_val.iterrows():\n",
    "                        X_val = pd.concat([X_val, df_features.loc[df_features[\"smiles_polymer\"] == row.smiles_polymer, top_features].iloc[0, :].to_frame().T])\n",
    "\n",
    "                    X_val = X_val.loc[:, top_features].reset_index(drop=True)\n",
    "                    y_val = y_val.reset_index(drop=True)\n",
    "\n",
    "                #     X_cols = X_val.columns\n",
    "                #     y_cols = y_val.columns\n",
    "                    X_val = scalers[mi][\"x\"].transform(X_val)\n",
    "                    y_val = scalers[mi][\"y\"].transform(y_val)\n",
    "                    # X_val = pd.DataFrame(X_val, columns=X_cols)\n",
    "                    # y_val = pd.DataFrame(y_val, columns=y_cols)\n",
    "\n",
    "                    y_pred =[i[0] for i in scalers[mi][\"y\"].inverse_transform(model.predict(X_val).reshape(-1, 1))]\n",
    "                    y_val = [i[0] for i in scalers[mi][\"y\"].inverse_transform(y_val.reshape(-1, 1))]\n",
    "\n",
    "                    df = pd.DataFrame(zip(y_val, y_pred), columns=[\"Tm\", \"Tm_pred\"])\n",
    "                    df[\"model_id\"] = str(mi)\n",
    "\n",
    "                    df_tm_preds = pd.concat([df_tm_preds, df])\n",
    "                \n",
    "                pred_col = \"Tm\"\n",
    "                df_to_calc = df_tm_preds\n",
    "                mae_pred = np.mean(np.abs((df_to_calc[pred_col].values - df_to_calc[pred_col+\"_pred\"].values)))\n",
    "                rmse_pred = np.sqrt(np.mean((df_to_calc[pred_col].values - df_to_calc[pred_col+\"_pred\"].values)**2))\n",
    "                r2_pred = r2_score(df_to_calc[pred_col].values, df_to_calc[f\"{pred_col}_pred\"].values)\n",
    "                \n",
    "                df_to_calc = df_tm_train\n",
    "                rmse_train = np.sqrt(np.mean((df_to_calc[pred_col].values - df_to_calc[pred_col+\"_pred\"].values)**2))\n",
    "                mae_train = np.mean(np.abs((df_to_calc[pred_col].values - df_to_calc[pred_col+\"_pred\"].values)))\n",
    "                r2_train = r2_score(df_to_calc[pred_col].values, df_to_calc[f\"{pred_col}_pred\"].values)\n",
    "                \n",
    "                res_list += [[top_n_features, n_estimators, min_samp, max_depth, mae_pred, rmse_pred, r2_pred, mae_train, rmse_train, r2_train]]"
   ]
  },
  {
   "cell_type": "code",
   "execution_count": 21,
   "id": "5fee43e8-0146-45ed-93b0-4e4ac425f0b8",
   "metadata": {},
   "outputs": [],
   "source": [
    "df_res = pd.DataFrame(res_list, columns=[\"top_n_features\", \"n_estimators\", \"min_samp\", \"max_depth\", \"mae_pred\", \"rmse_pred\", \"r2_pred\", \"mae_train\", \"rmse_train\", \"r2_train\"])"
   ]
  },
  {
   "cell_type": "code",
   "execution_count": 22,
   "id": "aef361af-3d0a-4263-9da0-085a12d9a6b2",
   "metadata": {},
   "outputs": [
    {
     "data": {
      "text/html": [
       "<div>\n",
       "<style scoped>\n",
       "    .dataframe tbody tr th:only-of-type {\n",
       "        vertical-align: middle;\n",
       "    }\n",
       "\n",
       "    .dataframe tbody tr th {\n",
       "        vertical-align: top;\n",
       "    }\n",
       "\n",
       "    .dataframe thead th {\n",
       "        text-align: right;\n",
       "    }\n",
       "</style>\n",
       "<table border=\"1\" class=\"dataframe\">\n",
       "  <thead>\n",
       "    <tr style=\"text-align: right;\">\n",
       "      <th></th>\n",
       "      <th>top_n_features</th>\n",
       "      <th>n_estimators</th>\n",
       "      <th>min_samp</th>\n",
       "      <th>max_depth</th>\n",
       "      <th>mae_pred</th>\n",
       "      <th>rmse_pred</th>\n",
       "      <th>r2_pred</th>\n",
       "      <th>mae_train</th>\n",
       "      <th>rmse_train</th>\n",
       "      <th>r2_train</th>\n",
       "    </tr>\n",
       "  </thead>\n",
       "  <tbody>\n",
       "    <tr>\n",
       "      <th>0</th>\n",
       "      <td>10</td>\n",
       "      <td>100</td>\n",
       "      <td>20</td>\n",
       "      <td>10</td>\n",
       "      <td>13.651898</td>\n",
       "      <td>27.104287</td>\n",
       "      <td>0.847405</td>\n",
       "      <td>4.202564</td>\n",
       "      <td>8.860941</td>\n",
       "      <td>0.983691</td>\n",
       "    </tr>\n",
       "    <tr>\n",
       "      <th>1</th>\n",
       "      <td>50</td>\n",
       "      <td>100</td>\n",
       "      <td>20</td>\n",
       "      <td>10</td>\n",
       "      <td>14.027318</td>\n",
       "      <td>27.233171</td>\n",
       "      <td>0.845951</td>\n",
       "      <td>3.955113</td>\n",
       "      <td>8.024450</td>\n",
       "      <td>0.986625</td>\n",
       "    </tr>\n",
       "    <tr>\n",
       "      <th>2</th>\n",
       "      <td>100</td>\n",
       "      <td>100</td>\n",
       "      <td>20</td>\n",
       "      <td>10</td>\n",
       "      <td>13.574987</td>\n",
       "      <td>26.606539</td>\n",
       "      <td>0.852958</td>\n",
       "      <td>3.853422</td>\n",
       "      <td>7.857229</td>\n",
       "      <td>0.987177</td>\n",
       "    </tr>\n",
       "    <tr>\n",
       "      <th>3</th>\n",
       "      <td>200</td>\n",
       "      <td>100</td>\n",
       "      <td>20</td>\n",
       "      <td>10</td>\n",
       "      <td>13.725257</td>\n",
       "      <td>26.465172</td>\n",
       "      <td>0.854517</td>\n",
       "      <td>3.859863</td>\n",
       "      <td>7.872781</td>\n",
       "      <td>0.987126</td>\n",
       "    </tr>\n",
       "  </tbody>\n",
       "</table>\n",
       "</div>"
      ],
      "text/plain": [
       "   top_n_features  n_estimators  min_samp  max_depth   mae_pred  rmse_pred  \\\n",
       "0              10           100        20         10  13.651898  27.104287   \n",
       "1              50           100        20         10  14.027318  27.233171   \n",
       "2             100           100        20         10  13.574987  26.606539   \n",
       "3             200           100        20         10  13.725257  26.465172   \n",
       "\n",
       "    r2_pred  mae_train  rmse_train  r2_train  \n",
       "0  0.847405   4.202564    8.860941  0.983691  \n",
       "1  0.845951   3.955113    8.024450  0.986625  \n",
       "2  0.852958   3.853422    7.857229  0.987177  \n",
       "3  0.854517   3.859863    7.872781  0.987126  "
      ]
     },
     "execution_count": 22,
     "metadata": {},
     "output_type": "execute_result"
    }
   ],
   "source": [
    "df_res"
   ]
  },
  {
   "cell_type": "code",
   "execution_count": 98,
   "id": "5ee5edc1-3602-4576-b455-94631ae34f8c",
   "metadata": {},
   "outputs": [],
   "source": [
    "# df_res = pd.concat([df_res, df_res_1])\n",
    "df_res.to_csv(\"GB_scans/tm_top_features.csv\")"
   ]
  },
  {
   "cell_type": "code",
   "execution_count": 99,
   "id": "c62add6a-784e-4b71-b28d-29f3ec3adf16",
   "metadata": {},
   "outputs": [],
   "source": [
    "df_res.to_csv(\"GB_scans/Tm_max_depth.csv\")"
   ]
  },
  {
   "cell_type": "code",
   "execution_count": 82,
   "id": "ebe4d73c-3ed6-40d8-9bb4-2c5cac84ebf7",
   "metadata": {},
   "outputs": [
    {
     "data": {
      "text/plain": [
       "<AxesSubplot:xlabel='n_estimators', ylabel='mae_pred'>"
      ]
     },
     "execution_count": 82,
     "metadata": {},
     "output_type": "execute_result"
    },
    {
     "data": {
      "image/png": "[encoded data removed]",
      "text/plain": [
       "<Figure size 640x480 with 1 Axes>"
      ]
     },
     "metadata": {},
     "output_type": "display_data"
    }
   ],
   "source": [
    "sns.scatterplot(x=\"n_estimators\", y=\"mae_pred\", data=df_res)"
   ]
  },
  {
   "cell_type": "code",
   "execution_count": 84,
   "id": "467acfc8-18c9-41ee-b12d-c08464765dab",
   "metadata": {},
   "outputs": [],
   "source": [
    "df_res.to_csv(\"GB_scans/Tm_n_estimators.csv\")"
   ]
  },
  {
   "cell_type": "code",
   "execution_count": 86,
   "id": "b106ff48-9b01-4d99-8321-ca96dc896e88",
   "metadata": {},
   "outputs": [
    {
     "data": {
      "text/html": [
       "<div>\n",
       "<style scoped>\n",
       "    .dataframe tbody tr th:only-of-type {\n",
       "        vertical-align: middle;\n",
       "    }\n",
       "\n",
       "    .dataframe tbody tr th {\n",
       "        vertical-align: top;\n",
       "    }\n",
       "\n",
       "    .dataframe thead th {\n",
       "        text-align: right;\n",
       "    }\n",
       "</style>\n",
       "<table border=\"1\" class=\"dataframe\">\n",
       "  <thead>\n",
       "    <tr style=\"text-align: right;\">\n",
       "      <th></th>\n",
       "      <th>top_n_features</th>\n",
       "      <th>n_estimators</th>\n",
       "      <th>min_samp</th>\n",
       "      <th>max_depth</th>\n",
       "      <th>mae_pred</th>\n",
       "      <th>rmse_pred</th>\n",
       "      <th>r2_pred</th>\n",
       "      <th>mae_train</th>\n",
       "      <th>rmse_train</th>\n",
       "      <th>r2_train</th>\n",
       "    </tr>\n",
       "  </thead>\n",
       "  <tbody>\n",
       "    <tr>\n",
       "      <th>1</th>\n",
       "      <td>30</td>\n",
       "      <td>100</td>\n",
       "      <td>20</td>\n",
       "      <td>5</td>\n",
       "      <td>13.853813</td>\n",
       "      <td>26.465113</td>\n",
       "      <td>0.854517</td>\n",
       "      <td>5.265951</td>\n",
       "      <td>9.337967</td>\n",
       "      <td>0.981888</td>\n",
       "    </tr>\n",
       "    <tr>\n",
       "      <th>2</th>\n",
       "      <td>30</td>\n",
       "      <td>75</td>\n",
       "      <td>20</td>\n",
       "      <td>5</td>\n",
       "      <td>13.990541</td>\n",
       "      <td>26.399688</td>\n",
       "      <td>0.855236</td>\n",
       "      <td>5.711104</td>\n",
       "      <td>10.046610</td>\n",
       "      <td>0.979035</td>\n",
       "    </tr>\n",
       "    <tr>\n",
       "      <th>2</th>\n",
       "      <td>30</td>\n",
       "      <td>75</td>\n",
       "      <td>20</td>\n",
       "      <td>5</td>\n",
       "      <td>13.990541</td>\n",
       "      <td>26.399688</td>\n",
       "      <td>0.855236</td>\n",
       "      <td>5.711104</td>\n",
       "      <td>10.046610</td>\n",
       "      <td>0.979035</td>\n",
       "    </tr>\n",
       "    <tr>\n",
       "      <th>2</th>\n",
       "      <td>30</td>\n",
       "      <td>500</td>\n",
       "      <td>20</td>\n",
       "      <td>5</td>\n",
       "      <td>14.041059</td>\n",
       "      <td>27.361778</td>\n",
       "      <td>0.844492</td>\n",
       "      <td>3.425185</td>\n",
       "      <td>7.231520</td>\n",
       "      <td>0.989138</td>\n",
       "    </tr>\n",
       "    <tr>\n",
       "      <th>1</th>\n",
       "      <td>30</td>\n",
       "      <td>300</td>\n",
       "      <td>20</td>\n",
       "      <td>5</td>\n",
       "      <td>14.052109</td>\n",
       "      <td>27.148249</td>\n",
       "      <td>0.846910</td>\n",
       "      <td>3.918869</td>\n",
       "      <td>7.532309</td>\n",
       "      <td>0.988215</td>\n",
       "    </tr>\n",
       "    <tr>\n",
       "      <th>0</th>\n",
       "      <td>30</td>\n",
       "      <td>200</td>\n",
       "      <td>20</td>\n",
       "      <td>5</td>\n",
       "      <td>14.070015</td>\n",
       "      <td>27.074050</td>\n",
       "      <td>0.847746</td>\n",
       "      <td>4.396237</td>\n",
       "      <td>7.996865</td>\n",
       "      <td>0.986717</td>\n",
       "    </tr>\n",
       "    <tr>\n",
       "      <th>1</th>\n",
       "      <td>30</td>\n",
       "      <td>50</td>\n",
       "      <td>20</td>\n",
       "      <td>5</td>\n",
       "      <td>14.096144</td>\n",
       "      <td>26.031016</td>\n",
       "      <td>0.859251</td>\n",
       "      <td>6.516968</td>\n",
       "      <td>11.222573</td>\n",
       "      <td>0.973839</td>\n",
       "    </tr>\n",
       "    <tr>\n",
       "      <th>1</th>\n",
       "      <td>30</td>\n",
       "      <td>50</td>\n",
       "      <td>20</td>\n",
       "      <td>5</td>\n",
       "      <td>14.096144</td>\n",
       "      <td>26.031016</td>\n",
       "      <td>0.859251</td>\n",
       "      <td>6.516968</td>\n",
       "      <td>11.222573</td>\n",
       "      <td>0.973839</td>\n",
       "    </tr>\n",
       "    <tr>\n",
       "      <th>0</th>\n",
       "      <td>30</td>\n",
       "      <td>25</td>\n",
       "      <td>20</td>\n",
       "      <td>5</td>\n",
       "      <td>16.722748</td>\n",
       "      <td>26.692841</td>\n",
       "      <td>0.852003</td>\n",
       "      <td>10.490265</td>\n",
       "      <td>15.307353</td>\n",
       "      <td>0.951330</td>\n",
       "    </tr>\n",
       "    <tr>\n",
       "      <th>0</th>\n",
       "      <td>30</td>\n",
       "      <td>25</td>\n",
       "      <td>20</td>\n",
       "      <td>5</td>\n",
       "      <td>16.722748</td>\n",
       "      <td>26.692841</td>\n",
       "      <td>0.852003</td>\n",
       "      <td>10.490265</td>\n",
       "      <td>15.307353</td>\n",
       "      <td>0.951330</td>\n",
       "    </tr>\n",
       "    <tr>\n",
       "      <th>0</th>\n",
       "      <td>30</td>\n",
       "      <td>1</td>\n",
       "      <td>20</td>\n",
       "      <td>5</td>\n",
       "      <td>48.566114</td>\n",
       "      <td>63.999562</td>\n",
       "      <td>0.149219</td>\n",
       "      <td>48.020039</td>\n",
       "      <td>63.406542</td>\n",
       "      <td>0.164913</td>\n",
       "    </tr>\n",
       "  </tbody>\n",
       "</table>\n",
       "</div>"
      ],
      "text/plain": [
       "   top_n_features  n_estimators  min_samp  max_depth   mae_pred  rmse_pred  \\\n",
       "1              30           100        20          5  13.853813  26.465113   \n",
       "2              30            75        20          5  13.990541  26.399688   \n",
       "2              30            75        20          5  13.990541  26.399688   \n",
       "2              30           500        20          5  14.041059  27.361778   \n",
       "1              30           300        20          5  14.052109  27.148249   \n",
       "0              30           200        20          5  14.070015  27.074050   \n",
       "1              30            50        20          5  14.096144  26.031016   \n",
       "1              30            50        20          5  14.096144  26.031016   \n",
       "0              30            25        20          5  16.722748  26.692841   \n",
       "0              30            25        20          5  16.722748  26.692841   \n",
       "0              30             1        20          5  48.566114  63.999562   \n",
       "\n",
       "    r2_pred  mae_train  rmse_train  r2_train  \n",
       "1  0.854517   5.265951    9.337967  0.981888  \n",
       "2  0.855236   5.711104   10.046610  0.979035  \n",
       "2  0.855236   5.711104   10.046610  0.979035  \n",
       "2  0.844492   3.425185    7.231520  0.989138  \n",
       "1  0.846910   3.918869    7.532309  0.988215  \n",
       "0  0.847746   4.396237    7.996865  0.986717  \n",
       "1  0.859251   6.516968   11.222573  0.973839  \n",
       "1  0.859251   6.516968   11.222573  0.973839  \n",
       "0  0.852003  10.490265   15.307353  0.951330  \n",
       "0  0.852003  10.490265   15.307353  0.951330  \n",
       "0  0.149219  48.020039   63.406542  0.164913  "
      ]
     },
     "execution_count": 86,
     "metadata": {},
     "output_type": "execute_result"
    }
   ],
   "source": [
    "df_res.sort_values(by=[\"mae_pred\"])"
   ]
  },
  {
   "cell_type": "code",
   "execution_count": null,
   "id": "19fb0dfd-db0c-4891-84ad-47596e6bfa40",
   "metadata": {},
   "outputs": [],
   "source": []
  }
 ],
 "metadata": {
  "kernelspec": {
   "display_name": "comb",
   "language": "python",
   "name": "python3"
  },
  "language_info": {
   "codemirror_mode": {
    "name": "ipython",
    "version": 3
   },
   "file_extension": ".py",
   "mimetype": "text/x-python",
   "name": "python",
   "nbconvert_exporter": "python",
   "pygments_lexer": "ipython3",
   "version": "3.9.7"
  }
 },
 "nbformat": 4,
 "nbformat_minor": 5
}
